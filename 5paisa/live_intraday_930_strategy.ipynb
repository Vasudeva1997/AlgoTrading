{
 "cells": [
  {
   "cell_type": "code",
   "execution_count": 1,
   "id": "4e8937cf",
   "metadata": {},
   "outputs": [],
   "source": [
    "from py5paisa import FivePaisaClient\n",
    "from py5paisa.order import Order, OrderType, Exchange, Bo_co_order\n",
    "import time\n",
    "import math\n",
    "import pandas as pd\n",
    "import warnings\n",
    "from datetime import datetime"
   ]
  },
  {
   "cell_type": "code",
   "execution_count": 2,
   "id": "ce8f2e17",
   "metadata": {},
   "outputs": [],
   "source": [
    "warnings.filterwarnings(\"ignore\", category=FutureWarning)"
   ]
  },
  {
   "cell_type": "code",
   "execution_count": 3,
   "id": "11aa1bf4",
   "metadata": {},
   "outputs": [
    {
     "name": "stdout",
     "output_type": "stream",
     "text": [
      " 12:59:40 | Logged in!!\n"
     ]
    }
   ],
   "source": [
    "cred = {\n",
    "    \"APP_NAME\": \"5P56409084\",\n",
    "    \"APP_SOURCE\": \"9217\",\n",
    "    \"USER_ID\": \"pybeQPEbjju\",\n",
    "    \"PASSWORD\": \"AESDZQGqyAa\",\n",
    "    \"USER_KEY\": \"542GTEZguBbLERUXRZe26rLvfWU2X2KD\",\n",
    "    \"ENCRYPTION_KEY\": \"l8sRTIsjl1JhUrz8X48XQJzKGI4k0gft\",\n",
    "}\n",
    "client = FivePaisaClient(\n",
    "    email=\"vasuappliedai@gmail.com\", passwd=\"Vasudeva@1\", dob=\"19981218\", cred=cred\n",
    ")\n",
    "client.login()"
   ]
  },
  {
   "cell_type": "code",
   "execution_count": 3,
   "id": "8e72f7d1",
   "metadata": {},
   "outputs": [
    {
     "name": "stdout",
     "output_type": "stream",
     "text": [
      " 09:25:34 | Logged in!!\n"
     ]
    }
   ],
   "source": [
    "cred = {\n",
    "    \"APP_NAME\": \"5P57752064\",\n",
    "    \"APP_SOURCE\": \"9322\",\n",
    "    \"USER_ID\": \"5eRLuL81EDc\",\n",
    "    \"PASSWORD\": \"mUG0xZduuO5\",\n",
    "    \"USER_KEY\": \"BkVgrzXhLIUJbSYqqGIxNpyXcTtpSh0s\",\n",
    "    \"ENCRYPTION_KEY\": \"pecRHVbBoroAavcjObdA6ITkK0ZmhSjq\",\n",
    "}\n",
    "client = FivePaisaClient(\n",
    "    email=\"chanderg16@gmail.com\", passwd=\"5321@rvsA\", dob=\"19720316\", cred=cred\n",
    ")\n",
    "client.login()"
   ]
  },
  {
   "cell_type": "code",
   "execution_count": 4,
   "id": "144ed611",
   "metadata": {
    "scrolled": true
   },
   "outputs": [
    {
     "name": "stderr",
     "output_type": "stream",
     "text": [
      "C:\\Users\\Public\\Documents\\Wondershare\\CreatorTemp\\ipykernel_5352\\3110652694.py:1: DtypeWarning: Columns (9) have mixed types. Specify dtype option on import or set low_memory=False.\n",
      "  script_df = pd.read_csv(\"scripmaster-csv-format.csv\")\n"
     ]
    }
   ],
   "source": [
    "script_df = pd.read_csv(\"scripmaster-csv-format.csv\")"
   ]
  },
  {
   "cell_type": "code",
   "execution_count": 5,
   "id": "64cc2968",
   "metadata": {},
   "outputs": [
    {
     "data": {
      "text/plain": [
       "(9, 27)"
      ]
     },
     "execution_count": 5,
     "metadata": {},
     "output_type": "execute_result"
    }
   ],
   "source": [
    "current_hour = datetime.today().hour\n",
    "current_minute = datetime.today().minute\n",
    "current_hour,current_minute"
   ]
  },
  {
   "cell_type": "code",
   "execution_count": 6,
   "id": "4affbc9e",
   "metadata": {},
   "outputs": [
    {
     "name": "stdout",
     "output_type": "stream",
     "text": [
      "Banknifty at 9:30am  38000.0\n"
     ]
    },
    {
     "data": {
      "text/plain": [
       "(42185, 42186)"
      ]
     },
     "execution_count": 6,
     "metadata": {},
     "output_type": "execute_result"
    }
   ],
   "source": [
    "nifty_script_code = 999920000\n",
    "banknifty_script_code = 999920005\n",
    "given_date = datetime.today().strftime(\"%Y-%m-%d\")\n",
    "strikePrice = None\n",
    "if(current_hour == 9 and current_minute <=30):\n",
    "    strikePrice = client.historical_data(\"N\", \"C\", banknifty_script_code, \"1m\", given_date, given_date).tail(1)[\"Open\"].iloc[0]\n",
    "else:\n",
    "    strikePrice = client.historical_data(\"N\", \"C\", banknifty_script_code, \"1m\", given_date, given_date)[\n",
    "        \"Open\"\n",
    "    ].loc[15]\n",
    "strikePrice = round(strikePrice / 1000, 1) * 1000\n",
    "print(\"Banknifty at 9:30am \", strikePrice)\n",
    "expiry = \"20220407\"\n",
    "symbol = \"BANKNIFTY 07 Apr 2022\"\n",
    "call_symbol = symbol + \" CE \" + strikePrice.__str__() + \"0\"\n",
    "put_symbol = symbol + \" PE \" + strikePrice.__str__() + \"0\"\n",
    "call_script_code = script_df[script_df[\"FullName\"]\n",
    "                             == call_symbol].iloc[0][\"Scripcode\"].__int__()\n",
    "put_script_code = script_df[script_df[\"FullName\"]\n",
    "                            == put_symbol].iloc[0][\"Scripcode\"].__int__()\n",
    "call_script_code,put_script_code"
   ]
  },
  {
   "cell_type": "code",
   "execution_count": 8,
   "id": "de4df28b",
   "metadata": {},
   "outputs": [],
   "source": [
    "req_list = [\n",
    "    {\n",
    "        \"Exch\": \"N\",\n",
    "        \"ExchType\": \"D\",\n",
    "        \"Symbol\": call_symbol,\n",
    "        \"Expiry\": expiry,\n",
    "        \"StrikePrice\": strikePrice,\n",
    "        \"OptionType\": \"CE\",\n",
    "    },\n",
    "    {\n",
    "        \"Exch\": \"N\",\n",
    "        \"ExchType\": \"D\",\n",
    "        \"Symbol\": put_symbol,\n",
    "        \"Expiry\": expiry,\n",
    "        \"StrikePrice\": strikePrice,\n",
    "        \"OptionType\": \"PE\",\n",
    "    },\n",
    "]\n"
   ]
  },
  {
   "cell_type": "code",
   "execution_count": 9,
   "id": "bbfce35e",
   "metadata": {},
   "outputs": [],
   "source": [
    "def get_order_book():\n",
    "    time.sleep(3)\n",
    "    order_book =client.order_book()\n",
    "    if order_book is None:\n",
    "        for i in range(3):\n",
    "            time.sleep(5)\n",
    "            order_book =client.order_book()\n",
    "            if order_book is not None:\n",
    "                return order_book\n",
    "    return order_book\n",
    "\n",
    "def get_order_id(broker_order_id):\n",
    "    order_book = get_order_book()\n",
    "    for order in order_book:\n",
    "        if(order[\"BrokerOrderId\"] == broker_order_id):\n",
    "            return order\n",
    "    return None\n",
    "\n",
    "\n",
    "def get_pending_order_by_script(script_code):\n",
    "    order_book = get_order_book()\n",
    "    for order in order_book:\n",
    "        if(order[\"PendingQty\"] > 0 and order[\"ScripCode\"] == script_code and order[\"OrderStatus\"] != \"Cancelled\"):\n",
    "            return order\n",
    "    return None\n",
    "\n",
    "\n",
    "def place_co_bo(order_type, script_code, quantity, price, stop_loss):\n",
    "    test_order = Bo_co_order(\n",
    "        script_code,\n",
    "        quantity,\n",
    "        price,\n",
    "        0,\n",
    "        0,\n",
    "        order_type,\n",
    "        \"N\",\n",
    "        \"D\",\n",
    "        \"p\",\n",
    "        stop_loss + 0.5,\n",
    "        stop_loss,\n",
    "    )\n",
    "    order_broker_id = client.bo_order(test_order)[\"BrokerOrderIDNormal\"]\n",
    "    time.sleep(5)\n",
    "    return get_order_id(order_broker_id)\n",
    "\n",
    "\n",
    "def modify_sl_co_bo(script_code, quantity, stop_loss, exchange_id):\n",
    "    test_order = test_order = Order(\n",
    "        order_type=\"B\",\n",
    "        scrip_code=script_code,\n",
    "        quantity=quantity,\n",
    "        price=0,\n",
    "        is_intraday=True,\n",
    "        exchange=\"N\",\n",
    "        exchange_segment=\"D\",\n",
    "        exch_order_id=exchange_id,\n",
    "        stoploss_price=stop_loss,\n",
    "        is_stoploss_order=True,\n",
    "    )\n",
    "    return client.modify_order(test_order)\n",
    "\n",
    "\n",
    "def get_last_traded_prices():\n",
    "    market_data = client.fetch_market_feed([req_list[0]])[\"Data\"]\n",
    "    call_ltp = market_data[0][\"LastRate\"]\n",
    "    market_data = client.fetch_market_feed([req_list[1]])[\"Data\"]\n",
    "    put_ltp = market_data[0][\"LastRate\"]\n",
    "    return math.ceil(call_ltp), math.ceil(put_ltp)\n",
    "\n",
    "\n",
    "def get_requested_ltp():\n",
    "    market_data = client.fetch_market_feed(req_list)[\"Data\"]\n",
    "    return math.floor(market_data[0][\"LastRate\"])\n",
    "\n",
    "\n",
    "def if_order_executed(exchange_id):\n",
    "    order_book = get_order_book()\n",
    "    for order in order_book:\n",
    "        if(order[\"ExchOrderID\"] == exchange_id and order[\"OrderStatus\"] == \"Fully Executed\"):\n",
    "            return True\n",
    "    return False\n",
    "\n",
    "\n",
    "def wait_for_order_execution():\n",
    "    while_flag = True\n",
    "    while while_flag:\n",
    "        if if_order_executed(call_order_id):\n",
    "            return call_script_code\n",
    "        elif if_order_executed(put_order_id):\n",
    "            return put_script_code\n",
    "        else:\n",
    "            time.sleep(60)\n",
    "\n"
   ]
  },
  {
   "cell_type": "code",
   "execution_count": 10,
   "id": "a14d51ca",
   "metadata": {},
   "outputs": [
    {
     "name": "stdout",
     "output_type": "stream",
     "text": [
      " 09:27:25 | Success\n",
      " 09:27:25 | Success\n",
      "Put Entry and Stoploss  412 495\n",
      "Call Entry and Stoploss  394 473\n"
     ]
    }
   ],
   "source": [
    "call_entry, _ = get_last_traded_prices()\n",
    "call_stoploss, _ = math.ceil(call_entry*1.2)\n",
    "call_order_id = place_co_bo(\"S\", call_script_code,\n",
    "                            25, call_entry, call_stoploss)[\"ExchOrderID\"]\n",
    "time.sleep(3)"
   ]
  },
  {
   "cell_type": "code",
   "execution_count": 11,
   "id": "979e52ed",
   "metadata": {},
   "outputs": [
    {
     "name": "stdout",
     "output_type": "stream",
     "text": [
      " 09:27:29 | \n",
      " 09:27:38 | \n"
     ]
    },
    {
     "data": {
      "text/plain": [
       "('1400000005110192', '1600000004485799')"
      ]
     },
     "execution_count": 11,
     "metadata": {},
     "output_type": "execute_result"
    }
   ],
   "source": [
    "_, put_entry = get_last_traded_prices()\n",
    "put_stoploss = math.ceil(put_entry*1.2)\n",
    "print(\"Call Entry and Stoploss \", call_entry, call_stoploss)\n",
    "print(\"Put Entry and Stoploss \", put_entry, put_stoploss)\n",
    "put_order_id = place_co_bo(\"S\", put_script_code, 25,\n",
    "                           put_entry, put_stoploss)[\"ExchOrderID\"]\n",
    "print(\"Executed Call and Put Exchange ID\")\n",
    "call_order_id,put_order_id"
   ]
  },
  {
   "cell_type": "code",
   "execution_count": 12,
   "id": "2e4ad0cc",
   "metadata": {},
   "outputs": [],
   "source": [
    "while(if_order_executed(call_order_id) == False):\n",
    "    time.sleep(5)\n",
    "        \n",
    "while(if_order_executed(put_order_id) == False):\n",
    "    time.sleep(5)"
   ]
  },
  {
   "cell_type": "code",
   "execution_count": 13,
   "id": "eabf8405",
   "metadata": {},
   "outputs": [],
   "source": [
    "#uncomment this order is successful but it is unable to fetch the pending order\n",
    "# call_order_id=\"1500000006594652\"\n",
    "# put_order_id=\"1700000006839716\""
   ]
  },
  {
   "cell_type": "code",
   "execution_count": 14,
   "id": "51491501",
   "metadata": {},
   "outputs": [
    {
     "ename": "TypeError",
     "evalue": "'NoneType' object is not subscriptable",
     "output_type": "error",
     "traceback": [
      "\u001b[1;31m---------------------------------------------------------------------------\u001b[0m",
      "\u001b[1;31mTypeError\u001b[0m                                 Traceback (most recent call last)",
      "\u001b[1;32me:\\AlgoTrading\\5paisa\\live_intraday_930_strategy.ipynb Cell 14'\u001b[0m in \u001b[0;36m<cell line: 1>\u001b[1;34m()\u001b[0m\n\u001b[1;32m----> <a href='vscode-notebook-cell:/e%3A/AlgoTrading/5paisa/live_intraday_930_strategy.ipynb#ch0000013?line=0'>1</a>\u001b[0m call_order_id \u001b[39m=\u001b[39m get_pending_order_by_script(call_script_code)[\u001b[39m\"\u001b[39;49m\u001b[39mExchOrderID\u001b[39;49m\u001b[39m\"\u001b[39;49m]\n\u001b[0;32m      <a href='vscode-notebook-cell:/e%3A/AlgoTrading/5paisa/live_intraday_930_strategy.ipynb#ch0000013?line=1'>2</a>\u001b[0m put_order_id \u001b[39m=\u001b[39m get_pending_order_by_script(put_script_code)[\u001b[39m\"\u001b[39m\u001b[39mExchOrderID\u001b[39m\u001b[39m\"\u001b[39m]\n\u001b[0;32m      <a href='vscode-notebook-cell:/e%3A/AlgoTrading/5paisa/live_intraday_930_strategy.ipynb#ch0000013?line=4'>5</a>\u001b[0m \u001b[39mprint\u001b[39m(\u001b[39m\"\u001b[39m\u001b[39mCall Order ID and PUT Order ID \u001b[39m\u001b[39m\"\u001b[39m, call_order_id, put_order_id)\n",
      "\u001b[1;31mTypeError\u001b[0m: 'NoneType' object is not subscriptable"
     ]
    }
   ],
   "source": [
    "call_order_id = get_pending_order_by_script(call_script_code)[\"ExchOrderID\"]\n",
    "put_order_id = get_pending_order_by_script(put_script_code)[\"ExchOrderID\"]\n",
    "\n",
    "\n",
    "print(\"Call Order ID and PUT Order ID \", call_order_id, put_order_id)"
   ]
  },
  {
   "cell_type": "code",
   "execution_count": 13,
   "id": "e591d967",
   "metadata": {},
   "outputs": [],
   "source": [
    "sl_hit_script = wait_for_order_execution()\n",
    "\n",
    "order_id = None\n",
    "script_code = None\n",
    "req_list = None\n",
    "if sl_hit_script == call_script_code:\n",
    "    script_code = put_script_code\n",
    "    order_id = put_order_id\n",
    "    req_list = [{\n",
    "        \"Exch\": \"N\",\n",
    "        \"ExchType\": \"D\",\n",
    "        \"Symbol\": put_symbol,\n",
    "        \"Expiry\": expiry,\n",
    "        \"StrikePrice\": strikePrice,\n",
    "        \"OptionType\": \"PE\",\n",
    "    }]\n",
    "if sl_hit_script == put_script_code:\n",
    "    script_code = call_script_code\n",
    "    order_id = call_order_id\n",
    "    req_list = [{\n",
    "        \"Exch\": \"N\",\n",
    "        \"ExchType\": \"D\",\n",
    "        \"Symbol\": call_symbol,\n",
    "        \"Expiry\": expiry,\n",
    "        \"StrikePrice\": strikePrice,\n",
    "        \"OptionType\": \"CE\",\n",
    "    }]"
   ]
  },
  {
   "cell_type": "code",
   "execution_count": 15,
   "id": "53f89441",
   "metadata": {},
   "outputs": [],
   "source": [
    "# order_id = \"1600000005411725\"\n",
    "# script_code = 42186\n",
    "# req_list = [{\n",
    "#         \"Exch\": \"N\",\n",
    "#         \"ExchType\": \"D\",\n",
    "#         \"Symbol\": call_symbol,\n",
    "#         \"Expiry\": expiry,\n",
    "#         \"StrikePrice\": strikePrice,\n",
    "#         \"OptionType\": \"CE\",\n",
    "#     }]\n"
   ]
  },
  {
   "cell_type": "code",
   "execution_count": 16,
   "id": "6ee2f9a5",
   "metadata": {},
   "outputs": [
    {
     "name": "stdout",
     "output_type": "stream",
     "text": [
      " 09:44:22 | Success\n",
      "LTP & New Stoploss  535 644\n"
     ]
    }
   ],
   "source": [
    "new_stop_loss = math.ceil(get_requested_ltp()*1.2)\n",
    "modify_sl_co_bo(script_code, 25, new_stop_loss, order_id)\n",
    "print(\"LTP & New Stoploss \", math.ceil(new_stop_loss*0.83),new_stop_loss)    "
   ]
  },
  {
   "cell_type": "code",
   "execution_count": 19,
   "id": "d2317506",
   "metadata": {},
   "outputs": [
    {
     "data": {
      "text/plain": [
       "363"
      ]
     },
     "execution_count": 15,
     "metadata": {},
     "output_type": "execute_result"
    }
   ],
   "source": [
    "new_stop_loss"
   ]
  },
  {
   "cell_type": "code",
   "execution_count": 20,
   "id": "bcd8f9f4",
   "metadata": {},
   "outputs": [],
   "source": [
    "def wait_for_exit(script_code, order_id,new_stop_loss):\n",
    "    while(if_order_executed(order_id) == False):\n",
    "        df = client.historical_data(\n",
    "            'N', 'D', script_code, '1m', given_date, given_date).tail(1)\n",
    "        low_price = df[\"Low\"].iloc[0]\n",
    "        if low_price < new_stop_loss*0.75:\n",
    "            new_stop_loss = math.ceil(low_price*1.2)\n",
    "            print(\"Modified Stop Loss price, Low Stop loss price, Current Time \",new_stop_loss, low_price, datetime.now())\n",
    "            modify_sl_co_bo(script_code, 25, new_stop_loss, order_id)\n",
    "        time.sleep(60)\n",
    "\n",
    "wait_for_exit(script_code, order_id,new_stop_loss)"
   ]
  },
  {
   "cell_type": "code",
   "execution_count": 21,
   "id": "cc5fb9eb",
   "metadata": {},
   "outputs": [
    {
     "name": "stdout",
     "output_type": "stream",
     "text": [
      " 14:58:30 | Success\n"
     ]
    },
    {
     "data": {
      "text/plain": [
       "{'BrokerOrderID': 678115408,\n",
       " 'ClientCode': '57752064',\n",
       " 'Exch': 'N',\n",
       " 'ExchOrderID': '1700000004077919',\n",
       " 'ExchType': 'D',\n",
       " 'LocalOrderID': 10,\n",
       " 'Message': 'Success',\n",
       " 'RMSResponseCode': 0,\n",
       " 'ScripCode': 42095,\n",
       " 'Status': 0,\n",
       " 'Time': '/Date(1648751400000+0530)/'}"
      ]
     },
     "execution_count": 21,
     "metadata": {},
     "output_type": "execute_result"
    }
   ],
   "source": []
  },
  {
   "cell_type": "code",
   "execution_count": null,
   "id": "67b46b96",
   "metadata": {},
   "outputs": [],
   "source": []
  }
 ],
 "metadata": {
  "kernelspec": {
   "display_name": "Python 3 (ipykernel)",
   "language": "python",
   "name": "python3"
  },
  "language_info": {
   "codemirror_mode": {
    "name": "ipython",
    "version": 3
   },
   "file_extension": ".py",
   "mimetype": "text/x-python",
   "name": "python",
   "nbconvert_exporter": "python",
   "pygments_lexer": "ipython3",
   "version": "3.10.2"
  }
 },
 "nbformat": 4,
 "nbformat_minor": 5
}
