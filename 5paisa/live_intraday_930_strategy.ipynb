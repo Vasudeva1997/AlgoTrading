{
 "cells": [
  {
   "cell_type": "code",
   "execution_count": 1,
   "id": "4e8937cf",
   "metadata": {},
   "outputs": [],
   "source": [
    "from py5paisa import FivePaisaClient\n",
    "from py5paisa.order import Order, OrderType, Exchange, Bo_co_order\n",
    "import time\n",
    "import math\n",
    "import pandas as pd\n",
    "import warnings\n",
    "from datetime import datetime"
   ]
  },
  {
   "cell_type": "code",
   "execution_count": 2,
   "id": "ce8f2e17",
   "metadata": {},
   "outputs": [],
   "source": [
    "warnings.filterwarnings(\"ignore\", category=FutureWarning)"
   ]
  },
  {
   "cell_type": "code",
   "execution_count": 3,
   "id": "11aa1bf4",
   "metadata": {},
   "outputs": [
    {
     "name": "stdout",
     "output_type": "stream",
     "text": [
      " 14:19:16 | Logged in!!\n"
     ]
    }
   ],
   "source": [
    "cred = {\n",
    "    \"APP_NAME\": \"5P56409084\",\n",
    "    \"APP_SOURCE\": \"9217\",\n",
    "    \"USER_ID\": \"pybeQPEbjju\",\n",
    "    \"PASSWORD\": \"AESDZQGqyAa\",\n",
    "    \"USER_KEY\": \"542GTEZguBbLERUXRZe26rLvfWU2X2KD\",\n",
    "    \"ENCRYPTION_KEY\": \"l8sRTIsjl1JhUrz8X48XQJzKGI4k0gft\",\n",
    "}\n",
    "client = FivePaisaClient(\n",
    "    email=\"vasuappliedai@gmail.com\", passwd=\"Vasudeva@1\", dob=\"19981218\", cred=cred\n",
    ")\n",
    "client.login()"
   ]
  },
  {
   "cell_type": "code",
   "execution_count": 3,
   "id": "8e72f7d1",
   "metadata": {},
   "outputs": [
    {
     "name": "stdout",
     "output_type": "stream",
     "text": [
      " 10:14:31 | Logged in!!\n"
     ]
    }
   ],
   "source": [
    "cred = {\n",
    "    \"APP_NAME\": \"5P57752064\",\n",
    "    \"APP_SOURCE\": \"9322\",\n",
    "    \"USER_ID\": \"5eRLuL81EDc\",\n",
    "    \"PASSWORD\": \"mUG0xZduuO5\",\n",
    "    \"USER_KEY\": \"BkVgrzXhLIUJbSYqqGIxNpyXcTtpSh0s\",\n",
    "    \"ENCRYPTION_KEY\": \"pecRHVbBoroAavcjObdA6ITkK0ZmhSjq\",\n",
    "}\n",
    "client = FivePaisaClient(\n",
    "    email=\"chanderg16@gmail.com\", passwd=\"5321@rvsA\", dob=\"19720316\", cred=cred\n",
    ")\n",
    "client.login()"
   ]
  },
  {
   "cell_type": "code",
   "execution_count": 4,
   "id": "144ed611",
   "metadata": {
    "scrolled": true
   },
   "outputs": [
    {
     "name": "stderr",
     "output_type": "stream",
     "text": [
      "C:\\Users\\vasud\\AppData\\Local\\Temp\\ipykernel_7940\\3110652694.py:1: DtypeWarning: Columns (9) have mixed types. Specify dtype option on import or set low_memory=False.\n",
      "  script_df = pd.read_csv(\"scripmaster-csv-format.csv\")\n"
     ]
    }
   ],
   "source": [
    "script_df = pd.read_csv(\"scripmaster-csv-format.csv\")"
   ]
  },
  {
   "cell_type": "code",
   "execution_count": 5,
   "id": "64cc2968",
   "metadata": {},
   "outputs": [
    {
     "data": {
      "text/plain": [
       "(14, 19)"
      ]
     },
     "execution_count": 5,
     "metadata": {},
     "output_type": "execute_result"
    }
   ],
   "source": [
    "current_hour = datetime.today().hour\n",
    "current_minute = datetime.today().minute\n",
    "current_hour,current_minute"
   ]
  },
  {
   "cell_type": "code",
   "execution_count": 6,
   "id": "4affbc9e",
   "metadata": {},
   "outputs": [
    {
     "name": "stdout",
     "output_type": "stream",
     "text": [
      "Banknifty at 9:30am  35700.0\n"
     ]
    },
    {
     "data": {
      "text/plain": [
       "(53413, 53414)"
      ]
     },
     "execution_count": 6,
     "metadata": {},
     "output_type": "execute_result"
    }
   ],
   "source": [
    "nifty_script_code = 999920000\n",
    "banknifty_script_code = 999920005\n",
    "given_date = datetime.today().strftime(\"%Y-%m-%d\")\n",
    "strikePrice = None\n",
    "if(current_hour == 9 and current_minute <=30):\n",
    "    strikePrice = client.historical_data(\"N\", \"C\", banknifty_script_code, \"1m\", given_date, given_date).tail(1)[\"Open\"].iloc[0]\n",
    "else:\n",
    "    strikePrice = client.historical_data(\"N\", \"C\", banknifty_script_code, \"1m\", given_date, given_date)[\n",
    "        \"Open\"\n",
    "    ].loc[15]\n",
    "strikePrice = round(strikePrice / 1000, 1) * 1000\n",
    "print(\"Banknifty at 9:30am \", strikePrice)\n",
    "expiry = \"20220324\"\n",
    "symbol = \"BANKNIFTY 24 Mar 2022\"\n",
    "call_symbol = symbol + \" CE \" + strikePrice.__str__() + \"0\"\n",
    "put_symbol = symbol + \" PE \" + strikePrice.__str__() + \"0\"\n",
    "call_script_code = script_df[script_df[\"FullName\"]\n",
    "                             == call_symbol].iloc[0][\"Scripcode\"].__int__()\n",
    "put_script_code = script_df[script_df[\"FullName\"]\n",
    "                            == put_symbol].iloc[0][\"Scripcode\"].__int__()\n",
    "call_script_code,put_script_code"
   ]
  },
  {
   "cell_type": "code",
   "execution_count": 7,
   "id": "de4df28b",
   "metadata": {},
   "outputs": [],
   "source": [
    "req_list = [\n",
    "    {\n",
    "        \"Exch\": \"N\",\n",
    "        \"ExchType\": \"D\",\n",
    "        \"Symbol\": call_symbol,\n",
    "        \"Expiry\": expiry,\n",
    "        \"StrikePrice\": strikePrice,\n",
    "        \"OptionType\": \"CE\",\n",
    "    },\n",
    "    {\n",
    "        \"Exch\": \"N\",\n",
    "        \"ExchType\": \"D\",\n",
    "        \"Symbol\": put_symbol,\n",
    "        \"Expiry\": expiry,\n",
    "        \"StrikePrice\": strikePrice,\n",
    "        \"OptionType\": \"PE\",\n",
    "    },\n",
    "]\n"
   ]
  },
  {
   "cell_type": "code",
   "execution_count": 8,
   "id": "bbfce35e",
   "metadata": {},
   "outputs": [],
   "source": [
    "def get_order_id(broker_order_id):\n",
    "    order_book = client.order_book()\n",
    "    for order in order_book:\n",
    "        if(order[\"BrokerOrderId\"] == broker_order_id):\n",
    "            return order\n",
    "    return None\n",
    "\n",
    "\n",
    "def get_pending_order_by_script(script_code):\n",
    "    order_book = client.order_book()\n",
    "    for order in order_book:\n",
    "        if(order[\"PendingQty\"] > 0 and order[\"ScripCode\"] == script_code and order[\"OrderStatus\"] != \"Cancelled\"):\n",
    "            return order\n",
    "    return None\n",
    "\n",
    "\n",
    "def place_co_bo(order_type, script_code, quantity, price, stop_loss):\n",
    "    test_order = Bo_co_order(\n",
    "        script_code,\n",
    "        quantity,\n",
    "        price,\n",
    "        0,\n",
    "        0,\n",
    "        order_type,\n",
    "        \"N\",\n",
    "        \"D\",\n",
    "        \"p\",\n",
    "        stop_loss + 0.5,\n",
    "        stop_loss,\n",
    "    )\n",
    "    order_broker_id = client.bo_order(test_order)[\"BrokerOrderIDNormal\"]\n",
    "    time.sleep(5)\n",
    "    return get_order_id(order_broker_id)\n",
    "\n",
    "\n",
    "def modify_sl_co_bo(script_code, quantity, stop_loss, exchange_id):\n",
    "    test_order = test_order = Order(\n",
    "        order_type=\"B\",\n",
    "        scrip_code=script_code,\n",
    "        quantity=quantity,\n",
    "        price=0,\n",
    "        is_intraday=True,\n",
    "        exchange=\"N\",\n",
    "        exchange_segment=\"D\",\n",
    "        exch_order_id=exchange_id,\n",
    "        stoploss_price=stop_loss,\n",
    "        is_stoploss_order=True,\n",
    "    )\n",
    "    return client.modify_order(test_order)\n",
    "\n",
    "\n",
    "def get_last_traded_prices():\n",
    "    market_data = client.fetch_market_feed([req_list[0]])[\"Data\"]\n",
    "    call_ltp = market_data[0][\"LastRate\"]\n",
    "    market_data = client.fetch_market_feed([req_list[1]])[\"Data\"]\n",
    "    put_ltp = market_data[0][\"LastRate\"]\n",
    "    return math.ceil(call_ltp), math.ceil(put_ltp)\n",
    "\n",
    "\n",
    "def get_requested_ltp():\n",
    "    market_data = client.fetch_market_feed(req_list)[\"Data\"]\n",
    "    return math.floor(market_data[0][\"LastRate\"])\n",
    "\n",
    "\n",
    "def if_order_executed(exchange_id):\n",
    "    order_book = client.order_book()\n",
    "    for order in order_book:\n",
    "        if(order[\"ExchOrderID\"] == exchange_id and order[\"OrderStatus\"] == \"Fully Executed\"):\n",
    "            return True\n",
    "    return False\n",
    "\n",
    "\n",
    "def wait_for_order_execution():\n",
    "    while_flag = True\n",
    "    while while_flag:\n",
    "        if if_order_executed(call_order_id):\n",
    "            return call_script_code\n",
    "        elif if_order_executed(put_order_id):\n",
    "            return put_script_code\n",
    "        else:\n",
    "            time.sleep(60)\n",
    "\n",
    "def wait_for_exit(script_code, order_id):\n",
    "    while(if_order_executed(order_id) == False):\n",
    "        df = client.historical_data(\n",
    "            'N', 'D', script_code, '1m', given_date, given_date).tail(1)\n",
    "        low_price = df[\"Low\"].iloc[0]\n",
    "        if low_price < new_stop_loss:\n",
    "            new_stop_loss = low_price*1.2\n",
    "            modify_sl_co_bo(script_code, 25, new_stop_loss, order_id)\n",
    "        time.sleep(60)"
   ]
  },
  {
   "cell_type": "code",
   "execution_count": 9,
   "id": "a14d51ca",
   "metadata": {},
   "outputs": [
    {
     "name": "stdout",
     "output_type": "stream",
     "text": [
      " 14:20:40 | Success\n",
      " 14:20:40 | Success\n",
      "Put Entry and Stoploss  212 255\n",
      "Call Entry and Stoploss  29 35\n"
     ]
    }
   ],
   "source": [
    "call_entry, put_entry = get_last_traded_prices()\n",
    "call_stoploss, put_stoploss = math.ceil(call_entry*1.2), math.ceil(put_entry*1.2)\n",
    "\n",
    "print(\"Put Entry and Stoploss \", put_entry, put_stoploss)\n",
    "print(\"Call Entry and Stoploss \", call_entry, call_stoploss)"
   ]
  },
  {
   "cell_type": "code",
   "execution_count": 23,
   "id": "979e52ed",
   "metadata": {},
   "outputs": [
    {
     "name": "stdout",
     "output_type": "stream",
     "text": [
      " 10:27:12 | \n",
      " 10:27:18 | Order rejected by RMS as margin required is Rs134663.42, while available margin is Rs33081.7\n"
     ]
    },
    {
     "data": {
      "text/plain": [
       "('1400000029523602', '0')"
      ]
     },
     "execution_count": 23,
     "metadata": {},
     "output_type": "execute_result"
    }
   ],
   "source": [
    "call_order_id = place_co_bo(\"S\", call_script_code,\n",
    "                            25, call_entry, call_stoploss)[\"ExchOrderID\"]\n",
    "put_order_id = place_co_bo(\"S\", put_script_code, 25,\n",
    "                           put_entry, put_stoploss)[\"ExchOrderID\"]\n",
    "call_order_id,put_order_id"
   ]
  },
  {
   "cell_type": "markdown",
   "id": "2e4ad0cc",
   "metadata": {},
   "source": [
    "while(if_order_executed(call_order_id) == False):\n",
    "    time.sleep(5)\n",
    "while(if_order_executed(put_order_id) == False):\n",
    "    time.sleep(5)"
   ]
  },
  {
   "cell_type": "code",
   "execution_count": 10,
   "id": "5e71e73d",
   "metadata": {},
   "outputs": [
    {
     "data": {
      "text/plain": [
       "[{'AHProcess': 'N',\n",
       "  'AfterHours': 'N',\n",
       "  'AtMarket': 'N',\n",
       "  'BrokerOrderId': 671350551,\n",
       "  'BrokerOrderTime': '/Date(1648097833350+0530)/',\n",
       "  'BuySell': 'S',\n",
       "  'DelvIntra': 'C',\n",
       "  'DisClosedQty': 0,\n",
       "  'Exch': 'N',\n",
       "  'ExchOrderID': '1400000029523602',\n",
       "  'ExchOrderTime': '/Date(1648097841000+0530)/',\n",
       "  'ExchType': 'D',\n",
       "  'MarketLot': 1,\n",
       "  'OldorderQty': 0,\n",
       "  'OrderRequesterCode': '56409084       ',\n",
       "  'OrderStatus': 'Fully Executed',\n",
       "  'OrderValidUpto': '24 Mar 2022',\n",
       "  'OrderValidity': 0,\n",
       "  'PendingQty': 0,\n",
       "  'Qty': 25,\n",
       "  'Rate': 297,\n",
       "  'Reason': '',\n",
       "  'RemoteOrderID': '',\n",
       "  'RequestType': 'P',\n",
       "  'SLTriggerRate': 0,\n",
       "  'SLTriggered': 'N',\n",
       "  'SMOProfitRate': 0,\n",
       "  'SMOSLLimitRate': 357.5,\n",
       "  'SMOSLTriggerRate': 357,\n",
       "  'SMOTrailingSL': 0,\n",
       "  'ScripCode': 53410,\n",
       "  'ScripName': 'BANKNIFTY 24 Mar 2022 CE 35600.00',\n",
       "  'TerminalId': 36848,\n",
       "  'TradedQty': 25,\n",
       "  'WithSL': 'N'},\n",
       " {'AHProcess': 'N',\n",
       "  'AfterHours': 'N',\n",
       "  'AtMarket': 'N',\n",
       "  'BrokerOrderId': 671350760,\n",
       "  'BrokerOrderTime': '/Date(1648097838823+0530)/',\n",
       "  'BuySell': 'S',\n",
       "  'DelvIntra': 'C',\n",
       "  'DisClosedQty': 0,\n",
       "  'Exch': 'N',\n",
       "  'ExchOrderID': '0',\n",
       "  'ExchOrderTime': '/Date(315513000000+0530)/',\n",
       "  'ExchType': 'D',\n",
       "  'MarketLot': 1,\n",
       "  'OldorderQty': 0,\n",
       "  'OrderRequesterCode': '56409084       ',\n",
       "  'OrderStatus': 'Rejected By 5P',\n",
       "  'OrderValidUpto': '24 Mar 2022',\n",
       "  'OrderValidity': 0,\n",
       "  'PendingQty': 25,\n",
       "  'Qty': 25,\n",
       "  'Rate': 83,\n",
       "  'Reason': 'Order rejected by RMS as margin required is Rs134663.42, while available margin is Rs33081.7',\n",
       "  'RemoteOrderID': '',\n",
       "  'RequestType': 'P',\n",
       "  'SLTriggerRate': 0,\n",
       "  'SLTriggered': 'N',\n",
       "  'SMOProfitRate': 0,\n",
       "  'SMOSLLimitRate': 0,\n",
       "  'SMOSLTriggerRate': 0,\n",
       "  'SMOTrailingSL': 0,\n",
       "  'ScripCode': 53412,\n",
       "  'ScripName': 'BANKNIFTY 24 Mar 2022 PE 35600.00',\n",
       "  'TerminalId': 0,\n",
       "  'TradedQty': 0,\n",
       "  'WithSL': 'N'},\n",
       " {'AHProcess': 'N',\n",
       "  'AfterHours': 'N',\n",
       "  'AtMarket': 'N',\n",
       "  'BrokerOrderId': 671355839,\n",
       "  'BrokerOrderTime': '/Date(1648097971000+0530)/',\n",
       "  'BuySell': 'B',\n",
       "  'DelvIntra': 'C',\n",
       "  'DisClosedQty': 0,\n",
       "  'Exch': 'N',\n",
       "  'ExchOrderID': '1400000029576557',\n",
       "  'ExchOrderTime': '/Date(1648097971000+0530)/',\n",
       "  'ExchType': 'D',\n",
       "  'MarketLot': 1,\n",
       "  'OldorderQty': 0,\n",
       "  'OrderRequesterCode': '56409084       ',\n",
       "  'OrderStatus': 'Fully Executed',\n",
       "  'OrderValidUpto': '01 Jan 1900',\n",
       "  'OrderValidity': 0,\n",
       "  'PendingQty': 0,\n",
       "  'Qty': 25,\n",
       "  'Rate': 291,\n",
       "  'Reason': '',\n",
       "  'RemoteOrderID': '0',\n",
       "  'RequestType': 'S',\n",
       "  'SLTriggerRate': 291,\n",
       "  'SLTriggered': 'Y',\n",
       "  'SMOProfitRate': 0,\n",
       "  'SMOSLLimitRate': 0,\n",
       "  'SMOSLTriggerRate': 0,\n",
       "  'SMOTrailingSL': 0,\n",
       "  'ScripCode': 53410,\n",
       "  'ScripName': 'BANKNIFTY 24 Mar 2022 CE 35600.00',\n",
       "  'TerminalId': 33796,\n",
       "  'TradedQty': 25,\n",
       "  'WithSL': 'Y'}]"
      ]
     },
     "execution_count": 10,
     "metadata": {},
     "output_type": "execute_result"
    }
   ],
   "source": [
    "client.order_book()"
   ]
  },
  {
   "cell_type": "code",
   "execution_count": null,
   "id": "eabf8405",
   "metadata": {},
   "outputs": [],
   "source": [
    "#uncomment this order is successful but it is unable to fetch the pending order\n",
    "# call_order_id=\"\"\n",
    "# put_order_id=\"\""
   ]
  },
  {
   "cell_type": "code",
   "execution_count": null,
   "id": "51491501",
   "metadata": {},
   "outputs": [],
   "source": [
    "call_order_id = get_pending_order_by_script(call_script_code)[\"ExchOrderID\"]\n",
    "put_order_id = get_pending_order_by_script(put_script_code)[\"ExchOrderID\"]\n",
    "\n",
    "\n",
    "print(\"Call Order ID and PUT Order ID \", call_order_id, put_order_id)"
   ]
  },
  {
   "cell_type": "code",
   "execution_count": null,
   "id": "e591d967",
   "metadata": {},
   "outputs": [],
   "source": [
    "sl_hit_script = wait_for_order_execution()\n",
    "\n",
    "order_id = None\n",
    "script_code = None\n",
    "req_list = None\n",
    "if sl_hit_script == call_script_code:\n",
    "    script_code = put_script_code\n",
    "    order_id = put_order_id\n",
    "    req_list = [{\n",
    "        \"Exch\": \"N\",\n",
    "        \"ExchType\": \"D\",\n",
    "        \"Symbol\": put_symbol,\n",
    "        \"Expiry\": expiry,\n",
    "        \"StrikePrice\": strikePrice,\n",
    "        \"OptionType\": \"PE\",\n",
    "    }]\n",
    "if sl_hit_script == put_script_code:\n",
    "    script_code = call_script_code\n",
    "    order_id = call_order_id\n",
    "    req_list = [{\n",
    "        \"Exch\": \"N\",\n",
    "        \"ExchType\": \"D\",\n",
    "        \"Symbol\": call_symbol,\n",
    "        \"Expiry\": expiry,\n",
    "        \"StrikePrice\": strikePrice,\n",
    "        \"OptionType\": \"CE\",\n",
    "    }]"
   ]
  },
  {
   "cell_type": "code",
   "execution_count": 13,
   "id": "6ee2f9a5",
   "metadata": {},
   "outputs": [
    {
     "name": "stdout",
     "output_type": "stream",
     "text": [
      " 23:55:39 | Success\n",
      "LTP & New Stoploss  96.0 128\n"
     ]
    }
   ],
   "source": [
    "new_stop_loss = math.ceil(get_requested_ltp()*1.2)\n",
    "print(\"LTP & New Stoploss \", new_stop_loss*0.75,new_stop_loss)    "
   ]
  },
  {
   "cell_type": "code",
   "execution_count": 14,
   "id": "bcd8f9f4",
   "metadata": {},
   "outputs": [
    {
     "data": {
      "text/plain": [
       "865"
      ]
     },
     "execution_count": 14,
     "metadata": {},
     "output_type": "execute_result"
    }
   ],
   "source": [
    "wait_for_exit(script_code, order_id)"
   ]
  },
  {
   "cell_type": "code",
   "execution_count": 30,
   "id": "cc5fb9eb",
   "metadata": {},
   "outputs": [],
   "source": []
  },
  {
   "cell_type": "code",
   "execution_count": null,
   "id": "67b46b96",
   "metadata": {},
   "outputs": [],
   "source": []
  }
 ],
 "metadata": {
  "kernelspec": {
   "display_name": "Python 3 (ipykernel)",
   "language": "python",
   "name": "python3"
  },
  "language_info": {
   "codemirror_mode": {
    "name": "ipython",
    "version": 3
   },
   "file_extension": ".py",
   "mimetype": "text/x-python",
   "name": "python",
   "nbconvert_exporter": "python",
   "pygments_lexer": "ipython3",
   "version": "3.10.2"
  }
 },
 "nbformat": 4,
 "nbformat_minor": 5
}
