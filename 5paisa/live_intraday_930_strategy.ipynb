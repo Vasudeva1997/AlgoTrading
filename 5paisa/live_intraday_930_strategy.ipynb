{
 "cells": [
  {
   "cell_type": "code",
   "execution_count": 1,
   "id": "4e8937cf",
   "metadata": {},
   "outputs": [],
   "source": [
    "from py5paisa import FivePaisaClient\n",
    "from py5paisa.order import Order, OrderType, Exchange, Bo_co_order\n",
    "import time\n",
    "import math\n",
    "import pandas as pd\n",
    "import warnings\n",
    "from datetime import datetime"
   ]
  },
  {
   "cell_type": "code",
   "execution_count": 2,
   "id": "ce8f2e17",
   "metadata": {},
   "outputs": [],
   "source": [
    "warnings.filterwarnings(\"ignore\", category=FutureWarning)"
   ]
  },
  {
   "cell_type": "code",
   "execution_count": 21,
   "id": "11aa1bf4",
   "metadata": {},
   "outputs": [
    {
     "name": "stdout",
     "output_type": "stream",
     "text": [
      " 08:50:34 | 'body'\n",
      " 08:50:34 | 'NoneType' object is not subscriptable\n"
     ]
    }
   ],
   "source": [
    "cred = {\n",
    "    \"APP_NAME\": \"5P56409084\",\n",
    "    \"APP_SOURCE\": \"9217\",\n",
    "    \"USER_ID\": \"pybeQPEbjju\",\n",
    "    \"PASSWORD\": \"AESDZQGqyAa\",\n",
    "    \"USER_KEY\": \"542GTEZguBbLERUXRZe26rLvfWU2X2KD\",\n",
    "    \"ENCRYPTION_KEY\": \"l8sRTIsjl1JhUrz8X48XQJzKGI4k0gft\",\n",
    "}\n",
    "client = FivePaisaClient(\n",
    "    email=\"vasuappliedai@gmail.com\", passwd=\"Vasudeva@1\", dob=\"19981218\", cred=cred\n",
    ")\n",
    "client.login()"
   ]
  },
  {
   "cell_type": "code",
   "execution_count": 3,
   "id": "8e72f7d1",
   "metadata": {},
   "outputs": [
    {
     "name": "stdout",
     "output_type": "stream",
     "text": [
      " 09:27:24 | Logged in!!\n"
     ]
    }
   ],
   "source": [
    "cred = {\n",
    "    \"APP_NAME\": \"5P57752064\",\n",
    "    \"APP_SOURCE\": \"9322\",\n",
    "    \"USER_ID\": \"5eRLuL81EDc\",\n",
    "    \"PASSWORD\": \"mUG0xZduuO5\",\n",
    "    \"USER_KEY\": \"BkVgrzXhLIUJbSYqqGIxNpyXcTtpSh0s\",\n",
    "    \"ENCRYPTION_KEY\": \"pecRHVbBoroAavcjObdA6ITkK0ZmhSjq\",\n",
    "}\n",
    "client = FivePaisaClient(\n",
    "    email=\"chanderg16@gmail.com\", passwd=\"5321@rvsA\", dob=\"19720316\", cred=cred\n",
    ")\n",
    "client.login()"
   ]
  },
  {
   "cell_type": "code",
   "execution_count": 4,
   "id": "144ed611",
   "metadata": {
    "scrolled": true
   },
   "outputs": [
    {
     "name": "stderr",
     "output_type": "stream",
     "text": [
      "C:\\Users\\Public\\Documents\\Wondershare\\CreatorTemp\\ipykernel_12068\\3110652694.py:1: DtypeWarning: Columns (9) have mixed types. Specify dtype option on import or set low_memory=False.\n",
      "  script_df = pd.read_csv(\"scripmaster-csv-format.csv\")\n"
     ]
    }
   ],
   "source": [
    "script_df = pd.read_csv(\"scripmaster-csv-format.csv\")"
   ]
  },
  {
   "cell_type": "code",
   "execution_count": 5,
   "id": "64cc2968",
   "metadata": {},
   "outputs": [
    {
     "data": {
      "text/plain": [
       "(9, 27)"
      ]
     },
     "execution_count": 5,
     "metadata": {},
     "output_type": "execute_result"
    }
   ],
   "source": [
    "current_hour = datetime.today().hour\n",
    "current_minute = datetime.today().minute\n",
    "current_hour,current_minute"
   ]
  },
  {
   "cell_type": "code",
   "execution_count": 6,
   "id": "4affbc9e",
   "metadata": {},
   "outputs": [
    {
     "name": "stdout",
     "output_type": "stream",
     "text": [
      "Banknifty at 9:30am  35800.0\n"
     ]
    },
    {
     "data": {
      "text/plain": [
       "(58280, 58281)"
      ]
     },
     "execution_count": 6,
     "metadata": {},
     "output_type": "execute_result"
    }
   ],
   "source": [
    "nifty_script_code = 999920000\n",
    "banknifty_script_code = 999920005\n",
    "given_date = datetime.today().strftime(\"%Y-%m-%d\")\n",
    "strikePrice = None\n",
    "if(current_hour == 9 and current_minute <=30):\n",
    "    strikePrice = client.historical_data(\"N\", \"C\", banknifty_script_code, \"1m\", given_date, given_date).tail(1)[\"Open\"].iloc[0]\n",
    "else:\n",
    "    strikePrice = client.historical_data(\"N\", \"C\", banknifty_script_code, \"1m\", given_date, given_date)[\n",
    "        \"Open\"\n",
    "    ].loc[15]\n",
    "strikePrice = round(strikePrice / 1000, 1) * 1000\n",
    "print(\"Banknifty at 9:30am \", strikePrice)\n",
    "expiry = \"20220331\"\n",
    "symbol = \"BANKNIFTY 31 Mar 2022\"\n",
    "call_symbol = symbol + \" CE \" + strikePrice.__str__() + \"0\"\n",
    "put_symbol = symbol + \" PE \" + strikePrice.__str__() + \"0\"\n",
    "call_script_code = script_df[script_df[\"FullName\"]\n",
    "                             == call_symbol].iloc[0][\"Scripcode\"].__int__()\n",
    "put_script_code = script_df[script_df[\"FullName\"]\n",
    "                            == put_symbol].iloc[0][\"Scripcode\"].__int__()\n",
    "call_script_code,put_script_code"
   ]
  },
  {
   "cell_type": "code",
   "execution_count": 7,
   "id": "de4df28b",
   "metadata": {},
   "outputs": [],
   "source": [
    "req_list = [\n",
    "    {\n",
    "        \"Exch\": \"N\",\n",
    "        \"ExchType\": \"D\",\n",
    "        \"Symbol\": call_symbol,\n",
    "        \"Expiry\": expiry,\n",
    "        \"StrikePrice\": strikePrice,\n",
    "        \"OptionType\": \"CE\",\n",
    "    },\n",
    "    {\n",
    "        \"Exch\": \"N\",\n",
    "        \"ExchType\": \"D\",\n",
    "        \"Symbol\": put_symbol,\n",
    "        \"Expiry\": expiry,\n",
    "        \"StrikePrice\": strikePrice,\n",
    "        \"OptionType\": \"PE\",\n",
    "    },\n",
    "]\n"
   ]
  },
  {
   "cell_type": "code",
   "execution_count": 8,
   "id": "bbfce35e",
   "metadata": {},
   "outputs": [],
   "source": [
    "def get_order_book():\n",
    "    time.sleep(3)\n",
    "    order_book =client.order_book()\n",
    "    if order_book is None:\n",
    "        for i in range(3):\n",
    "            time.sleep(5)\n",
    "            order_book =client.order_book()\n",
    "            if order_book is not None:\n",
    "                return order_book\n",
    "    return order_book\n",
    "\n",
    "def get_order_id(broker_order_id):\n",
    "    order_book = get_order_book()\n",
    "    for order in order_book:\n",
    "        if(order[\"BrokerOrderId\"] == broker_order_id):\n",
    "            return order\n",
    "    return None\n",
    "\n",
    "\n",
    "def get_pending_order_by_script(script_code):\n",
    "    order_book = get_order_book()\n",
    "    for order in order_book:\n",
    "        if(order[\"PendingQty\"] > 0 and order[\"ScripCode\"] == script_code and order[\"OrderStatus\"] != \"Cancelled\"):\n",
    "            return order\n",
    "    return None\n",
    "\n",
    "\n",
    "def place_co_bo(order_type, script_code, quantity, price, stop_loss):\n",
    "    test_order = Bo_co_order(\n",
    "        script_code,\n",
    "        quantity,\n",
    "        price,\n",
    "        0,\n",
    "        0,\n",
    "        order_type,\n",
    "        \"N\",\n",
    "        \"D\",\n",
    "        \"p\",\n",
    "        stop_loss + 0.5,\n",
    "        stop_loss,\n",
    "    )\n",
    "    order_broker_id = client.bo_order(test_order)[\"BrokerOrderIDNormal\"]\n",
    "    time.sleep(5)\n",
    "    return get_order_id(order_broker_id)\n",
    "\n",
    "\n",
    "def modify_sl_co_bo(script_code, quantity, stop_loss, exchange_id):\n",
    "    test_order = test_order = Order(\n",
    "        order_type=\"B\",\n",
    "        scrip_code=script_code,\n",
    "        quantity=quantity,\n",
    "        price=0,\n",
    "        is_intraday=True,\n",
    "        exchange=\"N\",\n",
    "        exchange_segment=\"D\",\n",
    "        exch_order_id=exchange_id,\n",
    "        stoploss_price=stop_loss,\n",
    "        is_stoploss_order=True,\n",
    "    )\n",
    "    return client.modify_order(test_order)\n",
    "\n",
    "\n",
    "def get_last_traded_prices():\n",
    "    market_data = client.fetch_market_feed([req_list[0]])[\"Data\"]\n",
    "    call_ltp = market_data[0][\"LastRate\"]\n",
    "    market_data = client.fetch_market_feed([req_list[1]])[\"Data\"]\n",
    "    put_ltp = market_data[0][\"LastRate\"]\n",
    "    return math.ceil(call_ltp), math.ceil(put_ltp)\n",
    "\n",
    "\n",
    "def get_requested_ltp():\n",
    "    market_data = client.fetch_market_feed(req_list)[\"Data\"]\n",
    "    return math.floor(market_data[0][\"LastRate\"])\n",
    "\n",
    "\n",
    "def if_order_executed(exchange_id):\n",
    "    order_book = get_order_book()\n",
    "    for order in order_book:\n",
    "        if(order[\"ExchOrderID\"] == exchange_id and order[\"OrderStatus\"] == \"Fully Executed\"):\n",
    "            return True\n",
    "    return False\n",
    "\n",
    "\n",
    "def wait_for_order_execution():\n",
    "    while_flag = True\n",
    "    while while_flag:\n",
    "        if if_order_executed(call_order_id):\n",
    "            return call_script_code\n",
    "        elif if_order_executed(put_order_id):\n",
    "            return put_script_code\n",
    "        else:\n",
    "            time.sleep(60)\n",
    "\n"
   ]
  },
  {
   "cell_type": "code",
   "execution_count": 9,
   "id": "a14d51ca",
   "metadata": {},
   "outputs": [
    {
     "name": "stdout",
     "output_type": "stream",
     "text": [
      " 09:27:44 | Success\n",
      " 09:27:44 | Success\n",
      "Put Entry and Stoploss  319 383\n",
      "Call Entry and Stoploss  462 555\n"
     ]
    }
   ],
   "source": [
    "call_entry, put_entry = get_last_traded_prices()\n",
    "call_stoploss, put_stoploss = math.ceil(call_entry*1.2), math.ceil(put_entry*1.2)\n",
    "\n",
    "print(\"Put Entry and Stoploss \", put_entry, put_stoploss)\n",
    "print(\"Call Entry and Stoploss \", call_entry, call_stoploss)"
   ]
  },
  {
   "cell_type": "code",
   "execution_count": 10,
   "id": "979e52ed",
   "metadata": {},
   "outputs": [
    {
     "name": "stdout",
     "output_type": "stream",
     "text": [
      " 09:27:49 | \n",
      " 09:27:57 | \n"
     ]
    },
    {
     "data": {
      "text/plain": [
       "('1400000005078640', '1600000005088540')"
      ]
     },
     "execution_count": 10,
     "metadata": {},
     "output_type": "execute_result"
    }
   ],
   "source": [
    "call_order_id = place_co_bo(\"S\", call_script_code,\n",
    "                            25, call_entry, call_stoploss)[\"ExchOrderID\"]\n",
    "put_order_id = place_co_bo(\"S\", put_script_code, 25,\n",
    "                           put_entry, put_stoploss)[\"ExchOrderID\"]\n",
    "call_order_id,put_order_id"
   ]
  },
  {
   "cell_type": "code",
   "execution_count": 11,
   "id": "2e4ad0cc",
   "metadata": {},
   "outputs": [],
   "source": [
    "while(if_order_executed(call_order_id) == False):\n",
    "    time.sleep(5)\n",
    "while(if_order_executed(put_order_id) == False):\n",
    "    time.sleep(5)"
   ]
  },
  {
   "cell_type": "code",
   "execution_count": null,
   "id": "eabf8405",
   "metadata": {},
   "outputs": [],
   "source": [
    "#uncomment this order is successful but it is unable to fetch the pending order\n",
    "# call_order_id=\"1400000005092359\"\n",
    "# put_order_id=\"1600000005325200\""
   ]
  },
  {
   "cell_type": "code",
   "execution_count": 12,
   "id": "51491501",
   "metadata": {},
   "outputs": [
    {
     "name": "stdout",
     "output_type": "stream",
     "text": [
      "Call Order ID and PUT Order ID  1400000005092359 1600000005325200\n"
     ]
    }
   ],
   "source": [
    "call_order_id = get_pending_order_by_script(call_script_code)[\"ExchOrderID\"]\n",
    "put_order_id = get_pending_order_by_script(put_script_code)[\"ExchOrderID\"]\n",
    "\n",
    "\n",
    "print(\"Call Order ID and PUT Order ID \", call_order_id, put_order_id)"
   ]
  },
  {
   "cell_type": "code",
   "execution_count": 13,
   "id": "e591d967",
   "metadata": {},
   "outputs": [],
   "source": [
    "sl_hit_script = wait_for_order_execution()\n",
    "\n",
    "order_id = None\n",
    "script_code = None\n",
    "req_list = None\n",
    "if sl_hit_script == call_script_code:\n",
    "    script_code = put_script_code\n",
    "    order_id = put_order_id\n",
    "    req_list = [{\n",
    "        \"Exch\": \"N\",\n",
    "        \"ExchType\": \"D\",\n",
    "        \"Symbol\": put_symbol,\n",
    "        \"Expiry\": expiry,\n",
    "        \"StrikePrice\": strikePrice,\n",
    "        \"OptionType\": \"PE\",\n",
    "    }]\n",
    "if sl_hit_script == put_script_code:\n",
    "    script_code = call_script_code\n",
    "    order_id = call_order_id\n",
    "    req_list = [{\n",
    "        \"Exch\": \"N\",\n",
    "        \"ExchType\": \"D\",\n",
    "        \"Symbol\": call_symbol,\n",
    "        \"Expiry\": expiry,\n",
    "        \"StrikePrice\": strikePrice,\n",
    "        \"OptionType\": \"CE\",\n",
    "    }]"
   ]
  },
  {
   "cell_type": "code",
   "execution_count": 14,
   "id": "6ee2f9a5",
   "metadata": {},
   "outputs": [
    {
     "name": "stdout",
     "output_type": "stream",
     "text": [
      " 09:59:54 | Success\n",
      "LTP & New Stoploss  349.5 466\n"
     ]
    }
   ],
   "source": [
    "new_stop_loss = math.ceil(get_requested_ltp()*1.2)\n",
    "print(\"LTP & New Stoploss \", new_stop_loss*0.75,new_stop_loss)    "
   ]
  },
  {
   "cell_type": "code",
   "execution_count": 16,
   "id": "d2317506",
   "metadata": {},
   "outputs": [
    {
     "data": {
      "text/plain": [
       "466"
      ]
     },
     "execution_count": 16,
     "metadata": {},
     "output_type": "execute_result"
    }
   ],
   "source": [
    "new_stop_loss"
   ]
  },
  {
   "cell_type": "code",
   "execution_count": 18,
   "id": "bcd8f9f4",
   "metadata": {},
   "outputs": [
    {
     "name": "stdout",
     "output_type": "stream",
     "text": [
      " 10:20:16 | Success\n",
      " 10:21:19 | Success\n",
      " 10:22:23 | Success\n",
      " 10:23:26 | Success\n",
      " 10:24:30 | Success\n",
      " 10:25:34 | Success\n",
      " 10:26:37 | Success\n",
      " 10:27:41 | Success\n",
      " 10:28:44 | Success\n",
      " 10:29:48 | Success\n",
      " 10:30:51 | Success\n",
      " 10:31:55 | Success\n",
      " 10:32:58 | Success\n",
      " 10:34:02 | Success\n",
      " 10:35:06 | Success\n",
      " 10:36:09 | Success\n",
      " 10:37:13 | Success\n",
      " 10:38:16 | Success\n",
      " 10:39:21 | Success\n",
      " 10:40:25 | Success\n",
      " 10:41:28 | Success\n",
      " 10:42:32 | Success\n",
      " 10:43:35 | Success\n",
      " 10:44:39 | Success\n",
      " 10:45:42 | Success\n",
      " 10:46:46 | Success\n",
      " 10:47:49 | Success\n",
      " 10:48:53 | Success\n",
      " 10:49:58 | Success\n",
      " 10:51:02 | Success\n",
      " 10:52:06 | Success\n",
      " 10:53:09 | Success\n",
      " 10:54:13 | Success\n",
      " 10:55:17 | Success\n",
      " 10:56:20 | Success\n",
      " 10:57:24 | Success\n",
      " 10:58:27 | Success\n",
      " 10:59:31 | Success\n",
      " 11:00:34 | Success\n",
      " 11:01:38 | Success\n",
      " 11:02:42 | Success\n",
      " 11:03:45 | Success\n",
      " 11:04:49 | Success\n",
      " 11:05:53 | Success\n",
      " 11:06:56 | Success\n",
      " 11:08:00 | Success\n",
      " 11:09:04 | Success\n",
      " 11:10:07 | Success\n",
      " 11:11:11 | Success\n",
      " 11:12:15 | Success\n",
      " 11:13:19 | Success\n",
      " 11:14:22 | Success\n",
      " 11:15:26 | Success\n",
      " 11:16:30 | Success\n",
      " 11:17:33 | Success\n",
      " 11:18:37 | Success\n",
      " 11:19:40 | Success\n",
      " 11:20:44 | Success\n",
      " 11:21:47 | Success\n",
      " 11:22:51 | Success\n",
      " 11:23:55 | Success\n",
      " 11:24:58 | Success\n",
      " 11:26:02 | Success\n",
      " 11:27:05 | Success\n",
      " 11:28:09 | Success\n",
      " 11:29:13 | Success\n",
      " 11:30:17 | Success\n",
      " 11:31:20 | Success\n",
      " 11:32:24 | Success\n",
      " 11:33:28 | Success\n",
      " 11:34:31 | Success\n",
      " 11:35:35 | Success\n",
      " 11:36:38 | Success\n",
      " 11:37:42 | Success\n",
      " 11:38:46 | Success\n",
      " 11:39:49 | Success\n",
      " 11:40:53 | Success\n",
      " 11:41:57 | Success\n",
      " 11:43:01 | Success\n",
      " 11:44:04 | Success\n",
      " 11:45:08 | Success\n",
      " 11:46:11 | Success\n",
      " 11:47:15 | Success\n",
      " 11:48:18 | Success\n",
      " 11:49:22 | Success\n",
      " 11:50:26 | Success\n",
      " 11:51:29 | Success\n",
      " 11:52:33 | Success\n",
      " 11:53:36 | Success\n",
      " 11:54:40 | Success\n",
      " 11:55:43 | Success\n",
      " 11:56:47 | Success\n",
      " 11:57:50 | Success\n",
      " 11:58:54 | Success\n",
      " 11:59:58 | Success\n",
      " 12:01:02 | Success\n",
      " 12:02:05 | Success\n",
      " 12:03:09 | Success\n",
      " 12:04:13 | Success\n",
      " 12:05:16 | Success\n",
      " 12:06:20 | Success\n",
      " 12:07:24 | Success\n",
      " 12:08:28 | Success\n",
      " 12:09:31 | Success\n",
      " 12:10:35 | Success\n",
      " 12:11:38 | Success\n",
      " 12:12:42 | Success\n",
      " 12:13:46 | Success\n",
      " 12:14:49 | Success\n",
      " 12:15:53 | Success\n",
      " 12:16:57 | Success\n",
      " 12:18:02 | Success\n",
      " 12:19:05 | Success\n",
      " 12:20:09 | Success\n",
      " 12:21:12 | Success\n",
      " 12:22:16 | Success\n",
      " 12:23:20 | Success\n",
      " 12:24:24 | Success\n",
      " 12:25:27 | Success\n",
      " 12:26:31 | Success\n",
      " 12:27:34 | Success\n",
      " 12:28:38 | Success\n",
      " 12:29:42 | Success\n",
      " 12:30:45 | Success\n",
      " 12:31:49 | Success\n",
      " 12:32:53 | Success\n",
      " 12:33:57 | Success\n",
      " 12:35:02 | Success\n",
      " 12:36:05 | Success\n",
      " 12:37:09 | Success\n",
      " 12:38:12 | Success\n",
      " 12:39:16 | Success\n",
      " 12:40:20 | Success\n",
      " 12:41:24 | Success\n",
      " 12:42:28 | Success\n",
      " 12:43:31 | Success\n",
      " 12:44:35 | Success\n",
      " 12:45:38 | Success\n",
      " 12:46:42 | Success\n",
      " 12:47:46 | Success\n",
      " 12:48:49 | Success\n",
      " 12:49:53 | Success\n",
      " 12:50:57 | Success\n",
      " 12:52:01 | Success\n",
      " 12:53:05 | Success\n"
     ]
    }
   ],
   "source": [
    "def wait_for_exit(script_code, order_id,new_stop_loss):\n",
    "    while(if_order_executed(order_id) == False):\n",
    "        df = client.historical_data(\n",
    "            'N', 'D', script_code, '1m', given_date, given_date).tail(1)\n",
    "        low_price = df[\"Low\"].iloc[0]\n",
    "        if low_price < new_stop_loss:\n",
    "            new_stop_loss = low_price*1.2\n",
    "            modify_sl_co_bo(script_code, 25, new_stop_loss, order_id)\n",
    "        time.sleep(60)\n",
    "\n",
    "wait_for_exit(script_code, order_id,new_stop_loss)"
   ]
  },
  {
   "cell_type": "code",
   "execution_count": 30,
   "id": "cc5fb9eb",
   "metadata": {},
   "outputs": [],
   "source": []
  },
  {
   "cell_type": "code",
   "execution_count": null,
   "id": "67b46b96",
   "metadata": {},
   "outputs": [],
   "source": []
  }
 ],
 "metadata": {
  "kernelspec": {
   "display_name": "Python 3 (ipykernel)",
   "language": "python",
   "name": "python3"
  },
  "language_info": {
   "codemirror_mode": {
    "name": "ipython",
    "version": 3
   },
   "file_extension": ".py",
   "mimetype": "text/x-python",
   "name": "python",
   "nbconvert_exporter": "python",
   "pygments_lexer": "ipython3",
   "version": "3.10.3"
  }
 },
 "nbformat": 4,
 "nbformat_minor": 5
}
