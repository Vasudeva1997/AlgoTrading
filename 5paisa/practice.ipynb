{
 "cells": [
  {
   "cell_type": "code",
   "execution_count": 2,
   "id": "4e8937cf",
   "metadata": {},
   "outputs": [],
   "source": [
    "from py5paisa import FivePaisaClient\n",
    "from py5paisa.order import Order, OrderType, Exchange, Bo_co_order\n",
    "import time\n",
    "import math\n",
    "import pandas as pd\n",
    "import warnings\n",
    "from datetime import datetime"
   ]
  },
  {
   "cell_type": "code",
   "execution_count": 3,
   "id": "ce8f2e17",
   "metadata": {},
   "outputs": [],
   "source": [
    "warnings.filterwarnings(\"ignore\", category=FutureWarning)"
   ]
  },
  {
   "cell_type": "code",
   "execution_count": 4,
   "id": "11aa1bf4",
   "metadata": {},
   "outputs": [
    {
     "name": "stdout",
     "output_type": "stream",
     "text": [
      " 01:00:57 | Logged in!!\n"
     ]
    }
   ],
   "source": [
    "cred = {\n",
    "    \"APP_NAME\": \"5P56409084\",\n",
    "    \"APP_SOURCE\": \"9217\",\n",
    "    \"USER_ID\": \"pybeQPEbjju\",\n",
    "    \"PASSWORD\": \"AESDZQGqyAa\",\n",
    "    \"USER_KEY\": \"542GTEZguBbLERUXRZe26rLvfWU2X2KD\",\n",
    "    \"ENCRYPTION_KEY\": \"l8sRTIsjl1JhUrz8X48XQJzKGI4k0gft\",\n",
    "}\n",
    "client = FivePaisaClient(\n",
    "    email=\"vasuappliedai@gmail.com\", passwd=\"Vasudeva@1\", dob=\"19981218\", cred=cred\n",
    ")\n",
    "client.login()"
   ]
  },
  {
   "cell_type": "code",
   "execution_count": 5,
   "id": "144ed611",
   "metadata": {},
   "outputs": [
    {
     "name": "stderr",
     "output_type": "stream",
     "text": [
      "C:\\Users\\vasud\\AppData\\Local\\Temp\\ipykernel_10232\\3110652694.py:1: DtypeWarning: Columns (9) have mixed types. Specify dtype option on import or set low_memory=False.\n",
      "  script_df = pd.read_csv(\"scripmaster-csv-format.csv\")\n"
     ]
    }
   ],
   "source": [
    "script_df = pd.read_csv(\"scripmaster-csv-format.csv\")"
   ]
  },
  {
   "cell_type": "code",
   "execution_count": 6,
   "id": "a6556c84",
   "metadata": {},
   "outputs": [],
   "source": [
    "def place_co_bo(order_type, script_code, quantity, price, stop_loss):\n",
    "    test_order = Bo_co_order(\n",
    "        script_code,\n",
    "        quantity,\n",
    "        price,\n",
    "        0,\n",
    "        0,\n",
    "        order_type,\n",
    "        \"N\",\n",
    "        \"D\",\n",
    "        \"p\",\n",
    "        stop_loss + 0.5,\n",
    "        stop_loss,\n",
    "    )\n",
    "    return client.bo_order(test_order)\n",
    "\n"
   ]
  },
  {
   "cell_type": "code",
   "execution_count": 8,
   "id": "5a9cc84e",
   "metadata": {},
   "outputs": [
    {
     "name": "stdout",
     "output_type": "stream",
     "text": [
      " 01:01:34 | Exchange is closed. Cannot place your order.\n"
     ]
    },
    {
     "data": {
      "text/plain": [
       "{'AddReqMgn': 0,\n",
       " 'AvlbMgn': 0,\n",
       " 'BrokerOrderIDNormal': 669877497,\n",
       " 'BrokerOrderIDProfit': 0,\n",
       " 'BrokerOrderIDSL': 0,\n",
       " 'ClientCode': '56409084',\n",
       " 'Exch': 'N',\n",
       " 'ExchOrderID': 0,\n",
       " 'ExchType': 'D',\n",
       " 'FirstOrderPrice': 75000,\n",
       " 'FirstOrderTriggerPrice': 0,\n",
       " 'LocalOrderIDNormal': 0,\n",
       " 'LocalOrderIDProfit': 0,\n",
       " 'LocalOrderIDSL': 0,\n",
       " 'Message': 'Exchange is closed. Cannot place your order.',\n",
       " 'ProfitPrice': 0,\n",
       " 'RMSResponseCode': -47,\n",
       " 'RMSStatus': -47,\n",
       " 'SLOrderPrice': 90050,\n",
       " 'SLOrderTriggerPrice': 90000,\n",
       " 'Time': 1332460800,\n",
       " 'TrailingSL': 0}"
      ]
     },
     "execution_count": 8,
     "metadata": {},
     "output_type": "execute_result"
    }
   ],
   "source": [
    "place_co_bo(\"S\", 53427,25, 750, 750*1.2)"
   ]
  },
  {
   "cell_type": "code",
   "execution_count": null,
   "id": "cf569978",
   "metadata": {},
   "outputs": [],
   "source": [
    "[]"
   ]
  },
  {
   "cell_type": "code",
   "execution_count": null,
   "id": "0ea3588e",
   "metadata": {},
   "outputs": [],
   "source": []
  },
  {
   "cell_type": "code",
   "execution_count": null,
   "id": "10fb1124",
   "metadata": {},
   "outputs": [],
   "source": []
  },
  {
   "cell_type": "code",
   "execution_count": null,
   "id": "5e83652c",
   "metadata": {},
   "outputs": [],
   "source": []
  },
  {
   "cell_type": "code",
   "execution_count": null,
   "id": "f393238d",
   "metadata": {},
   "outputs": [],
   "source": []
  },
  {
   "cell_type": "code",
   "execution_count": null,
   "id": "7ca2ee78",
   "metadata": {},
   "outputs": [],
   "source": []
  }
 ],
 "metadata": {
  "kernelspec": {
   "display_name": "Python 3 (ipykernel)",
   "language": "python",
   "name": "python3"
  },
  "language_info": {
   "codemirror_mode": {
    "name": "ipython",
    "version": 3
   },
   "file_extension": ".py",
   "mimetype": "text/x-python",
   "name": "python",
   "nbconvert_exporter": "python",
   "pygments_lexer": "ipython3",
   "version": "3.10.2"
  }
 },
 "nbformat": 4,
 "nbformat_minor": 5
}
