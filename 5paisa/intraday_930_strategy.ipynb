{
 "cells": [
  {
   "cell_type": "code",
   "execution_count": 29,
   "id": "4e8937cf",
   "metadata": {},
   "outputs": [],
   "source": [
    "from py5paisa import FivePaisaClient\n",
    "from py5paisa.order import Order, OrderType, Exchange, Bo_co_order\n",
    "import time\n",
    "import math\n",
    "import pandas as pd\n",
    "import warnings\n",
    "from datetime import datetime"
   ]
  },
  {
   "cell_type": "code",
   "execution_count": 30,
   "id": "ce8f2e17",
   "metadata": {},
   "outputs": [],
   "source": [
    "warnings.filterwarnings(\"ignore\", category=FutureWarning)"
   ]
  },
  {
   "cell_type": "code",
   "execution_count": 31,
   "id": "11aa1bf4",
   "metadata": {},
   "outputs": [
    {
     "name": "stdout",
     "output_type": "stream",
     "text": [
      " 14:18:31 | Logged in!!\n"
     ]
    }
   ],
   "source": [
    "cred = {\n",
    "    \"APP_NAME\": \"5P56409084\",\n",
    "    \"APP_SOURCE\": \"9217\",\n",
    "    \"USER_ID\": \"pybeQPEbjju\",\n",
    "    \"PASSWORD\": \"AESDZQGqyAa\",\n",
    "    \"USER_KEY\": \"542GTEZguBbLERUXRZe26rLvfWU2X2KD\",\n",
    "    \"ENCRYPTION_KEY\": \"l8sRTIsjl1JhUrz8X48XQJzKGI4k0gft\",\n",
    "}\n",
    "client = FivePaisaClient(\n",
    "    email=\"vasuappliedai@gmail.com\", passwd=\"Vasudeva@1\", dob=\"19981218\", cred=cred\n",
    ")\n",
    "client.login()"
   ]
  },
  {
   "cell_type": "code",
   "execution_count": 32,
   "id": "144ed611",
   "metadata": {},
   "outputs": [
    {
     "name": "stderr",
     "output_type": "stream",
     "text": [
      "C:\\Users\\vasud\\AppData\\Local\\Temp\\ipykernel_13036\\3110652694.py:1: DtypeWarning: Columns (9) have mixed types. Specify dtype option on import or set low_memory=False.\n",
      "  script_df = pd.read_csv(\"scripmaster-csv-format.csv\")\n"
     ]
    }
   ],
   "source": [
    "script_df = pd.read_csv(\"scripmaster-csv-format.csv\")"
   ]
  },
  {
   "cell_type": "code",
   "execution_count": 21,
   "id": "f1f19004",
   "metadata": {},
   "outputs": [
    {
     "data": {
      "text/plain": [
       "(14, 13)"
      ]
     },
     "execution_count": 21,
     "metadata": {},
     "output_type": "execute_result"
    }
   ],
   "source": [
    "current_hour = datetime.today().hour\n",
    "current_minute = datetime.today().minute\n",
    "current_hour,current_minute"
   ]
  },
  {
   "cell_type": "code",
   "execution_count": 26,
   "id": "4affbc9e",
   "metadata": {},
   "outputs": [
    {
     "name": "stdout",
     "output_type": "stream",
     "text": [
      "Banknifty at 10:30am  35700.0\n"
     ]
    }
   ],
   "source": [
    "nifty_script_code = 999920000\n",
    "banknifty_script_code = 999920005\n",
    "given_date = datetime.today().strftime(\"%Y-%m-%d\")\n",
    "strikePrice = None\n",
    "if(current_hour == 9 and current_minute <=30):\n",
    "    strikePrice = client.historical_data(\"N\", \"C\", banknifty_script_code, \"1m\", given_date, given_date).tail(1)[\"Open\"].iloc[0]\n",
    "else:\n",
    "    strikePrice = client.historical_data(\"N\", \"C\", banknifty_script_code, \"1m\", given_date, given_date)[\n",
    "        \"Open\"\n",
    "    ].loc[15]\n",
    "strikePrice = round(strikePrice / 1000, 1) * 1000\n",
    "print(\"Banknifty at 10:30am \", strikePrice)\n",
    "expiry = \"20220324\"\n",
    "symbol = \"BANKNIFTY 24 Mar 2022\"\n",
    "call_symbol = symbol + \" CE \" + strikePrice.__str__() + \"0\"\n",
    "put_symbol = symbol + \" PE \" + strikePrice.__str__() + \"0\"\n",
    "call_script_code = script_df[script_df[\"FullName\"]\n",
    "                             == call_symbol].iloc[0][\"Scripcode\"].__int__()\n",
    "put_script_code = script_df[script_df[\"FullName\"]\n",
    "                            == put_symbol].iloc[0][\"Scripcode\"].__int__()\n"
   ]
  },
  {
   "cell_type": "code",
   "execution_count": 27,
   "id": "aa3304e1",
   "metadata": {},
   "outputs": [],
   "source": [
    "def place_co_bo(order_type, script_code, quantity, price, stop_loss):\n",
    "    if order_type == \"B\" or order_type == \"S\":\n",
    "        return {\"ExchOrderID\": \"12333\"}\n",
    "    test_order = Bo_co_order(\n",
    "        script_code,\n",
    "        quantity,\n",
    "        price,\n",
    "        0,\n",
    "        0,\n",
    "        order_type,\n",
    "        \"N\",\n",
    "        \"D\",\n",
    "        \"p\",\n",
    "        stop_loss + 0.5,\n",
    "        stop_loss,\n",
    "    )\n",
    "    return client.bo_order(test_order)\n",
    "\n",
    "\n",
    "def modify_sl_co_bo(order_type, script_code, quantity, stop_loss, exchange_id):\n",
    "    if order_type == \"B\" or order_type == \"S\":\n",
    "        return {\"ExchOrderID\": \"12333\"}\n",
    "    test_order = Order(\n",
    "        order_type=order_type,\n",
    "        scrip_code=script_code,\n",
    "        quantity=quantity,\n",
    "        price=0,\n",
    "        is_intraday=True,\n",
    "        exchange=\"N\",\n",
    "        exchange_segment=\"D\",\n",
    "        atmarket=True,\n",
    "        exch_order_id=exchange_id,\n",
    "        stoploss_price=stop_loss,\n",
    "        is_stoploss_order=True,\n",
    "        order_for=\"M\",\n",
    "    )\n",
    "    return client.mod_bo_order(test_order)\n",
    "\n",
    "\n",
    "def place_order(order_type, script_code, quantity, price, stop_loss):\n",
    "    if order_type == \"B\" or order_type == \"S\":\n",
    "        return {\"ExchOrderID\": \"12333\"}\n",
    "    test_order = Order(\n",
    "        order_type=order_type,\n",
    "        exchange=\"N\",\n",
    "        exchange_segment=\"D\",\n",
    "        scrip_code=script_code,\n",
    "        quantity=quantity,\n",
    "        price=price,\n",
    "        is_intraday=True,\n",
    "        stoploss_price=stop_loss,\n",
    "        is_stoploss_order=True,\n",
    "    )\n",
    "    return client.place_order(test_order)\n",
    "\n",
    "\n",
    "def modify_order(order_type, script_code, quantity, price, order_id):\n",
    "    if order_type == \"B\" or order_type == \"S\":\n",
    "        return {\"ExchOrderID\": \"12333\"}\n",
    "    modify_order = Order(\n",
    "        order_type=\"B\",\n",
    "        quantity=25,\n",
    "        exchange=\"N\",\n",
    "        exchange_segment=\"D\",\n",
    "        price=new_stop_loss,\n",
    "        is_intraday=True,\n",
    "        exch_order_id=order_id,\n",
    "    )\n",
    "    return client.modify_order(modify_order)\n"
   ]
  },
  {
   "cell_type": "code",
   "execution_count": 28,
   "id": "d022482c",
   "metadata": {},
   "outputs": [],
   "source": [
    "def entry_stoploss(script_code: int, date):\n",
    "    df = client.historical_data(\"N\", \"D\", script_code, \"5m\", date, date)\n",
    "    entry_price = df.loc[3][\"Open\"]\n",
    "    stop_loss = entry_price * 1.2\n",
    "    return (math.ceil(entry_price), math.ceil(stop_loss))\n",
    "\n",
    "\n",
    "def get_stoploss_time(script_code, date, stop_loss):\n",
    "    df = client.historical_data(\n",
    "        \"N\", \"D\", script_code, \"1m\", date, date).iloc[15:]\n",
    "    # print(df[df[\"Datetime\"] == \"2022-03-15T09:49:00\"])\n",
    "    temp_df = df[df[\"High\"] >= stop_loss]\n",
    "    stop_loss_time = None\n",
    "    if len(temp_df) > 0:\n",
    "        stop_loss_time = temp_df.iloc[0][\"Datetime\"]\n",
    "    return stop_loss_time\n",
    "\n",
    "\n",
    "def get_dataframe_date(df, given_date):\n",
    "    final_df = pd.DataFrame()\n",
    "    for index in range(len(df)):\n",
    "        temp_df = df.iloc[index]\n",
    "        if temp_df[\"Datetime\"].__contains__(given_date):\n",
    "            final_df = final_df.append(temp_df)\n",
    "    return final_df\n",
    "\n",
    "\n",
    "def new_entry_stoploss(script_code, date, stop_loss_time):\n",
    "    df = client.historical_data(\n",
    "        \"N\", \"D\", script_code, \"1m\", date, date).loc[15:]\n",
    "    new_entry_index = df.index[df[\"Datetime\"] == stop_loss_time][0]\n",
    "    new_entry_point = df.loc[new_entry_index][\"Close\"]\n",
    "    new_stop_loss = math.ceil(new_entry_point * 1.2)\n",
    "    print(\"Current Price Vs New stop loss at \", new_entry_point, new_stop_loss)\n",
    "    # print(modify_order(\"B\", trailing_script_code, 25, new_stop_loss, order_id))\n",
    "    print(modify_sl_co_bo(\"B\", trailing_script_code, 25, new_stop_loss, order_id))\n",
    "    screen_dataframe = get_dataframe_date(df, given_date)\n",
    "    # If Test after market uncomment below\n",
    "    # screen_dataframe = screen_dataframe[new_entry_index:-30]\n",
    "    screen_dataframe = screen_dataframe[new_entry_index:]\n",
    "    return screen_dataframe, new_stop_loss\n",
    "\n",
    "\n",
    "def get_exit_points(screen_dataframe, new_stop_loss):\n",
    "    buy_point = -1\n",
    "    for index in range(len(screen_dataframe)):\n",
    "        temp_df = screen_dataframe.iloc[index]\n",
    "        temp_high_point = temp_df[\"High\"]\n",
    "        temp_low_point = temp_df[\"Low\"]\n",
    "        if temp_high_point > new_stop_loss:\n",
    "            buy_point = temp_high_point\n",
    "            print(\"Exited att \", new_stop_loss)\n",
    "            print(\"Exited dff\\n\", temp_df)\n",
    "            break\n",
    "        elif temp_low_point < new_stop_loss * 0.75:\n",
    "            new_stop_loss = math.ceil(temp_low_point * 1.2)\n",
    "            # print(modify_order(\"B\", trailing_script_code,\n",
    "            #       25, new_stop_loss, order_id))\n",
    "            print(\n",
    "                \"Updated stoploss & Current Price & Time \",\n",
    "                new_stop_loss,\n",
    "                temp_low_point,\n",
    "                temp_df[\"Datetime\"],\n",
    "            )\n",
    "    if buy_point == -1:\n",
    "        print(\"Exited at \", new_stop_loss)\n",
    "        print(\"Exited dff \\n\", screen_dataframe.tail(1))\n",
    "\n",
    "\n",
    "def wait_for_order_execution(brokerId):\n",
    "    while_flag = True\n",
    "    while while_flag:\n",
    "        order_book = client.order_book()\n",
    "        for index in range(len(order_book)):\n",
    "            order = order_book[index]\n",
    "            if(order[\"BrokerOrderId\"] == brokerId):\n",
    "                final_order = order\n",
    "                if(final_order[\"OrderStatus\"] == \"Fully Executed\"):\n",
    "                    while_flag = False\n",
    "                else:\n",
    "                    sleep(60)\n",
    "                break\n",
    "    return final_order\n",
    "\n",
    "def get_current_price():\n",
    "    while True:\n",
    "        market_data = client.fetch_market_feed(req_list_)[\"Data\"]\n",
    "        print(market_data)\n",
    "        call_price = market_data[0][\"LastRate\"]\n",
    "        put_price = market_data[1][\"LastRate\"]\n",
    "        print(call_price)\n",
    "        print(put_price)\n",
    "        print(client.margin()[0][\"AvailableMargin\"])\n",
    "        print(\"\\n\\n\\n================================\\n\\n\\n\")\n",
    "        time.sleep(5)\n",
    "\n",
    "\n"
   ]
  },
  {
   "cell_type": "code",
   "execution_count": 8,
   "id": "ce70cee3",
   "metadata": {},
   "outputs": [],
   "source": [
    "call_entry, call_stoploss = entry_stoploss(call_script_code, given_date)\n",
    "put_entry, put_stoploss = entry_stoploss(put_script_code, given_date)"
   ]
  },
  {
   "cell_type": "code",
   "execution_count": 9,
   "id": "021120b2",
   "metadata": {},
   "outputs": [],
   "source": [
    "# place_order(\"S\", 53435, 25, 500, 600)\n",
    "# cover order\n",
    "call_order_id = place_co_bo(\"S\", call_script_code,\n",
    "                            25, call_entry, call_stoploss)[\"ExchOrderID\"]\n",
    "put_order_id = place_co_bo(\"S\", put_script_code, 25,\n",
    "                           put_entry, put_stoploss)[\"ExchOrderID\"]"
   ]
  },
  {
   "cell_type": "code",
   "execution_count": 10,
   "id": "03bd3581",
   "metadata": {},
   "outputs": [
    {
     "name": "stdout",
     "output_type": "stream",
     "text": [
      "Put Entry and Stoploss  434 520\n",
      "Call Entry and Stoploss  485 582\n",
      "Call Order ID and PUT Order ID  12333 12333\n"
     ]
    }
   ],
   "source": [
    "print(\"Put Entry and Stoploss \", put_entry, put_stoploss)\n",
    "print(\"Call Entry and Stoploss \", call_entry, call_stoploss)\n",
    "print(\"Call Order ID and PUT Order ID \", call_order_id, put_order_id)"
   ]
  },
  {
   "cell_type": "code",
   "execution_count": 11,
   "id": "d4a77383",
   "metadata": {},
   "outputs": [
    {
     "name": "stdout",
     "output_type": "stream",
     "text": [
      "Stoploss hit time at PUT  2022-03-22T10:13:00\n",
      "Stoploss hit time at CALL  2022-03-22T13:00:00\n"
     ]
    }
   ],
   "source": [
    "put_stop_loss_time = get_stoploss_time(\n",
    "    put_script_code, given_date, put_stoploss)\n",
    "print(\"Stoploss hit time at PUT \", put_stop_loss_time)\n",
    "call_stop_loss_time = get_stoploss_time(\n",
    "    call_script_code, given_date, call_stoploss)\n",
    "print(\"Stoploss hit time at CALL \", call_stop_loss_time)"
   ]
  },
  {
   "cell_type": "code",
   "execution_count": 12,
   "id": "df1e1581",
   "metadata": {},
   "outputs": [],
   "source": [
    "stop_loss_time = None\n",
    "trailing_script_code = None\n",
    "order_id = None\n",
    "if put_stop_loss_time is not None:\n",
    "    stop_loss_time = put_stop_loss_time\n",
    "    trailing_script_code = call_script_code\n",
    "    order_id = call_order_id\n",
    "if call_stop_loss_time is not None:\n",
    "    stop_loss_time = call_stop_loss_time\n",
    "    trailing_script_code = put_script_code\n",
    "    order_id = put_order_id"
   ]
  },
  {
   "cell_type": "code",
   "execution_count": 13,
   "id": "2a450beb",
   "metadata": {},
   "outputs": [
    {
     "name": "stdout",
     "output_type": "stream",
     "text": [
      "Current Price Vs New stop loss at  297.1 357\n",
      "{'ExchOrderID': '12333'}\n",
      "Exited at  357\n",
      "Exited dff \n",
      " Empty DataFrame\n",
      "Columns: []\n",
      "Index: []\n"
     ]
    }
   ],
   "source": [
    "screen_dataframe, new_stop_loss = (None, None)\n",
    "if stop_loss_time is not None:\n",
    "    screen_dataframe, new_stop_loss = new_entry_stoploss(\n",
    "        trailing_script_code,\n",
    "        given_date,\n",
    "        stop_loss_time,\n",
    "    )\n",
    "    get_exit_points(screen_dataframe, new_stop_loss)\n"
   ]
  },
  {
   "cell_type": "code",
   "execution_count": 21,
   "id": "de2bd1f6",
   "metadata": {},
   "outputs": [
    {
     "name": "stdout",
     "output_type": "stream",
     "text": [
      " 00:44:44 | Success\n"
     ]
    }
   ],
   "source": [
    "req_list_ = [\n",
    "    {\n",
    "        \"Exch\": \"N\",\n",
    "        \"ExchType\": \"D\",\n",
    "        \"Symbol\": call_symbol,\n",
    "        \"Expiry\": expiry,\n",
    "        \"StrikePrice\": strikePrice,\n",
    "        \"OptionType\": \"CE\",\n",
    "    },\n",
    "    {\n",
    "        \"Exch\": \"N\",\n",
    "        \"ExchType\": \"D\",\n",
    "        \"Symbol\": put_symbol,\n",
    "        \"Expiry\": expiry,\n",
    "        \"StrikePrice\": strikePrice,\n",
    "        \"OptionType\": \"PE\",\n",
    "    },\n",
    "]\n",
    "market_data = client.fetch_market_feed(req_list_)[\"Data\"]"
   ]
  },
  {
   "cell_type": "code",
   "execution_count": 42,
   "id": "5f699c00",
   "metadata": {},
   "outputs": [],
   "source": [
    "def get_last_traded_prices():\n",
    "    req_list = [\n",
    "        {\n",
    "            \"Exch\": \"N\",\n",
    "            \"ExchType\": \"D\",\n",
    "            \"Symbol\": call_symbol,\n",
    "            \"Expiry\": expiry,\n",
    "            \"StrikePrice\": strikePrice,\n",
    "            \"OptionType\": \"CE\",\n",
    "        },\n",
    "        {\n",
    "            \"Exch\": \"N\",\n",
    "            \"ExchType\": \"D\",\n",
    "            \"Symbol\": put_symbol,\n",
    "            \"Expiry\": expiry,\n",
    "            \"StrikePrice\": strikePrice,\n",
    "            \"OptionType\": \"PE\",\n",
    "        },\n",
    "    ]\n",
    "\n",
    "    market_data = client.fetch_market_feed([req_list[0]])[\"Data\"]\n",
    "    call_ltp = market_data[0][\"LastRate\"]\n",
    "    market_data = client.fetch_market_feed([req_list[1]])[\"Data\"]\n",
    "    put_ltp = market_data[0][\"LastRate\"]\n",
    "    return call_ltp, put_ltp\n",
    "\n"
   ]
  },
  {
   "cell_type": "code",
   "execution_count": 43,
   "id": "b227ab50",
   "metadata": {},
   "outputs": [
    {
     "name": "stdout",
     "output_type": "stream",
     "text": [
      " 00:56:05 | Success\n",
      " 00:56:05 | Success\n"
     ]
    },
    {
     "data": {
      "text/plain": [
       "(948, 118.6)"
      ]
     },
     "execution_count": 43,
     "metadata": {},
     "output_type": "execute_result"
    }
   ],
   "source": [
    "get_last_traded_prices()"
   ]
  },
  {
   "cell_type": "code",
   "execution_count": null,
   "id": "8b17a312",
   "metadata": {},
   "outputs": [],
   "source": []
  },
  {
   "cell_type": "code",
   "execution_count": null,
   "id": "57a81eea",
   "metadata": {},
   "outputs": [],
   "source": []
  }
 ],
 "metadata": {
  "kernelspec": {
   "display_name": "Python 3 (ipykernel)",
   "language": "python",
   "name": "python3"
  },
  "language_info": {
   "codemirror_mode": {
    "name": "ipython",
    "version": 3
   },
   "file_extension": ".py",
   "mimetype": "text/x-python",
   "name": "python",
   "nbconvert_exporter": "python",
   "pygments_lexer": "ipython3",
   "version": "3.10.2"
  }
 },
 "nbformat": 4,
 "nbformat_minor": 5
}
