{
  "cells": [
    {
      "cell_type": "code",
      "execution_count": null,
      "id": "b1b2aaf5",
      "metadata": {},
      "outputs": [],
      "source": [
        "from py5paisa import FivePaisaClient\n",
        "from py5paisa.order import Order, OrderType, Exchange, Bo_co_order\n",
        "import time\n",
        "import pandas as pd\n",
        "import warnings\n",
        "from datetime import datetime"
      ]
    },
    {
      "cell_type": "code",
      "execution_count": null,
      "id": "21da43c8",
      "metadata": {},
      "outputs": [],
      "source": [
        "warnings.filterwarnings(\"ignore\", category=FutureWarning)"
      ]
    },
    {
      "cell_type": "code",
      "execution_count": null,
      "id": "6a1be61a",
      "metadata": {},
      "outputs": [],
      "source": [
        "cred = {\n",
        "    \"APP_NAME\": \"5P56409084\",\n",
        "    \"APP_SOURCE\": \"9217\",\n",
        "    \"USER_ID\": \"pybeQPEbjju\",\n",
        "    \"PASSWORD\": \"AESDZQGqyAa\",\n",
        "    \"USER_KEY\": \"542GTEZguBbLERUXRZe26rLvfWU2X2KD\",\n",
        "    \"ENCRYPTION_KEY\": \"l8sRTIsjl1JhUrz8X48XQJzKGI4k0gft\",\n",
        "}\n",
        "client = FivePaisaClient(\n",
        "    email=\"vasuappliedai@gmail.com\", passwd=\"Vasudeva@1\", dob=\"19981218\", cred=cred\n",
        ")\n",
        "client.login()"
      ]
    },
    {
      "cell_type": "code",
      "execution_count": null,
      "id": "cc40d201",
      "metadata": {},
      "outputs": [],
      "source": [
        "def get_current_expiry_strikes(symbol, start_strike, end_strike):\n",
<<<<<<< HEAD
        "    indices = script_df.index[script_df[\"FullName\"].str.contains(\n",
        "        pat=bank_nifty_symbol + \" CE\", regex=True) == True].tolist()\n",
        "    call_df = script_df.iloc[indices]\n",
        "    call_df = call_df[call_df[\"StrikeRate\"] > start_strike]\n",
        "    call_df = call_df[call_df[\"StrikeRate\"] < end_strike]\n",
        "    call_df.to_csv(\"bank_nifty_call_expiry.csv\")\n",
        "    indices = script_df.index[script_df[\"FullName\"].str.contains(\n",
        "        pat=bank_nifty_symbol + \" PE\", regex=True) == True].tolist()\n",
        "    put_df = script_df.iloc[indices]\n",
=======
        "    temp_df = script_df[\"FullName\"].str.contains(\n",
        "        pat=symbol + \" CE\", regex=True)\n",
        "    call_df = script_df[temp_df]\n",
        "    call_df = call_df[call_df[\"StrikeRate\"] > start_strike]\n",
        "    call_df = call_df[call_df[\"StrikeRate\"] < end_strike]\n",
        "    call_df.to_csv(\"bank_nifty_call_expiry.csv\")\n",
        "    temp_df = script_df[\"FullName\"].str.contains(\n",
        "        pat=symbol + \" PE\", regex=True)\n",
        "    put_df = script_df[temp_df]\n",
>>>>>>> cb8cc6ffe9af32637f6628330ed3db7fa368f57e
        "    put_df = put_df[put_df[\"StrikeRate\"] > start_strike]\n",
        "    put_df = put_df[put_df[\"StrikeRate\"] < end_strike]\n",
        "    put_df.to_csv(\"bank_nifty_put_expiry.csv\")\n",
        "    return call_df, put_df\n",
        "\n",
        "def map_prices_to_strike_prices(data_frame, entry_point=None):\n",
        "    temp_rows = []\n",
        "    for _, row in data_frame.iterrows():\n",
        "        script_code = row[\"Scripcode\"]\n",
        "        try:\n",
        "            if entry_point is None:\n",
        "                close_point = client.historical_data(\"N\", \"D\", script_code, \"5m\", \n",
        "                    given_date, given_date).tail(1)\n",
        "                temp_rows.append(close_point[\"Close\"].iloc[0])\n",
        "            else:\n",
        "                close_points = client.historical_data(\"N\", \"D\", script_code, \"1m\", \n",
        "                    given_date, given_date)\n",
        "                if close_points is not None:\n",
        "                    close_points[\"Datetime\"] = pd.to_datetime(close_points[\"Datetime\"])\n",
        "                    close_point = close_points[close_points[\"Datetime\"]==datetime.fromisoformat(str(entry_point))][\"Close\"].iloc[0]\n",
        "                    temp_rows.append(close_point)\n",
        "                else: \n",
        "                    temp_rows.append(9999)\n",
        "        except:\n",
        "            temp_rows.append(9999)\n",
        "            continue\n",
        "    data_frame[\"LTP\"] = temp_rows\n",
        "    return data_frame.sort_values(by=[\"LTP\"])\n",
        "\n",
        "\n",
        "def adjust_strangle(option_type,desired_price,entry_point):\n",
        "    call_df, put_df = get_current_expiry_strikes(bank_nifty_symbol, strikePrice*0.9, strikePrice*1.1)\n",
        "    if option_type == \"CE\":\n",
        "        call_option_chain = map_prices_to_strike_prices(call_df,entry_point)\n",
        "        call_script_code = call_option_chain[call_option_chain[\"LTP\"]<desired_price].tail(1)[\"Scripcode\"].iloc[0]\n",
        "        call_sell = call_option_chain[call_option_chain[\"LTP\"]<desired_price].tail(1)[\"LTP\"].iloc[0]\n",
        "        call_symbol = call_option_chain[call_option_chain[\"LTP\"]<desired_price].tail(1)[\"Name\"].iloc[0]\n",
        "        print(\"Sold call call_sell, call_symbol, call_script_code \",call_sell,call_symbol, call_script_code)\n",
        "    if option_type == \"PE\":\n",
        "        put_option_chain = map_prices_to_strike_prices(put_df,entry_point)\n",
        "        desired_put_df = put_option_chain[put_option_chain[\"LTP\"]<desired_price].tail(1)\n",
        "        put_script_code = desired_put_df[\"Scripcode\"].iloc[0]\n",
        "        put_sell = desired_put_df[\"LTP\"].iloc[0]\n",
        "        put_symbol = desired_put_df[\"Name\"].iloc[0]\n",
        "        print(\"Sold put sell put_sell, put_symbol, put_script_code \",put_sell,put_symbol,put_script_code)\n",
        "\n",
        "\n",
        "def start_strangle(entry_time,call_script_code,put_script_code):\n",
        "    call_df = client.historical_data('N','D',call_script_code,'1m',given_date,given_date)\n",
        "    call_df[\"Datetime\"] = pd.to_datetime(call_df[\"Datetime\"])\n",
        "    call_df[\"Close CE\"] = call_df[\"Close\"]\n",
        "    call_df = call_df[call_df[\"Datetime\"]>datetime.fromisoformat(entry_time)]\n",
        "    call_df = call_df[[\"Datetime\",\"Close CE\"]]\n",
        "    put_df = client.historical_data('N','D',put_script_code,'1m',given_date,given_date)\n",
        "    put_df[\"Datetime\"] = pd.to_datetime(put_df[\"Datetime\"])\n",
        "    put_df[\"Close PE\"] = put_df[\"Close\"]\n",
        "    put_df = put_df[put_df[\"Datetime\"]>datetime.fromisoformat(entry_time)]\n",
        "    put_df = put_df[[\"Datetime\",\"Close PE\"]]\n",
        "    merged_df = pd.merge(call_df,put_df,on=\"Datetime\")\n",
        "    for index,row in merged_df.iterrows() : \n",
        "        call_point = row[\"Close CE\"]\n",
        "        put_point = row[\"Close PE\"]\n",
        "        if(call_point*0.5 > put_point):\n",
        "            print(\"PE is half of CE at time, call_price and put_price \",row[\"Datetime\"],call_point,put_point)\n",
        "            adjust_strangle(\"PE\",call_point*0.85,row[\"Datetime\"])\n",
        "            return \"PE\",row[\"Datetime\"]\n",
        "        elif(call_point < put_point*0.5):        \n",
        "            print(\"CE is half of PE at index, call_price and put_price \",row[\"Datetime\"],call_point,put_point)\n",
        "            adjust_strangle(\"CE\",put_point*0.85,row[\"Datetime\"])\n",
        "            return \"CE\",row[\"Datetime\"]\n",
        "\n",
        "def check_sum_not_greater(listA,listB,total):\n",
        "    for i in range(len(listA)):\n",
        "        if listA[i]+listB[i] >=total:\n",
        "            print(\"Stoploss for straddle hit Call Price\",listA[i], \" Put Price \",listB[i])\n",
        "            return\n",
        "\n",
        "def start_straddle(entry_time,call_script_code,put_script_code,total_premium):\n",
        "    call_df = client.historical_data('N','D',call_script_code,'1m',given_date,given_date)\n",
        "    call_df[\"Datetime\"] = pd.to_datetime(call_df[\"Datetime\"])\n",
        "    call_df = call_df[call_df[\"Datetime\"]>datetime.fromisoformat(entry_time)]\n",
        "    put_df = client.historical_data('N','D',put_script_code,'1m',given_date,given_date)\n",
        "    put_df[\"Datetime\"] = pd.to_datetime(put_df[\"Datetime\"])\n",
        "    put_df = put_df[put_df[\"Datetime\"]>datetime.fromisoformat(entry_time)]  \n",
        "    call_points = call_df[\"Close\"].values.tolist()\n",
        "    put_points = put_df[\"Close\"].values.tolist()\n",
        "    check_sum_not_greater(call_points,put_points,total_premium*1.1)\n",
        "    print(len(call_points),\" \",len(put_points))\n",
        "       \n",
        "def rounded_number(number):\n",
        "    return (round(strikePrice / 1000, 1) * 1000).astype(int)"
      ]
    },
    {
      "cell_type": "code",
      "execution_count": null,
      "id": "1d4b3fb7",
      "metadata": {},
      "outputs": [],
      "source": [
        "# This code should be executed on Thursday or when profit is booked\n",
        "nifty_script_code = 999920000\n",
        "banknifty_script_code = 999920005\n",
        "given_date = datetime.today().strftime(\"%Y-%m-%d\")\n",
        "script_df = pd.read_csv(\"scripmaster-csv-format.csv\",low_memory=False)\n",
<<<<<<< HEAD
        "bank_nifty_symbol = \"BANKNIFTY 02 Jun 2022\"\n",
=======
        "bank_nifty_symbol = \"BANKNIFTY 05 May 2022\"\n",
>>>>>>> cb8cc6ffe9af32637f6628330ed3db7fa368f57e
        "strikePrice = client.historical_data(\"N\", \"C\", banknifty_script_code, \"1m\", given_date, given_date)[\"Open\"].iloc[15]\n",
        "strikePrice = rounded_number(strikePrice)\n",
        "strikePrice"
      ]
    },
    {
      "cell_type": "code",
      "execution_count": null,
      "id": "a1d64b3e",
      "metadata": {},
      "outputs": [],
      "source": [
        "call_df, put_df = get_current_expiry_strikes(bank_nifty_symbol, strikePrice*0.9, strikePrice*1.1)\n",
        "call_df,put_df"
      ]
    },
    {
      "cell_type": "code",
      "execution_count": null,
      "id": "80426afe",
      "metadata": {},
      "outputs": [],
      "source": [
<<<<<<< HEAD
        "call_option_chain = map_prices_to_strike_prices(call_df,given_date+\"T10:25:00\")\n",
        "put_option_chain = map_prices_to_strike_prices(put_df,given_date+\"T10:25:00\")"
=======
        "call_option_chain = map_prices_to_strike_prices(call_df,given_date+\"T15:25:00\")\n",
        "put_option_chain = map_prices_to_strike_prices(put_df,given_date+\"T15:25:00\")"
>>>>>>> cb8cc6ffe9af32637f6628330ed3db7fa368f57e
      ]
    },
    {
      "cell_type": "code",
      "execution_count": null,
      "id": "35d18b45",
      "metadata": {},
      "outputs": [],
      "source": [
        "desired_call_price = 125\n",
        "desired_put_price = 125"
      ]
    },
    {
      "cell_type": "code",
      "execution_count": null,
      "id": "24128258",
      "metadata": {},
      "outputs": [],
      "source": [
        "call_option_chain[call_option_chain[\"LTP\"]<desired_call_price].tail(1)"
      ]
    },
    {
      "cell_type": "code",
      "execution_count": null,
      "id": "0d3624dd",
      "metadata": {},
      "outputs": [],
      "source": [
        "put_option_chain[put_option_chain[\"LTP\"]<desired_put_price].tail(1)"
      ]
    },
    {
      "cell_type": "code",
      "execution_count": null,
      "id": "a99dce74",
      "metadata": {},
      "outputs": [],
      "source": [
        "call_script_code = call_option_chain[call_option_chain[\"LTP\"]<desired_call_price].tail(1)[\"Scripcode\"].iloc[0]\n",
        "put_script_code = put_option_chain[put_option_chain[\"LTP\"]<desired_put_price].tail(1)[\"Scripcode\"].iloc[0]\n",
        "call_script_code,put_script_code"
      ]
    },
    {
      "cell_type": "code",
      "execution_count": null,
      "id": "2639c011",
      "metadata": {},
      "outputs": [],
      "source": [
<<<<<<< HEAD
        "call_script_code = 48831\n",
        "put_script_code = 48736"
=======
        "call_script_code = 55462\n",
        "put_script_code = 55463"
>>>>>>> cb8cc6ffe9af32637f6628330ed3db7fa368f57e
      ]
    },
    {
      "cell_type": "code",
      "execution_count": null,
      "id": "12cf84e1",
      "metadata": {},
      "outputs": [],
      "source": [
<<<<<<< HEAD
        "start_strangle(given_date+\"T11:15:00\",call_script_code,put_script_code)"
=======
        "start_strangle(given_date+\"T15:17:00\",call_script_code,put_script_code)"
>>>>>>> cb8cc6ffe9af32637f6628330ed3db7fa368f57e
      ]
    },
    {
      "cell_type": "code",
      "execution_count": null,
      "id": "7a448a09",
      "metadata": {},
      "outputs": [],
      "source": [
<<<<<<< HEAD
        "start_straddle(given_date+\"T09:15:00\",call_script_code,put_script_code,1233) "
=======
        "start_straddle(given_date+\"T09:15:00\",call_script_code,put_script_code,863) "
>>>>>>> cb8cc6ffe9af32637f6628330ed3db7fa368f57e
      ]
    },
    {
      "cell_type": "code",
      "execution_count": null,
      "id": "a714a113",
      "metadata": {},
      "outputs": [],
      "source": [
        "def day_close_check(call_script_code,put_script_code):\n",
        "    timestamp = given_date+\"T15:25:00\"\n",
        "    call_df = client.historical_data('N','D',call_script_code,'1m',given_date,given_date)\n",
        "    call_point = call_df[call_df[\"Datetime\"]==timestamp][\"Close\"].iloc[0]\n",
        "    put_df = client.historical_data('N','D',put_script_code,'1m',given_date,given_date)\n",
        "    put_point = put_df[put_df[\"Datetime\"]==timestamp][\"Close\"].iloc[0]\n",
        "    if(call_point < put_point*0.75):\n",
        "        print(\"Buy CE at \", call_point)\n",
        "        print(\"Buy CE and sell CE near to put strike price\")\n",
        "        adjust_strangle(\"CE\",put_point*0.85,timestamp)\n",
        "    if(put_point < call_point*0.75):\n",
        "        print(\"Buy PE at \", put_point)\n",
        "        print(\"selling PE near to call strike price\")\n",
        "        adjust_strangle(\"PE\",call_point*0.85,timestamp)\n",
        "    \n",
        "day_close_check(call_script_code,put_script_code)"
      ]
    }
  ],
  "metadata": {
<<<<<<< HEAD
    "interpreter": {
      "hash": "ca098deafe9106c986d490fc5d08ba3b487be8226f0c979f06e58f612c732309"
    },
    "kernelspec": {
      "display_name": "Python 3.10.2 64-bit",
=======
    "kernelspec": {
      "display_name": "Python 3 (ipykernel)",
>>>>>>> cb8cc6ffe9af32637f6628330ed3db7fa368f57e
      "language": "python",
      "name": "python3"
    },
    "language_info": {
      "codemirror_mode": {
        "name": "ipython",
        "version": 3
      },
      "file_extension": ".py",
      "mimetype": "text/x-python",
      "name": "python",
      "nbconvert_exporter": "python",
      "pygments_lexer": "ipython3",
<<<<<<< HEAD
      "version": "3.10.2"
=======
      "version": "3.7.9"
>>>>>>> cb8cc6ffe9af32637f6628330ed3db7fa368f57e
    }
  },
  "nbformat": 4,
  "nbformat_minor": 5
}
