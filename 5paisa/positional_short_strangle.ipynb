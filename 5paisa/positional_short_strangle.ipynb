{
 "cells": [
  {
   "cell_type": "code",
   "execution_count": 119,
   "id": "b1b2aaf5",
   "metadata": {},
   "outputs": [],
   "source": [
    "from py5paisa import FivePaisaClient\n",
    "from py5paisa.order import Order, OrderType, Exchange, Bo_co_order\n",
    "import time\n",
    "import math\n",
    "import pandas as pd\n",
    "import warnings\n",
    "from datetime import datetime"
   ]
  },
  {
   "cell_type": "code",
   "execution_count": 120,
   "id": "21da43c8",
   "metadata": {},
   "outputs": [],
   "source": [
    "warnings.filterwarnings(\"ignore\", category=FutureWarning)"
   ]
  },
  {
   "cell_type": "code",
   "execution_count": 121,
   "id": "6a1be61a",
   "metadata": {},
   "outputs": [
    {
     "name": "stdout",
     "output_type": "stream",
     "text": [
      " 00:08:09 | Logged in!!\n"
     ]
    }
   ],
   "source": [
    "cred = {\n",
    "    \"APP_NAME\": \"5P56409084\",\n",
    "    \"APP_SOURCE\": \"9217\",\n",
    "    \"USER_ID\": \"pybeQPEbjju\",\n",
    "    \"PASSWORD\": \"AESDZQGqyAa\",\n",
    "    \"USER_KEY\": \"542GTEZguBbLERUXRZe26rLvfWU2X2KD\",\n",
    "    \"ENCRYPTION_KEY\": \"l8sRTIsjl1JhUrz8X48XQJzKGI4k0gft\",\n",
    "}\n",
    "client = FivePaisaClient(\n",
    "    email=\"vasuappliedai@gmail.com\", passwd=\"Vasudeva@1\", dob=\"19981218\", cred=cred\n",
    ")\n",
    "client.login()"
   ]
  },
  {
   "cell_type": "code",
   "execution_count": 116,
   "id": "cc40d201",
   "metadata": {},
   "outputs": [],
   "source": [
    "def get_current_expiry_strikes(symbol, start_strike, end_strike):\n",
    "    temp_df = script_df[\"FullName\"].str.contains(\n",
    "        pat=symbol + \" CE\", regex=True)\n",
    "    call_df = script_df[temp_df]\n",
    "    call_df = call_df[call_df[\"StrikeRate\"] > start_strike]\n",
    "    call_df = call_df[call_df[\"StrikeRate\"] < end_strike]\n",
    "    call_df.to_csv(\"bank_nifty_call_expiry.csv\")\n",
    "    temp_df = script_df[\"FullName\"].str.contains(\n",
    "        pat=symbol + \" PE\", regex=True)\n",
    "    put_df = script_df[temp_df]\n",
    "    put_df = put_df[put_df[\"StrikeRate\"] > start_strike]\n",
    "    put_df = put_df[put_df[\"StrikeRate\"] < end_strike]\n",
    "    put_df.to_csv(\"bank_nifty_put_expiry.csv\")\n",
    "    return call_df, put_df\n",
    "\n",
    "def map_prices_to_strike_prices(data_frame, entry_point=None):\n",
    "    temp_rows = []\n",
    "    for _, row in data_frame.iterrows():\n",
    "        script_code = row[\"Scripcode\"]\n",
    "        try:\n",
    "            if entry_point is None:\n",
    "                close_point = client.historical_data(\"N\", \"D\", script_code, \"5m\", \n",
    "                    given_date, given_date).tail(1)\n",
    "                temp_rows.append(close_point[\"Close\"].iloc[0])\n",
    "            else:\n",
    "                close_points = client.historical_data(\"N\", \"D\", script_code, \"1m\", \n",
    "                    given_date, given_date)\n",
    "                if close_points is not None:\n",
    "                    close_points[\"Datetime\"] = pd.to_datetime(close_points[\"Datetime\"])\n",
    "                    close_point = close_points[close_points[\"Datetime\"]==datetime.fromisoformat(str(entry_point))][\"Close\"].iloc[0]\n",
    "                    temp_rows.append(close_point)\n",
    "                else: \n",
    "                    temp_rows.append(9999)\n",
    "        except:\n",
    "            temp_rows.append(9999)\n",
    "            continue\n",
    "    data_frame[\"LTP\"] = temp_rows\n",
    "    return data_frame.sort_values(by=[\"LTP\"])\n",
    "\n",
    "\n",
    "def adjust_strangle(option_type,desired_price,entry_point):\n",
    "    call_df, put_df = get_current_expiry_strikes(bank_nifty_symbol, strikePrice*0.9, strikePrice*1.1)\n",
    "    if option_type == \"CE\":\n",
    "        call_option_chain = map_prices_to_strike_prices(call_df,entry_point)\n",
    "        call_script_code = call_option_chain[call_option_chain[\"LTP\"]<desired_price].tail(1)[\"Scripcode\"].iloc[0]\n",
    "        call_sell = call_option_chain[call_option_chain[\"LTP\"]<desired_price].tail(1)[\"LTP\"].iloc[0]\n",
    "        call_symbol = call_option_chain[call_option_chain[\"LTP\"]<desired_price].tail(1)[\"Name\"].iloc[0]\n",
    "        print(\"Sold call call_sell, call_symbol, call_script_code \",call_sell,call_symbol, call_script_code)\n",
    "    if option_type == \"PE\":\n",
    "        put_option_chain = map_prices_to_strike_prices(put_df,entry_point)\n",
    "        desired_put_df = put_option_chain[put_option_chain[\"LTP\"]<desired_price].tail(1)\n",
    "        put_script_code = desired_put_df[\"Scripcode\"].iloc[0]\n",
    "        put_sell = desired_put_df[\"LTP\"].iloc[0]\n",
    "        put_symbol = desired_put_df[\"Name\"].iloc[0]\n",
    "        print(\"Sold put sell put_sell, put_symbol, put_script_code \",put_sell,put_symbol,put_script_code)\n",
    "\n",
    "\n",
    "def start_strangle(entry_time,call_script_code,put_script_code):\n",
    "    call_df = client.historical_data('N','D',call_script_code,'1m',given_date,given_date)\n",
    "    call_df[\"Datetime\"] = pd.to_datetime(call_df[\"Datetime\"])\n",
    "    call_df[\"Close CE\"] = call_df[\"Close\"]\n",
    "    call_df = call_df[call_df[\"Datetime\"]>datetime.fromisoformat(entry_time)]\n",
    "    call_df = call_df[[\"Datetime\",\"Close CE\"]]\n",
    "    put_df = client.historical_data('N','D',put_script_code,'1m',given_date,given_date)\n",
    "    put_df[\"Datetime\"] = pd.to_datetime(put_df[\"Datetime\"])\n",
    "    put_df[\"Close PE\"] = put_df[\"Close\"]\n",
    "    put_df = put_df[put_df[\"Datetime\"]>datetime.fromisoformat(entry_time)]\n",
    "    put_df = put_df[[\"Datetime\",\"Close PE\"]]\n",
    "    merged_df = pd.merge(call_df,put_df,on=\"Datetime\")\n",
    "    for index,row in merged_df.iterrows() : \n",
    "        call_point = row[\"Close CE\"]\n",
    "        put_point = row[\"Close PE\"]\n",
    "        if(call_point*0.5 > put_point):\n",
    "            print(\"PE is half of CE at time, call_price and put_price \",row[\"Datetime\"],call_point,put_point)\n",
    "            adjust_strangle(\"PE\",call_point*0.8,row[\"Datetime\"])\n",
    "            return \"PE\",row[\"Datetime\"]\n",
    "        elif(call_point < put_point*0.5):        \n",
    "            print(\"CE is half of PE at index, call_price and put_price \",row[\"Datetime\"],call_point,put_point)\n",
    "            adjust_strangle(\"CE\",put_point*0.8,row[\"Datetime\"])\n",
    "            return \"CE\",row[\"Datetime\"]\n",
    "\n",
    "       \n",
    "def rounded_number(number):\n",
    "    return (round(strikePrice / 1000, 1) * 1000).astype(int)"
   ]
  },
  {
   "cell_type": "code",
   "execution_count": 11,
   "id": "1d4b3fb7",
   "metadata": {},
   "outputs": [
    {
     "data": {
      "text/plain": [
       "35700"
      ]
     },
     "execution_count": 11,
     "metadata": {},
     "output_type": "execute_result"
    }
   ],
   "source": [
    "# This code should be executed on Thursday or when profit is booked\n",
    "nifty_script_code = 999920000\n",
    "banknifty_script_code = 999920005\n",
    "given_date = datetime.today().strftime(\"%Y-%m-%d\")\n",
    "script_df = pd.read_csv(\"scripmaster-csv-format.csv\",low_memory=False)\n",
    "bank_nifty_symbol = \"BANKNIFTY 07 Apr 2022\"\n",
    "strikePrice = client.historical_data(\"N\", \"C\", banknifty_script_code, \"1m\", given_date, given_date)[\"Open\"].iloc[240]\n",
    "strikePrice = rounded_number(strikePrice)\n",
    "strikePrice"
   ]
  },
  {
   "cell_type": "code",
   "execution_count": 32,
   "id": "a1d64b3e",
   "metadata": {},
   "outputs": [
    {
     "data": {
      "text/plain": [
       "(       Exch ExchType  Scripcode                               Name Series  \\\n",
       " 43517     N        D      38138  BANKNIFTY 07 Apr 2022 CE 30800.00     XX   \n",
       " 48618     N        D      47283  BANKNIFTY 07 Apr 2022 CE 28900.00     XX   \n",
       " 48620     N        D      47285  BANKNIFTY 07 Apr 2022 CE 29000.00     XX   \n",
       " 48629     N        D      47294  BANKNIFTY 07 Apr 2022 CE 29100.00     XX   \n",
       " 48631     N        D      47296  BANKNIFTY 07 Apr 2022 CE 29200.00     XX   \n",
       " ...     ...      ...        ...                                ...    ...   \n",
       " 113185    N        D      42217  BANKNIFTY 07 Apr 2022 CE 38900.00     XX   \n",
       " 114296    N        D      43756  BANKNIFTY 07 Apr 2022 CE 39000.00     XX   \n",
       " 114329    N        D      43789  BANKNIFTY 07 Apr 2022 CE 39100.00     XX   \n",
       " 114332    N        D      43792  BANKNIFTY 07 Apr 2022 CE 39200.00     XX   \n",
       " 114334    N        D      43794  BANKNIFTY 07 Apr 2022 CE 39300.00     XX   \n",
       " \n",
       "                      Expiry CpType  StrikeRate WireCat       ISIN  \\\n",
       " 43517   2022-04-07 14:30:00     CE     30800.0          BANKNIFTY   \n",
       " 48618   2022-04-07 14:30:00     CE     28900.0          BANKNIFTY   \n",
       " 48620   2022-04-07 14:30:00     CE     29000.0          BANKNIFTY   \n",
       " 48629   2022-04-07 14:30:00     CE     29100.0          BANKNIFTY   \n",
       " 48631   2022-04-07 14:30:00     CE     29200.0          BANKNIFTY   \n",
       " ...                     ...    ...         ...     ...        ...   \n",
       " 113185  2022-04-07 14:30:00     CE     38900.0          BANKNIFTY   \n",
       " 114296  2022-04-07 14:30:00     CE     39000.0          BANKNIFTY   \n",
       " 114329  2022-04-07 14:30:00     CE     39100.0          BANKNIFTY   \n",
       " 114332  2022-04-07 14:30:00     CE     39200.0          BANKNIFTY   \n",
       " 114334  2022-04-07 14:30:00     CE     39300.0          BANKNIFTY   \n",
       " \n",
       "                                  FullName  \n",
       " 43517   BANKNIFTY 07 Apr 2022 CE 30800.00  \n",
       " 48618   BANKNIFTY 07 Apr 2022 CE 28900.00  \n",
       " 48620   BANKNIFTY 07 Apr 2022 CE 29000.00  \n",
       " 48629   BANKNIFTY 07 Apr 2022 CE 29100.00  \n",
       " 48631   BANKNIFTY 07 Apr 2022 CE 29200.00  \n",
       " ...                                   ...  \n",
       " 113185  BANKNIFTY 07 Apr 2022 CE 38900.00  \n",
       " 114296  BANKNIFTY 07 Apr 2022 CE 39000.00  \n",
       " 114329  BANKNIFTY 07 Apr 2022 CE 39100.00  \n",
       " 114332  BANKNIFTY 07 Apr 2022 CE 39200.00  \n",
       " 114334  BANKNIFTY 07 Apr 2022 CE 39300.00  \n",
       " \n",
       " [116 rows x 11 columns],\n",
       "        Exch ExchType  Scripcode                               Name Series  \\\n",
       " 43518     N        D      38139  BANKNIFTY 07 Apr 2022 PE 30800.00     XX   \n",
       " 48619     N        D      47284  BANKNIFTY 07 Apr 2022 PE 28900.00     XX   \n",
       " 48625     N        D      47290  BANKNIFTY 07 Apr 2022 PE 29000.00     XX   \n",
       " 48630     N        D      47295  BANKNIFTY 07 Apr 2022 PE 29100.00     XX   \n",
       " 48639     N        D      47304  BANKNIFTY 07 Apr 2022 PE 29200.00     XX   \n",
       " ...     ...      ...        ...                                ...    ...   \n",
       " 113186    N        D      42218  BANKNIFTY 07 Apr 2022 PE 38900.00     XX   \n",
       " 114302    N        D      43762  BANKNIFTY 07 Apr 2022 PE 39000.00     XX   \n",
       " 114331    N        D      43791  BANKNIFTY 07 Apr 2022 PE 39100.00     XX   \n",
       " 114333    N        D      43793  BANKNIFTY 07 Apr 2022 PE 39200.00     XX   \n",
       " 114335    N        D      43795  BANKNIFTY 07 Apr 2022 PE 39300.00     XX   \n",
       " \n",
       "                      Expiry CpType  StrikeRate WireCat       ISIN  \\\n",
       " 43518   2022-04-07 14:30:00     PE     30800.0          BANKNIFTY   \n",
       " 48619   2022-04-07 14:30:00     PE     28900.0          BANKNIFTY   \n",
       " 48625   2022-04-07 14:30:00     PE     29000.0          BANKNIFTY   \n",
       " 48630   2022-04-07 14:30:00     PE     29100.0          BANKNIFTY   \n",
       " 48639   2022-04-07 14:30:00     PE     29200.0          BANKNIFTY   \n",
       " ...                     ...    ...         ...     ...        ...   \n",
       " 113186  2022-04-07 14:30:00     PE     38900.0          BANKNIFTY   \n",
       " 114302  2022-04-07 14:30:00     PE     39000.0          BANKNIFTY   \n",
       " 114331  2022-04-07 14:30:00     PE     39100.0          BANKNIFTY   \n",
       " 114333  2022-04-07 14:30:00     PE     39200.0          BANKNIFTY   \n",
       " 114335  2022-04-07 14:30:00     PE     39300.0          BANKNIFTY   \n",
       " \n",
       "                                  FullName  \n",
       " 43518   BANKNIFTY 07 Apr 2022 PE 30800.00  \n",
       " 48619   BANKNIFTY 07 Apr 2022 PE 28900.00  \n",
       " 48625   BANKNIFTY 07 Apr 2022 PE 29000.00  \n",
       " 48630   BANKNIFTY 07 Apr 2022 PE 29100.00  \n",
       " 48639   BANKNIFTY 07 Apr 2022 PE 29200.00  \n",
       " ...                                   ...  \n",
       " 113186  BANKNIFTY 07 Apr 2022 PE 38900.00  \n",
       " 114302  BANKNIFTY 07 Apr 2022 PE 39000.00  \n",
       " 114331  BANKNIFTY 07 Apr 2022 PE 39100.00  \n",
       " 114333  BANKNIFTY 07 Apr 2022 PE 39200.00  \n",
       " 114335  BANKNIFTY 07 Apr 2022 PE 39300.00  \n",
       " \n",
       " [116 rows x 11 columns])"
      ]
     },
     "execution_count": 32,
     "metadata": {},
     "output_type": "execute_result"
    }
   ],
   "source": [
    "call_df, put_df = get_current_expiry_strikes(bank_nifty_symbol, strikePrice*0.75, strikePrice*1.25)\n",
    "call_df,put_df"
   ]
  },
  {
   "cell_type": "code",
   "execution_count": 34,
   "id": "80426afe",
   "metadata": {},
   "outputs": [
    {
     "name": "stdout",
     "output_type": "stream",
     "text": [
      " 22:20:15 | Length mismatch: Expected axis has 0 elements, new values have 6 elements\n",
      " 22:20:15 | Length mismatch: Expected axis has 0 elements, new values have 6 elements\n",
      " 22:20:15 | Length mismatch: Expected axis has 0 elements, new values have 6 elements\n",
      " 22:20:15 | Length mismatch: Expected axis has 0 elements, new values have 6 elements\n",
      " 22:20:16 | Length mismatch: Expected axis has 0 elements, new values have 6 elements\n",
      " 22:20:16 | Length mismatch: Expected axis has 0 elements, new values have 6 elements\n",
      " 22:20:16 | Length mismatch: Expected axis has 0 elements, new values have 6 elements\n",
      " 22:20:16 | Length mismatch: Expected axis has 0 elements, new values have 6 elements\n",
      " 22:20:16 | Length mismatch: Expected axis has 0 elements, new values have 6 elements\n",
      " 22:20:16 | Length mismatch: Expected axis has 0 elements, new values have 6 elements\n",
      " 22:20:16 | Length mismatch: Expected axis has 0 elements, new values have 6 elements\n",
      " 22:20:16 | Length mismatch: Expected axis has 0 elements, new values have 6 elements\n",
      " 22:20:17 | Length mismatch: Expected axis has 0 elements, new values have 6 elements\n",
      " 22:20:17 | Length mismatch: Expected axis has 0 elements, new values have 6 elements\n",
      " 22:20:17 | Length mismatch: Expected axis has 0 elements, new values have 6 elements\n",
      " 22:20:17 | Length mismatch: Expected axis has 0 elements, new values have 6 elements\n",
      " 22:20:19 | Length mismatch: Expected axis has 0 elements, new values have 6 elements\n",
      " 22:20:19 | Length mismatch: Expected axis has 0 elements, new values have 6 elements\n",
      " 22:20:19 | Length mismatch: Expected axis has 0 elements, new values have 6 elements\n",
      " 22:20:19 | Length mismatch: Expected axis has 0 elements, new values have 6 elements\n",
      " 22:20:19 | Length mismatch: Expected axis has 0 elements, new values have 6 elements\n",
      " 22:20:20 | Length mismatch: Expected axis has 0 elements, new values have 6 elements\n",
      " 22:20:20 | Length mismatch: Expected axis has 0 elements, new values have 6 elements\n",
      " 22:20:20 | Length mismatch: Expected axis has 0 elements, new values have 6 elements\n",
      " 22:20:21 | Length mismatch: Expected axis has 0 elements, new values have 6 elements\n",
      " 22:20:21 | Length mismatch: Expected axis has 0 elements, new values have 6 elements\n",
      " 22:20:21 | Length mismatch: Expected axis has 0 elements, new values have 6 elements\n",
      " 22:20:21 | Length mismatch: Expected axis has 0 elements, new values have 6 elements\n",
      " 22:20:21 | Length mismatch: Expected axis has 0 elements, new values have 6 elements\n",
      " 22:20:21 | Length mismatch: Expected axis has 0 elements, new values have 6 elements\n",
      " 22:20:21 | Length mismatch: Expected axis has 0 elements, new values have 6 elements\n",
      " 22:20:22 | Length mismatch: Expected axis has 0 elements, new values have 6 elements\n",
      " 22:20:22 | Length mismatch: Expected axis has 0 elements, new values have 6 elements\n",
      " 22:20:22 | Length mismatch: Expected axis has 0 elements, new values have 6 elements\n",
      " 22:20:22 | Length mismatch: Expected axis has 0 elements, new values have 6 elements\n",
      " 22:20:22 | Length mismatch: Expected axis has 0 elements, new values have 6 elements\n",
      " 22:20:22 | Length mismatch: Expected axis has 0 elements, new values have 6 elements\n",
      " 22:20:23 | Length mismatch: Expected axis has 0 elements, new values have 6 elements\n",
      " 22:20:23 | Length mismatch: Expected axis has 0 elements, new values have 6 elements\n",
      " 22:20:23 | Length mismatch: Expected axis has 0 elements, new values have 6 elements\n",
      " 22:20:23 | Length mismatch: Expected axis has 0 elements, new values have 6 elements\n",
      " 22:20:24 | Length mismatch: Expected axis has 0 elements, new values have 6 elements\n",
      " 22:20:24 | Length mismatch: Expected axis has 0 elements, new values have 6 elements\n",
      " 22:20:24 | Length mismatch: Expected axis has 0 elements, new values have 6 elements\n",
      " 22:20:33 | Length mismatch: Expected axis has 0 elements, new values have 6 elements\n",
      " 22:20:33 | Length mismatch: Expected axis has 0 elements, new values have 6 elements\n",
      " 22:20:34 | Length mismatch: Expected axis has 0 elements, new values have 6 elements\n",
      " 22:20:34 | Length mismatch: Expected axis has 0 elements, new values have 6 elements\n",
      " 22:20:34 | Length mismatch: Expected axis has 0 elements, new values have 6 elements\n",
      " 22:20:34 | Length mismatch: Expected axis has 0 elements, new values have 6 elements\n",
      " 22:20:34 | Length mismatch: Expected axis has 0 elements, new values have 6 elements\n",
      " 22:20:34 | Length mismatch: Expected axis has 0 elements, new values have 6 elements\n",
      " 22:20:35 | Length mismatch: Expected axis has 0 elements, new values have 6 elements\n",
      " 22:20:35 | Length mismatch: Expected axis has 0 elements, new values have 6 elements\n",
      " 22:20:35 | Length mismatch: Expected axis has 0 elements, new values have 6 elements\n",
      " 22:20:35 | Length mismatch: Expected axis has 0 elements, new values have 6 elements\n",
      " 22:20:36 | Length mismatch: Expected axis has 0 elements, new values have 6 elements\n",
      " 22:20:36 | Length mismatch: Expected axis has 0 elements, new values have 6 elements\n",
      " 22:20:36 | Length mismatch: Expected axis has 0 elements, new values have 6 elements\n",
      " 22:20:36 | Length mismatch: Expected axis has 0 elements, new values have 6 elements\n",
      " 22:20:36 | Length mismatch: Expected axis has 0 elements, new values have 6 elements\n",
      " 22:20:36 | Length mismatch: Expected axis has 0 elements, new values have 6 elements\n",
      " 22:20:37 | Length mismatch: Expected axis has 0 elements, new values have 6 elements\n",
      " 22:20:37 | Length mismatch: Expected axis has 0 elements, new values have 6 elements\n",
      " 22:20:37 | Length mismatch: Expected axis has 0 elements, new values have 6 elements\n",
      " 22:20:37 | Length mismatch: Expected axis has 0 elements, new values have 6 elements\n",
      " 22:20:37 | Length mismatch: Expected axis has 0 elements, new values have 6 elements\n",
      " 22:20:38 | Length mismatch: Expected axis has 0 elements, new values have 6 elements\n",
      " 22:20:38 | Length mismatch: Expected axis has 0 elements, new values have 6 elements\n",
      " 22:20:38 | Length mismatch: Expected axis has 0 elements, new values have 6 elements\n",
      " 22:20:38 | Length mismatch: Expected axis has 0 elements, new values have 6 elements\n",
      " 22:20:38 | Length mismatch: Expected axis has 0 elements, new values have 6 elements\n",
      " 22:20:39 | Length mismatch: Expected axis has 0 elements, new values have 6 elements\n",
      " 22:20:39 | Length mismatch: Expected axis has 0 elements, new values have 6 elements\n",
      " 22:20:39 | Length mismatch: Expected axis has 0 elements, new values have 6 elements\n",
      " 22:20:40 | Length mismatch: Expected axis has 0 elements, new values have 6 elements\n",
      " 22:20:40 | Length mismatch: Expected axis has 0 elements, new values have 6 elements\n",
      " 22:20:52 | Length mismatch: Expected axis has 0 elements, new values have 6 elements\n",
      " 22:20:52 | Length mismatch: Expected axis has 0 elements, new values have 6 elements\n",
      " 22:20:52 | Length mismatch: Expected axis has 0 elements, new values have 6 elements\n",
      " 22:20:52 | Length mismatch: Expected axis has 0 elements, new values have 6 elements\n",
      " 22:20:53 | Length mismatch: Expected axis has 0 elements, new values have 6 elements\n",
      " 22:20:53 | Length mismatch: Expected axis has 0 elements, new values have 6 elements\n",
      " 22:20:53 | Length mismatch: Expected axis has 0 elements, new values have 6 elements\n",
      " 22:20:53 | Length mismatch: Expected axis has 0 elements, new values have 6 elements\n",
      " 22:20:54 | Length mismatch: Expected axis has 0 elements, new values have 6 elements\n",
      " 22:20:54 | Length mismatch: Expected axis has 0 elements, new values have 6 elements\n",
      " 22:20:54 | Length mismatch: Expected axis has 0 elements, new values have 6 elements\n",
      " 22:20:54 | Length mismatch: Expected axis has 0 elements, new values have 6 elements\n"
     ]
    }
   ],
   "source": [
    "call_option_chain = map_prices_to_strike_prices(call_df,240)\n",
    "put_option_chain = map_prices_to_strike_prices(put_df,240)"
   ]
  },
  {
   "cell_type": "code",
   "execution_count": null,
   "id": "363f3920",
   "metadata": {},
   "outputs": [],
   "source": [
    "import pickle\n",
    "# option_chains = (call_option_chain,put_option_chain)\n",
    "# with open(\"option_chain.pickle\",\"wb\") as file:\n",
    "#     pickle.dump(option_chains,file)\n",
    "\n",
    "file = open(\"option_chain.pickle\",\"rb\")\n",
    "call_option_chain,put_option_chain = pickle.load(file)"
   ]
  },
  {
   "cell_type": "code",
   "execution_count": 122,
   "id": "35d18b45",
   "metadata": {},
   "outputs": [],
   "source": [
    "desired_call_price = 115\n",
    "desired_put_price = 115"
   ]
  },
  {
   "cell_type": "code",
   "execution_count": 36,
   "id": "24128258",
   "metadata": {},
   "outputs": [
    {
     "data": {
      "text/html": [
       "<div>\n",
       "<style scoped>\n",
       "    .dataframe tbody tr th:only-of-type {\n",
       "        vertical-align: middle;\n",
       "    }\n",
       "\n",
       "    .dataframe tbody tr th {\n",
       "        vertical-align: top;\n",
       "    }\n",
       "\n",
       "    .dataframe thead th {\n",
       "        text-align: right;\n",
       "    }\n",
       "</style>\n",
       "<table border=\"1\" class=\"dataframe\">\n",
       "  <thead>\n",
       "    <tr style=\"text-align: right;\">\n",
       "      <th></th>\n",
       "      <th>Exch</th>\n",
       "      <th>ExchType</th>\n",
       "      <th>Scripcode</th>\n",
       "      <th>Name</th>\n",
       "      <th>Series</th>\n",
       "      <th>Expiry</th>\n",
       "      <th>CpType</th>\n",
       "      <th>StrikeRate</th>\n",
       "      <th>WireCat</th>\n",
       "      <th>ISIN</th>\n",
       "      <th>FullName</th>\n",
       "      <th>LTP</th>\n",
       "    </tr>\n",
       "  </thead>\n",
       "  <tbody>\n",
       "    <tr>\n",
       "      <th>113144</th>\n",
       "      <td>N</td>\n",
       "      <td>D</td>\n",
       "      <td>42176</td>\n",
       "      <td>BANKNIFTY 07 Apr 2022 CE 37700.00</td>\n",
       "      <td>XX</td>\n",
       "      <td>2022-04-07 14:30:00</td>\n",
       "      <td>CE</td>\n",
       "      <td>37700.0</td>\n",
       "      <td></td>\n",
       "      <td>BANKNIFTY</td>\n",
       "      <td>BANKNIFTY 07 Apr 2022 CE 37700.00</td>\n",
       "      <td>104.1</td>\n",
       "    </tr>\n",
       "  </tbody>\n",
       "</table>\n",
       "</div>"
      ],
      "text/plain": [
       "       Exch ExchType  Scripcode                               Name Series  \\\n",
       "113144    N        D      42176  BANKNIFTY 07 Apr 2022 CE 37700.00     XX   \n",
       "\n",
       "                     Expiry CpType  StrikeRate WireCat       ISIN  \\\n",
       "113144  2022-04-07 14:30:00     CE     37700.0          BANKNIFTY   \n",
       "\n",
       "                                 FullName    LTP  \n",
       "113144  BANKNIFTY 07 Apr 2022 CE 37700.00  104.1  "
      ]
     },
     "execution_count": 36,
     "metadata": {},
     "output_type": "execute_result"
    }
   ],
   "source": [
    "call_option_chain[call_option_chain[\"LTP\"]<desired_call_price].tail(1)"
   ]
  },
  {
   "cell_type": "code",
   "execution_count": 37,
   "id": "0d3624dd",
   "metadata": {},
   "outputs": [
    {
     "data": {
      "text/html": [
       "<div>\n",
       "<style scoped>\n",
       "    .dataframe tbody tr th:only-of-type {\n",
       "        vertical-align: middle;\n",
       "    }\n",
       "\n",
       "    .dataframe tbody tr th {\n",
       "        vertical-align: top;\n",
       "    }\n",
       "\n",
       "    .dataframe thead th {\n",
       "        text-align: right;\n",
       "    }\n",
       "</style>\n",
       "<table border=\"1\" class=\"dataframe\">\n",
       "  <thead>\n",
       "    <tr style=\"text-align: right;\">\n",
       "      <th></th>\n",
       "      <th>Exch</th>\n",
       "      <th>ExchType</th>\n",
       "      <th>Scripcode</th>\n",
       "      <th>Name</th>\n",
       "      <th>Series</th>\n",
       "      <th>Expiry</th>\n",
       "      <th>CpType</th>\n",
       "      <th>StrikeRate</th>\n",
       "      <th>WireCat</th>\n",
       "      <th>ISIN</th>\n",
       "      <th>FullName</th>\n",
       "      <th>LTP</th>\n",
       "    </tr>\n",
       "  </thead>\n",
       "  <tbody>\n",
       "    <tr>\n",
       "      <th>111937</th>\n",
       "      <td>N</td>\n",
       "      <td>D</td>\n",
       "      <td>41909</td>\n",
       "      <td>BANKNIFTY 07 Apr 2022 PE 33400.00</td>\n",
       "      <td>XX</td>\n",
       "      <td>2022-04-07 14:30:00</td>\n",
       "      <td>PE</td>\n",
       "      <td>33400.0</td>\n",
       "      <td></td>\n",
       "      <td>BANKNIFTY</td>\n",
       "      <td>BANKNIFTY 07 Apr 2022 PE 33400.00</td>\n",
       "      <td>101.35</td>\n",
       "    </tr>\n",
       "  </tbody>\n",
       "</table>\n",
       "</div>"
      ],
      "text/plain": [
       "       Exch ExchType  Scripcode                               Name Series  \\\n",
       "111937    N        D      41909  BANKNIFTY 07 Apr 2022 PE 33400.00     XX   \n",
       "\n",
       "                     Expiry CpType  StrikeRate WireCat       ISIN  \\\n",
       "111937  2022-04-07 14:30:00     PE     33400.0          BANKNIFTY   \n",
       "\n",
       "                                 FullName     LTP  \n",
       "111937  BANKNIFTY 07 Apr 2022 PE 33400.00  101.35  "
      ]
     },
     "execution_count": 37,
     "metadata": {},
     "output_type": "execute_result"
    }
   ],
   "source": [
    "put_option_chain[put_option_chain[\"LTP\"]<desired_put_price].tail(1)"
   ]
  },
  {
   "cell_type": "code",
   "execution_count": 38,
   "id": "a99dce74",
   "metadata": {},
   "outputs": [
    {
     "data": {
      "text/plain": [
       "(42176, 41909)"
      ]
     },
     "execution_count": 38,
     "metadata": {},
     "output_type": "execute_result"
    }
   ],
   "source": [
    "call_script_code = call_option_chain[call_option_chain[\"LTP\"]<desired_call_price].tail(1)[\"Scripcode\"].iloc[0]\n",
    "put_script_code = put_option_chain[put_option_chain[\"LTP\"]<desired_put_price].tail(1)[\"Scripcode\"].iloc[0]\n",
    "call_script_code,put_script_code"
   ]
  },
  {
   "cell_type": "code",
   "execution_count": 123,
   "id": "2639c011",
   "metadata": {},
   "outputs": [],
   "source": [
    "call_script_code = 42176\n",
    "put_script_code = 41934\n"
   ]
  },
  {
   "cell_type": "code",
   "execution_count": 164,
   "id": "0e3d4b83",
   "metadata": {},
   "outputs": [
    {
     "name": "stdout",
     "output_type": "stream",
     "text": [
      "PE is half of CE at time, call_price and put_price  2022-03-29 15:27:00 127.3 61.9\n",
      " 00:54:54 | Length mismatch: Expected axis has 0 elements, new values have 6 elements\n",
      " 00:54:54 | Length mismatch: Expected axis has 0 elements, new values have 6 elements\n",
      " 00:54:55 | Length mismatch: Expected axis has 0 elements, new values have 6 elements\n",
      " 00:54:55 | Length mismatch: Expected axis has 0 elements, new values have 6 elements\n",
      " 00:54:55 | Length mismatch: Expected axis has 0 elements, new values have 6 elements\n",
      " 00:54:55 | Length mismatch: Expected axis has 0 elements, new values have 6 elements\n",
      " 00:54:56 | Length mismatch: Expected axis has 0 elements, new values have 6 elements\n",
      " 00:54:56 | Length mismatch: Expected axis has 0 elements, new values have 6 elements\n",
      " 00:54:56 | Length mismatch: Expected axis has 0 elements, new values have 6 elements\n",
      " 00:54:56 | Length mismatch: Expected axis has 0 elements, new values have 6 elements\n",
      " 00:54:56 | Length mismatch: Expected axis has 0 elements, new values have 6 elements\n",
      "Sold put sell put_sell, put_symbol, put_script_code  97.35 BANKNIFTY 07 Apr 2022 PE 33900.00 41934\n"
     ]
    },
    {
     "data": {
      "text/plain": [
       "('PE', Timestamp('2022-03-29 15:27:00'))"
      ]
     },
     "execution_count": 164,
     "metadata": {},
     "output_type": "execute_result"
    }
   ],
   "source": [
    "start_strangle(\"2022-03-29T13:20:00\",call_script_code,put_script_code)"
   ]
  },
  {
   "cell_type": "code",
   "execution_count": 79,
   "id": "7a448a09",
   "metadata": {},
   "outputs": [
    {
     "data": {
      "text/plain": [
       "319    60.1\n",
       "Name: Close, dtype: float64"
      ]
     },
     "execution_count": 79,
     "metadata": {},
     "output_type": "execute_result"
    }
   ],
   "source": [
    "client.historical_data('N','D',call_script_code,'1m',given_date,given_date)[\"Close\"].tail(1)\n",
    "client.historical_data('N','D',put_script_code,'1m',given_date,given_date)[\"Close\"].tail(1)"
   ]
  },
  {
   "cell_type": "code",
   "execution_count": null,
   "id": "a714a113",
   "metadata": {},
   "outputs": [],
   "source": [
    "def day_close_check(call_script_code,put_script_code):\n",
    "    call_point = client.historical_data('N','D',call_script_code,'1m',given_date,given_date)[\"Close\"].iloc[370]\n",
    "    put_point = client.historical_data('N','D',put_script_code,'1m',given_date,given_date)[\"Close\"].iloc[370]\n",
    "    if(call_point < put_point*0.75):\n",
    "        print(\"Buy CE at \", call_point)\n",
    "        print(\"Buy CE and sell CE near to put strike price\")\n",
    "        adjust_strangle(\"CE\",put_point*0.8,370)\n",
    "    if(put_point < call_point*0.75):\n",
    "        print(\"Buy PE at \", put_point)\n",
    "        print(\"selling PE near to call strike price\")\n",
    "        adjust_strangle(\"PE\",call_point*0.8,370)\n",
    "    \n",
    "day_close_check(call_script_code,put_script_code)"
   ]
  }
 ],
 "metadata": {
  "kernelspec": {
   "display_name": "Python 3 (ipykernel)",
   "language": "python",
   "name": "python3"
  },
  "language_info": {
   "codemirror_mode": {
    "name": "ipython",
    "version": 3
   },
   "file_extension": ".py",
   "mimetype": "text/x-python",
   "name": "python",
   "nbconvert_exporter": "python",
   "pygments_lexer": "ipython3",
   "version": "3.10.2"
  }
 },
 "nbformat": 4,
 "nbformat_minor": 5
}
