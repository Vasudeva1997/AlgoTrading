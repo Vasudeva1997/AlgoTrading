{
 "cells": [
  {
   "cell_type": "code",
   "execution_count": 1,
   "id": "b1b2aaf5",
   "metadata": {},
   "outputs": [],
   "source": [
    "from py5paisa import FivePaisaClient\n",
    "from py5paisa.order import Order, OrderType, Exchange, Bo_co_order\n",
    "import time\n",
    "import math\n",
    "import pandas as pd\n",
    "import warnings\n",
    "from datetime import datetime"
   ]
  },
  {
   "cell_type": "code",
   "execution_count": 2,
   "id": "21da43c8",
   "metadata": {},
   "outputs": [],
   "source": [
    "warnings.filterwarnings(\"ignore\", category=FutureWarning)"
   ]
  },
  {
   "cell_type": "code",
   "execution_count": 3,
   "id": "6a1be61a",
   "metadata": {},
   "outputs": [
    {
     "name": "stdout",
     "output_type": "stream",
     "text": [
      " 00:08:28 | Logged in!!\n"
     ]
    }
   ],
   "source": [
    "cred = {\n",
    "    \"APP_NAME\": \"5P56409084\",\n",
    "    \"APP_SOURCE\": \"9217\",\n",
    "    \"USER_ID\": \"pybeQPEbjju\",\n",
    "    \"PASSWORD\": \"AESDZQGqyAa\",\n",
    "    \"USER_KEY\": \"542GTEZguBbLERUXRZe26rLvfWU2X2KD\",\n",
    "    \"ENCRYPTION_KEY\": \"l8sRTIsjl1JhUrz8X48XQJzKGI4k0gft\",\n",
    "}\n",
    "client = FivePaisaClient(\n",
    "    email=\"vasuappliedai@gmail.com\", passwd=\"Vasudeva@1\", dob=\"19981218\", cred=cred\n",
    ")\n",
    "client.login()"
   ]
  },
  {
   "cell_type": "code",
   "execution_count": 4,
   "id": "cc40d201",
   "metadata": {},
   "outputs": [],
   "source": [
    "def adjust_strangle(option_type,desired_price,entry_point):\n",
    "    call_df, put_df = get_current_expiry_strikes(bank_nifty_symbol, strikePrice*0.94, strikePrice*1.06)\n",
    "    if option_type == \"CE\":\n",
    "        call_option_chain = map_prices_to_strike_prices(call_df,entry_point)\n",
    "        call_script_code = call_option_chain[call_option_chain[\"LTP\"]<desired_price].tail(1)[\"Scripcode\"].iloc[0]\n",
    "        call_sell = call_option_chain[call_option_chain[\"LTP\"]<desired_price].tail(1)[\"LTP\"].iloc[0]\n",
    "        call_symbol = call_option_chain[call_option_chain[\"LTP\"]<desired_price].tail(1)[\"Name\"].iloc[0]\n",
    "        print(\"Sold call call_sell, call_symbol, call_script_code \",call_sell,call_symbol, call_script_code)\n",
    "    if option_type == \"PE\":\n",
    "        put_option_chain = map_prices_to_strike_prices(put_df,entry_point)\n",
    "        put_script_code = put_option_chain[put_option_chain[\"LTP\"]<desired_price].tail(1)[\"Scripcode\"].iloc[0]\n",
    "        put_sell = put_option_chain[put_option_chain[\"LTP\"]<desired_price].tail(1)[\"LTP\"].iloc[0]\n",
    "        put_symbol = put_option_chain[put_option_chain[\"LTP\"]<desired_price].tail(1)[\"Name\"].iloc[0]\n",
    "        print(\"Sold put sell put_sell, put_symbol, put_script_code \",put_sell,put_symbol,put_script_code)\n",
    "\n",
    "def get_current_expiry_strikes(symbol, start_strike, end_strike):\n",
    "    temp_df = script_df[\"FullName\"].str.contains(\n",
    "        pat=symbol + \" CE\", regex=True)\n",
    "    call_df = script_df[temp_df]\n",
    "    call_df = call_df[call_df[\"StrikeRate\"] > start_strike]\n",
    "    call_df = call_df[call_df[\"StrikeRate\"] < end_strike]\n",
    "    call_df.to_csv(\"bank_nifty_call_expiry.csv\")\n",
    "    temp_df = script_df[\"FullName\"].str.contains(\n",
    "        pat=symbol + \" PE\", regex=True)\n",
    "    put_df = script_df[temp_df]\n",
    "    put_df = put_df[put_df[\"StrikeRate\"] > start_strike]\n",
    "    put_df = put_df[put_df[\"StrikeRate\"] < end_strike]\n",
    "    put_df.to_csv(\"bank_nifty_put_expiry.csv\")\n",
    "    return call_df, put_df\n",
    "\n",
    "def map_prices_to_strike_prices(data_frame, index_point=None):\n",
    "    temp_rows = []\n",
    "    for _, row in data_frame.iterrows():\n",
    "        script_code = row[\"Scripcode\"]\n",
    "        try:\n",
    "            if index_point is None:\n",
    "                close_point = client.historical_data(\"N\", \"D\", script_code, \"5m\", \n",
    "                    given_date, given_date).tail(1)\n",
    "                temp_rows.append(close_point[\"Close\"].iloc[0])\n",
    "            else:\n",
    "                close_point = client.historical_data(\"N\", \"D\", script_code, \"1m\", \n",
    "                    given_date, given_date).loc[index_point]\n",
    "                temp_rows.append(close_point[\"Close\"])\n",
    "        except:\n",
    "            temp_rows.append(9999)\n",
    "            continue\n",
    "    data_frame[\"LTP\"] = temp_rows\n",
    "    return data_frame.sort_values(by=[\"LTP\"])\n",
    "\n",
    "\n",
    "        \n",
    "def rounded_number(number):\n",
    "    return (round(strikePrice / 1000, 1) * 1000).astype(int)"
   ]
  },
  {
   "cell_type": "code",
   "execution_count": 6,
   "id": "1d4b3fb7",
   "metadata": {},
   "outputs": [
    {
     "data": {
      "text/plain": [
       "35700"
      ]
     },
     "execution_count": 6,
     "metadata": {},
     "output_type": "execute_result"
    }
   ],
   "source": [
    "# This code should be executed on Thursday or when profit is booked\n",
    "nifty_script_code = 999920000\n",
    "banknifty_script_code = 999920005\n",
    "given_date = datetime.today().strftime(\"%Y-%m-%d\")\n",
    "script_df = pd.read_csv(\"scripmaster-csv-format.csv\",low_memory=False)\n",
    "bank_nifty_symbol = \"BANKNIFTY 31 Mar 2022\"\n",
    "strikePrice = client.historical_data(\"N\", \"C\", banknifty_script_code, \"1m\", given_date, given_date).tail(1)[\"Open\"].iloc[0]\n",
    "strikePrice = rounded_number(strikePrice)\n",
    "strikePrice"
   ]
  },
  {
   "cell_type": "code",
   "execution_count": null,
   "id": "a1d64b3e",
   "metadata": {},
   "outputs": [],
   "source": [
    "call_df, put_df = get_current_expiry_strikes(bank_nifty_symbol, strikePrice*0.94, strikePrice*1.06)\n",
    "call_df,put_df"
   ]
  },
  {
   "cell_type": "code",
   "execution_count": 8,
   "id": "80426afe",
   "metadata": {},
   "outputs": [],
   "source": [
    "call_option_chain = map_prices_to_strike_prices(call_df)\n",
    "put_option_chain = map_prices_to_strike_prices(put_df)"
   ]
  },
  {
   "cell_type": "code",
   "execution_count": null,
   "id": "363f3920",
   "metadata": {},
   "outputs": [],
   "source": [
    "import pickle\n",
    "# option_chains = (call_option_chain,put_option_chain)\n",
    "# with open(\"option_chain.pickle\",\"wb\") as file:\n",
    "#     pickle.dump(option_chains,file)\n",
    "\n",
    "file = open(\"option_chain.pickle\",\"rb\")\n",
    "call_option_chain,put_option_chain = pickle.load(file)"
   ]
  },
  {
   "cell_type": "code",
   "execution_count": null,
   "id": "35d18b45",
   "metadata": {},
   "outputs": [],
   "source": [
    "desired_call_price = 115\n",
    "desired_put_price = 115"
   ]
  },
  {
   "cell_type": "code",
   "execution_count": null,
   "id": "24128258",
   "metadata": {},
   "outputs": [],
   "source": [
    "call_option_chain[call_option_chain[\"LTP\"]<desired_call_price].tail(1)"
   ]
  },
  {
   "cell_type": "code",
   "execution_count": null,
   "id": "0d3624dd",
   "metadata": {},
   "outputs": [],
   "source": [
    "put_option_chain[put_option_chain[\"LTP\"]<desired_put_price].tail(1)"
   ]
  },
  {
   "cell_type": "code",
   "execution_count": null,
   "id": "a99dce74",
   "metadata": {},
   "outputs": [],
   "source": [
    "call_script_code = call_option_chain[call_option_chain[\"LTP\"]<desired_call_price].tail(1)[\"Scripcode\"].iloc[0]\n",
    "put_script_code = put_option_chain[put_option_chain[\"LTP\"]<desired_put_price].tail(1)[\"Scripcode\"].iloc[0]\n",
    "call_script_code,put_script_code"
   ]
  },
  {
   "cell_type": "code",
   "execution_count": 13,
   "id": "2639c011",
   "metadata": {},
   "outputs": [],
   "source": [
    "call_script_code = 58292\n",
    "put_script_code = 58242"
   ]
  },
  {
   "cell_type": "code",
   "execution_count": 14,
   "id": "0e3d4b83",
   "metadata": {},
   "outputs": [],
   "source": [
    "def start_strangle(entry_point_index,call_script_code,put_script_code):\n",
    "    call_points = client.historical_data('N','D',call_script_code,'1m',given_date,given_date)[\"Close\"].to_list()[entry_point_index:]\n",
    "    put_points = client.historical_data('N','D',put_script_code,'1m',given_date,given_date)[\"Close\"].to_list()[entry_point_index:]\n",
    "    for i in range(min(len(call_points),len(put_points))):\n",
    "        call_point = call_points[i]\n",
    "        put_point = put_points[i]\n",
    "        if(call_point*0.5 > put_point):\n",
    "            entry_point_index = entry_point_index+i\n",
    "            print(\"PE is half of CE at index, call_price and put_price \",entry_point_index,call_point,put_point)\n",
    "            adjust_strangle(\"PE\",call_point*0.8,entry_point_index)\n",
    "            return \"PE\",entry_point_index\n",
    "        elif(call_point < put_point*0.5):        \n",
    "            entry_point_index = entry_point_index+i\n",
    "            print(\"CE is half of PE at index, call_price and put_price \",entry_point_index,call_point,put_point)\n",
    "            adjust_strangle(\"CE\",put_point*0.8,entry_point_index)\n",
    "            return \"CE\",entry_point_index\n",
    "\n",
    "\n",
    "start_strangle(365,call_script_code,put_script_code)\n"
   ]
  },
  {
   "cell_type": "code",
   "execution_count": 15,
   "id": "a714a113",
   "metadata": {},
   "outputs": [
    {
     "ename": "IndexError",
     "evalue": "single positional indexer is out-of-bounds",
     "output_type": "error",
     "traceback": [
      "\u001b[0;31m---------------------------------------------------------------------------\u001b[0m",
      "\u001b[0;31mIndexError\u001b[0m                                Traceback (most recent call last)",
      "\u001b[0;32m/var/folders/0z/d1gznjts05d993khrkm2t2b80000gn/T/ipykernel_14509/360865378.py\u001b[0m in \u001b[0;36m<module>\u001b[0;34m\u001b[0m\n\u001b[1;32m     11\u001b[0m         \u001b[0madjust_strangle\u001b[0m\u001b[0;34m(\u001b[0m\u001b[0;34m\"PE\"\u001b[0m\u001b[0;34m,\u001b[0m\u001b[0mcall_point\u001b[0m\u001b[0;34m*\u001b[0m\u001b[0;36m0.8\u001b[0m\u001b[0;34m,\u001b[0m\u001b[0;36m370\u001b[0m\u001b[0;34m)\u001b[0m\u001b[0;34m\u001b[0m\u001b[0;34m\u001b[0m\u001b[0m\n\u001b[1;32m     12\u001b[0m \u001b[0;34m\u001b[0m\u001b[0m\n\u001b[0;32m---> 13\u001b[0;31m \u001b[0mday_close_check\u001b[0m\u001b[0;34m(\u001b[0m\u001b[0mcall_script_code\u001b[0m\u001b[0;34m,\u001b[0m\u001b[0mput_script_code\u001b[0m\u001b[0;34m)\u001b[0m\u001b[0;34m\u001b[0m\u001b[0;34m\u001b[0m\u001b[0m\n\u001b[0m",
      "\u001b[0;32m/var/folders/0z/d1gznjts05d993khrkm2t2b80000gn/T/ipykernel_14509/360865378.py\u001b[0m in \u001b[0;36mday_close_check\u001b[0;34m(call_script_code, put_script_code)\u001b[0m\n\u001b[1;32m      1\u001b[0m \u001b[0;32mdef\u001b[0m \u001b[0mday_close_check\u001b[0m\u001b[0;34m(\u001b[0m\u001b[0mcall_script_code\u001b[0m\u001b[0;34m,\u001b[0m\u001b[0mput_script_code\u001b[0m\u001b[0;34m)\u001b[0m\u001b[0;34m:\u001b[0m\u001b[0;34m\u001b[0m\u001b[0;34m\u001b[0m\u001b[0m\n\u001b[0;32m----> 2\u001b[0;31m     \u001b[0mcall_point\u001b[0m \u001b[0;34m=\u001b[0m \u001b[0mclient\u001b[0m\u001b[0;34m.\u001b[0m\u001b[0mhistorical_data\u001b[0m\u001b[0;34m(\u001b[0m\u001b[0;34m'N'\u001b[0m\u001b[0;34m,\u001b[0m\u001b[0;34m'D'\u001b[0m\u001b[0;34m,\u001b[0m\u001b[0mcall_script_code\u001b[0m\u001b[0;34m,\u001b[0m\u001b[0;34m'1m'\u001b[0m\u001b[0;34m,\u001b[0m\u001b[0mgiven_date\u001b[0m\u001b[0;34m,\u001b[0m\u001b[0mgiven_date\u001b[0m\u001b[0;34m)\u001b[0m\u001b[0;34m[\u001b[0m\u001b[0;34m\"Close\"\u001b[0m\u001b[0;34m]\u001b[0m\u001b[0;34m.\u001b[0m\u001b[0miloc\u001b[0m\u001b[0;34m[\u001b[0m\u001b[0;36m370\u001b[0m\u001b[0;34m]\u001b[0m\u001b[0;34m\u001b[0m\u001b[0;34m\u001b[0m\u001b[0m\n\u001b[0m\u001b[1;32m      3\u001b[0m     \u001b[0mput_point\u001b[0m \u001b[0;34m=\u001b[0m \u001b[0mclient\u001b[0m\u001b[0;34m.\u001b[0m\u001b[0mhistorical_data\u001b[0m\u001b[0;34m(\u001b[0m\u001b[0;34m'N'\u001b[0m\u001b[0;34m,\u001b[0m\u001b[0;34m'D'\u001b[0m\u001b[0;34m,\u001b[0m\u001b[0mput_script_code\u001b[0m\u001b[0;34m,\u001b[0m\u001b[0;34m'1m'\u001b[0m\u001b[0;34m,\u001b[0m\u001b[0mgiven_date\u001b[0m\u001b[0;34m,\u001b[0m\u001b[0mgiven_date\u001b[0m\u001b[0;34m)\u001b[0m\u001b[0;34m[\u001b[0m\u001b[0;34m\"Close\"\u001b[0m\u001b[0;34m]\u001b[0m\u001b[0;34m.\u001b[0m\u001b[0miloc\u001b[0m\u001b[0;34m[\u001b[0m\u001b[0;36m370\u001b[0m\u001b[0;34m]\u001b[0m\u001b[0;34m\u001b[0m\u001b[0;34m\u001b[0m\u001b[0m\n\u001b[1;32m      4\u001b[0m     \u001b[0;32mif\u001b[0m\u001b[0;34m(\u001b[0m\u001b[0mcall_point\u001b[0m \u001b[0;34m<\u001b[0m \u001b[0mput_point\u001b[0m\u001b[0;34m*\u001b[0m\u001b[0;36m0.75\u001b[0m\u001b[0;34m)\u001b[0m\u001b[0;34m:\u001b[0m\u001b[0;34m\u001b[0m\u001b[0;34m\u001b[0m\u001b[0m\n\u001b[1;32m      5\u001b[0m         \u001b[0mprint\u001b[0m\u001b[0;34m(\u001b[0m\u001b[0;34m\"Buy CE at \"\u001b[0m\u001b[0;34m,\u001b[0m \u001b[0mcall_point\u001b[0m\u001b[0;34m)\u001b[0m\u001b[0;34m\u001b[0m\u001b[0;34m\u001b[0m\u001b[0m\n",
      "\u001b[0;32m~/.pyenv/versions/3.7.9/lib/python3.7/site-packages/pandas/core/indexing.py\u001b[0m in \u001b[0;36m__getitem__\u001b[0;34m(self, key)\u001b[0m\n\u001b[1;32m    929\u001b[0m \u001b[0;34m\u001b[0m\u001b[0m\n\u001b[1;32m    930\u001b[0m             \u001b[0mmaybe_callable\u001b[0m \u001b[0;34m=\u001b[0m \u001b[0mcom\u001b[0m\u001b[0;34m.\u001b[0m\u001b[0mapply_if_callable\u001b[0m\u001b[0;34m(\u001b[0m\u001b[0mkey\u001b[0m\u001b[0;34m,\u001b[0m \u001b[0mself\u001b[0m\u001b[0;34m.\u001b[0m\u001b[0mobj\u001b[0m\u001b[0;34m)\u001b[0m\u001b[0;34m\u001b[0m\u001b[0;34m\u001b[0m\u001b[0m\n\u001b[0;32m--> 931\u001b[0;31m             \u001b[0;32mreturn\u001b[0m \u001b[0mself\u001b[0m\u001b[0;34m.\u001b[0m\u001b[0m_getitem_axis\u001b[0m\u001b[0;34m(\u001b[0m\u001b[0mmaybe_callable\u001b[0m\u001b[0;34m,\u001b[0m \u001b[0maxis\u001b[0m\u001b[0;34m=\u001b[0m\u001b[0maxis\u001b[0m\u001b[0;34m)\u001b[0m\u001b[0;34m\u001b[0m\u001b[0;34m\u001b[0m\u001b[0m\n\u001b[0m\u001b[1;32m    932\u001b[0m \u001b[0;34m\u001b[0m\u001b[0m\n\u001b[1;32m    933\u001b[0m     \u001b[0;32mdef\u001b[0m \u001b[0m_is_scalar_access\u001b[0m\u001b[0;34m(\u001b[0m\u001b[0mself\u001b[0m\u001b[0;34m,\u001b[0m \u001b[0mkey\u001b[0m\u001b[0;34m:\u001b[0m \u001b[0mtuple\u001b[0m\u001b[0;34m)\u001b[0m\u001b[0;34m:\u001b[0m\u001b[0;34m\u001b[0m\u001b[0;34m\u001b[0m\u001b[0m\n",
      "\u001b[0;32m~/.pyenv/versions/3.7.9/lib/python3.7/site-packages/pandas/core/indexing.py\u001b[0m in \u001b[0;36m_getitem_axis\u001b[0;34m(self, key, axis)\u001b[0m\n\u001b[1;32m   1564\u001b[0m \u001b[0;34m\u001b[0m\u001b[0m\n\u001b[1;32m   1565\u001b[0m             \u001b[0;31m# validate the location\u001b[0m\u001b[0;34m\u001b[0m\u001b[0;34m\u001b[0m\u001b[0;34m\u001b[0m\u001b[0m\n\u001b[0;32m-> 1566\u001b[0;31m             \u001b[0mself\u001b[0m\u001b[0;34m.\u001b[0m\u001b[0m_validate_integer\u001b[0m\u001b[0;34m(\u001b[0m\u001b[0mkey\u001b[0m\u001b[0;34m,\u001b[0m \u001b[0maxis\u001b[0m\u001b[0;34m)\u001b[0m\u001b[0;34m\u001b[0m\u001b[0;34m\u001b[0m\u001b[0m\n\u001b[0m\u001b[1;32m   1567\u001b[0m \u001b[0;34m\u001b[0m\u001b[0m\n\u001b[1;32m   1568\u001b[0m             \u001b[0;32mreturn\u001b[0m \u001b[0mself\u001b[0m\u001b[0;34m.\u001b[0m\u001b[0mobj\u001b[0m\u001b[0;34m.\u001b[0m\u001b[0m_ixs\u001b[0m\u001b[0;34m(\u001b[0m\u001b[0mkey\u001b[0m\u001b[0;34m,\u001b[0m \u001b[0maxis\u001b[0m\u001b[0;34m=\u001b[0m\u001b[0maxis\u001b[0m\u001b[0;34m)\u001b[0m\u001b[0;34m\u001b[0m\u001b[0;34m\u001b[0m\u001b[0m\n",
      "\u001b[0;32m~/.pyenv/versions/3.7.9/lib/python3.7/site-packages/pandas/core/indexing.py\u001b[0m in \u001b[0;36m_validate_integer\u001b[0;34m(self, key, axis)\u001b[0m\n\u001b[1;32m   1498\u001b[0m         \u001b[0mlen_axis\u001b[0m \u001b[0;34m=\u001b[0m \u001b[0mlen\u001b[0m\u001b[0;34m(\u001b[0m\u001b[0mself\u001b[0m\u001b[0;34m.\u001b[0m\u001b[0mobj\u001b[0m\u001b[0;34m.\u001b[0m\u001b[0m_get_axis\u001b[0m\u001b[0;34m(\u001b[0m\u001b[0maxis\u001b[0m\u001b[0;34m)\u001b[0m\u001b[0;34m)\u001b[0m\u001b[0;34m\u001b[0m\u001b[0;34m\u001b[0m\u001b[0m\n\u001b[1;32m   1499\u001b[0m         \u001b[0;32mif\u001b[0m \u001b[0mkey\u001b[0m \u001b[0;34m>=\u001b[0m \u001b[0mlen_axis\u001b[0m \u001b[0;32mor\u001b[0m \u001b[0mkey\u001b[0m \u001b[0;34m<\u001b[0m \u001b[0;34m-\u001b[0m\u001b[0mlen_axis\u001b[0m\u001b[0;34m:\u001b[0m\u001b[0;34m\u001b[0m\u001b[0;34m\u001b[0m\u001b[0m\n\u001b[0;32m-> 1500\u001b[0;31m             \u001b[0;32mraise\u001b[0m \u001b[0mIndexError\u001b[0m\u001b[0;34m(\u001b[0m\u001b[0;34m\"single positional indexer is out-of-bounds\"\u001b[0m\u001b[0;34m)\u001b[0m\u001b[0;34m\u001b[0m\u001b[0;34m\u001b[0m\u001b[0m\n\u001b[0m\u001b[1;32m   1501\u001b[0m \u001b[0;34m\u001b[0m\u001b[0m\n\u001b[1;32m   1502\u001b[0m     \u001b[0;31m# -------------------------------------------------------------------\u001b[0m\u001b[0;34m\u001b[0m\u001b[0;34m\u001b[0m\u001b[0;34m\u001b[0m\u001b[0m\n",
      "\u001b[0;31mIndexError\u001b[0m: single positional indexer is out-of-bounds"
     ]
    }
   ],
   "source": [
    "def day_close_check(call_script_code,put_script_code):\n",
    "    call_point = client.historical_data('N','D',call_script_code,'1m',given_date,given_date)[\"Close\"].iloc[370]\n",
    "    put_point = client.historical_data('N','D',put_script_code,'1m',given_date,given_date)[\"Close\"].iloc[370]\n",
    "    if(call_point < put_point*0.75):\n",
    "        print(\"Buy CE at \", call_point)\n",
    "        print(\"Buy CE and sell CE near to put strike price\")\n",
    "        adjust_strangle(\"CE\",put_point*0.8,370)\n",
    "    if(put_point < call_point*0.75):\n",
    "        print(\"Buy PE at \", put_point)\n",
    "        print(\"selling PE near to call strike price\")\n",
    "        adjust_strangle(\"PE\",call_point*0.8,370)\n",
    "    \n",
    "day_close_check(call_script_code,put_script_code)"
   ]
  },
  {
   "cell_type": "code",
   "execution_count": 25,
   "id": "9973a46f",
   "metadata": {},
   "outputs": [
    {
     "data": {
      "text/plain": [
       "(101.95, 80.0)"
      ]
     },
     "execution_count": 25,
     "metadata": {},
     "output_type": "execute_result"
    }
   ],
   "source": [
    "call_point = client.historical_data('N','D',call_script_code,'1m',given_date,given_date)[\"Close\"].iloc[374]\n",
    "put_point = client.historical_data('N','D',put_script_code,'1m',given_date,given_date)[\"Close\"].iloc[374]\n",
    "call_point,put_point "
   ]
  }
 ],
 "metadata": {
  "kernelspec": {
   "display_name": "Python 3 (ipykernel)",
   "language": "python",
   "name": "python3"
  },
  "language_info": {
   "codemirror_mode": {
    "name": "ipython",
    "version": 3
   },
   "file_extension": ".py",
   "mimetype": "text/x-python",
   "name": "python",
   "nbconvert_exporter": "python",
   "pygments_lexer": "ipython3",
   "version": "3.7.9"
  }
 },
 "nbformat": 4,
 "nbformat_minor": 5
}
