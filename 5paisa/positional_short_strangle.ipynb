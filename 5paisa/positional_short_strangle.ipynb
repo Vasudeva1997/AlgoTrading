{
 "cells": [
  {
   "cell_type": "code",
   "execution_count": 1,
   "id": "b1b2aaf5",
   "metadata": {},
   "outputs": [],
   "source": [
    "from py5paisa import FivePaisaClient\n",
    "from py5paisa.order import Order, OrderType, Exchange, Bo_co_order\n",
    "import time\n",
    "import math\n",
    "import pandas as pd\n",
    "import warnings\n",
    "from datetime import datetime"
   ]
  },
  {
   "cell_type": "code",
   "execution_count": 2,
   "id": "21da43c8",
   "metadata": {},
   "outputs": [],
   "source": [
    "warnings.filterwarnings(\"ignore\", category=FutureWarning)"
   ]
  },
  {
   "cell_type": "code",
   "execution_count": 3,
   "id": "6a1be61a",
   "metadata": {},
   "outputs": [
    {
     "name": "stdout",
     "output_type": "stream",
     "text": [
      " 07:15:08 | Logged in!!\n"
     ]
    }
   ],
   "source": [
    "cred = {\n",
    "    \"APP_NAME\": \"5P56409084\",\n",
    "    \"APP_SOURCE\": \"9217\",\n",
    "    \"USER_ID\": \"pybeQPEbjju\",\n",
    "    \"PASSWORD\": \"AESDZQGqyAa\",\n",
    "    \"USER_KEY\": \"542GTEZguBbLERUXRZe26rLvfWU2X2KD\",\n",
    "    \"ENCRYPTION_KEY\": \"l8sRTIsjl1JhUrz8X48XQJzKGI4k0gft\",\n",
    "}\n",
    "client = FivePaisaClient(\n",
    "    email=\"vasuappliedai@gmail.com\", passwd=\"Vasudeva@1\", dob=\"19981218\", cred=cred\n",
    ")\n",
    "client.login()"
   ]
  },
  {
   "cell_type": "code",
   "execution_count": 4,
   "id": "cc40d201",
   "metadata": {},
   "outputs": [],
   "source": [
    "def get_current_expiry_strikes(symbol, start_strike, end_strike):\n",
    "    temp_df = script_df[\"FullName\"].str.contains(\n",
    "        pat=symbol + \" CE\", regex=True)\n",
    "    call_df = script_df[temp_df]\n",
    "    call_df = call_df[call_df[\"StrikeRate\"] > start_strike]\n",
    "    call_df = call_df[call_df[\"StrikeRate\"] < end_strike]\n",
    "    call_df.to_csv(\"bank_nifty_call_expiry.csv\")\n",
    "    temp_df = script_df[\"FullName\"].str.contains(\n",
    "        pat=symbol + \" PE\", regex=True)\n",
    "    put_df = script_df[temp_df]\n",
    "    put_df = put_df[put_df[\"StrikeRate\"] > start_strike]\n",
    "    put_df = put_df[put_df[\"StrikeRate\"] < end_strike]\n",
    "    put_df.to_csv(\"bank_nifty_put_expiry.csv\")\n",
    "    return call_df, put_df\n",
    "\n",
    "def map_prices_to_strike_prices(data_frame, entry_point=None):\n",
    "    temp_rows = []\n",
    "    for _, row in data_frame.iterrows():\n",
    "        script_code = row[\"Scripcode\"]\n",
    "        try:\n",
    "            if entry_point is None:\n",
    "                close_point = client.historical_data(\"N\", \"D\", script_code, \"5m\", \n",
    "                    given_date, given_date).tail(1)\n",
    "                temp_rows.append(close_point[\"Close\"].iloc[0])\n",
    "            else:\n",
    "                close_points = client.historical_data(\"N\", \"D\", script_code, \"1m\", \n",
    "                    given_date, given_date)\n",
    "                if close_points is not None:\n",
    "                    close_points[\"Datetime\"] = pd.to_datetime(close_points[\"Datetime\"])\n",
    "                    close_point = close_points[close_points[\"Datetime\"]==datetime.fromisoformat(str(entry_point))][\"Close\"].iloc[0]\n",
    "                    temp_rows.append(close_point)\n",
    "                else: \n",
    "                    temp_rows.append(9999)\n",
    "        except:\n",
    "            temp_rows.append(9999)\n",
    "            continue\n",
    "    data_frame[\"LTP\"] = temp_rows\n",
    "    return data_frame.sort_values(by=[\"LTP\"])\n",
    "\n",
    "\n",
    "def adjust_strangle(option_type,desired_price,entry_point):\n",
    "    call_df, put_df = get_current_expiry_strikes(bank_nifty_symbol, strikePrice*0.9, strikePrice*1.1)\n",
    "    if option_type == \"CE\":\n",
    "        call_option_chain = map_prices_to_strike_prices(call_df,entry_point)\n",
    "        call_script_code = call_option_chain[call_option_chain[\"LTP\"]<desired_price].tail(1)[\"Scripcode\"].iloc[0]\n",
    "        call_sell = call_option_chain[call_option_chain[\"LTP\"]<desired_price].tail(1)[\"LTP\"].iloc[0]\n",
    "        call_symbol = call_option_chain[call_option_chain[\"LTP\"]<desired_price].tail(1)[\"Name\"].iloc[0]\n",
    "        print(\"Sold call call_sell, call_symbol, call_script_code \",call_sell,call_symbol, call_script_code)\n",
    "    if option_type == \"PE\":\n",
    "        put_option_chain = map_prices_to_strike_prices(put_df,entry_point)\n",
    "        desired_put_df = put_option_chain[put_option_chain[\"LTP\"]<desired_price].tail(1)\n",
    "        put_script_code = desired_put_df[\"Scripcode\"].iloc[0]\n",
    "        put_sell = desired_put_df[\"LTP\"].iloc[0]\n",
    "        put_symbol = desired_put_df[\"Name\"].iloc[0]\n",
    "        print(\"Sold put sell put_sell, put_symbol, put_script_code \",put_sell,put_symbol,put_script_code)\n",
    "\n",
    "\n",
    "def start_strangle(entry_time,call_script_code,put_script_code):\n",
    "    call_df = client.historical_data('N','D',call_script_code,'1m',given_date,given_date)\n",
    "    call_df[\"Datetime\"] = pd.to_datetime(call_df[\"Datetime\"])\n",
    "    call_df[\"Close CE\"] = call_df[\"Close\"]\n",
    "    call_df = call_df[call_df[\"Datetime\"]>datetime.fromisoformat(entry_time)]\n",
    "    call_df = call_df[[\"Datetime\",\"Close CE\"]]\n",
    "    put_df = client.historical_data('N','D',put_script_code,'1m',given_date,given_date)\n",
    "    put_df[\"Datetime\"] = pd.to_datetime(put_df[\"Datetime\"])\n",
    "    put_df[\"Close PE\"] = put_df[\"Close\"]\n",
    "    put_df = put_df[put_df[\"Datetime\"]>datetime.fromisoformat(entry_time)]\n",
    "    put_df = put_df[[\"Datetime\",\"Close PE\"]]\n",
    "    merged_df = pd.merge(call_df,put_df,on=\"Datetime\")\n",
    "    for index,row in merged_df.iterrows() : \n",
    "        call_point = row[\"Close CE\"]\n",
    "        put_point = row[\"Close PE\"]\n",
    "        if(call_point*0.5 > put_point):\n",
    "            print(\"PE is half of CE at time, call_price and put_price \",row[\"Datetime\"],call_point,put_point)\n",
    "            adjust_strangle(\"PE\",call_point*0.8,row[\"Datetime\"])\n",
    "            return \"PE\",row[\"Datetime\"]\n",
    "        elif(call_point < put_point*0.5):        \n",
    "            print(\"CE is half of PE at index, call_price and put_price \",row[\"Datetime\"],call_point,put_point)\n",
    "            adjust_strangle(\"CE\",put_point*0.8,row[\"Datetime\"])\n",
    "            return \"CE\",row[\"Datetime\"]\n",
    "\n",
    "       \n",
    "def rounded_number(number):\n",
    "    return (round(strikePrice / 1000, 1) * 1000).astype(int)"
   ]
  },
  {
   "cell_type": "code",
   "execution_count": 5,
   "id": "1d4b3fb7",
   "metadata": {},
   "outputs": [
    {
     "data": {
      "text/plain": [
       "36300"
      ]
     },
     "execution_count": 5,
     "metadata": {},
     "output_type": "execute_result"
    }
   ],
   "source": [
    "# This code should be executed on Thursday or when profit is booked\n",
    "nifty_script_code = 999920000\n",
    "banknifty_script_code = 999920005\n",
    "given_date = datetime.today().strftime(\"%Y-%m-%d\")\n",
    "script_df = pd.read_csv(\"scripmaster-csv-format.csv\",low_memory=False)\n",
    "bank_nifty_symbol = \"BANKNIFTY 07 Apr 2022\"\n",
    "strikePrice = client.historical_data(\"N\", \"C\", banknifty_script_code, \"1m\", given_date, given_date)[\"Open\"].iloc[240]\n",
    "strikePrice = rounded_number(strikePrice)\n",
    "strikePrice"
   ]
  },
  {
   "cell_type": "code",
   "execution_count": 9,
   "id": "a1d64b3e",
   "metadata": {},
   "outputs": [
    {
     "data": {
      "text/plain": [
       "(       Exch ExchType  Scripcode                               Name Series  \\\n",
       " 53108     N        D      54086  BANKNIFTY 07 Apr 2022 CE 39800.00     XX   \n",
       " 53110     N        D      54088  BANKNIFTY 07 Apr 2022 CE 39900.00     XX   \n",
       " 107759    N        D      35450  BANKNIFTY 07 Apr 2022 CE 39400.00     XX   \n",
       " 107779    N        D      35476  BANKNIFTY 07 Apr 2022 CE 39500.00     XX   \n",
       " 108133    N        D      35859  BANKNIFTY 07 Apr 2022 CE 39600.00     XX   \n",
       " ...     ...      ...        ...                                ...    ...   \n",
       " 113185    N        D      42217  BANKNIFTY 07 Apr 2022 CE 38900.00     XX   \n",
       " 114296    N        D      43756  BANKNIFTY 07 Apr 2022 CE 39000.00     XX   \n",
       " 114329    N        D      43789  BANKNIFTY 07 Apr 2022 CE 39100.00     XX   \n",
       " 114332    N        D      43792  BANKNIFTY 07 Apr 2022 CE 39200.00     XX   \n",
       " 114334    N        D      43794  BANKNIFTY 07 Apr 2022 CE 39300.00     XX   \n",
       " \n",
       "                      Expiry CpType  StrikeRate WireCat       ISIN  \\\n",
       " 53108   2022-04-07 14:30:00     CE     39800.0          BANKNIFTY   \n",
       " 53110   2022-04-07 14:30:00     CE     39900.0          BANKNIFTY   \n",
       " 107759  2022-04-07 14:30:00     CE     39400.0          BANKNIFTY   \n",
       " 107779  2022-04-07 14:30:00     CE     39500.0          BANKNIFTY   \n",
       " 108133  2022-04-07 14:30:00     CE     39600.0          BANKNIFTY   \n",
       " ...                     ...    ...         ...     ...        ...   \n",
       " 113185  2022-04-07 14:30:00     CE     38900.0          BANKNIFTY   \n",
       " 114296  2022-04-07 14:30:00     CE     39000.0          BANKNIFTY   \n",
       " 114329  2022-04-07 14:30:00     CE     39100.0          BANKNIFTY   \n",
       " 114332  2022-04-07 14:30:00     CE     39200.0          BANKNIFTY   \n",
       " 114334  2022-04-07 14:30:00     CE     39300.0          BANKNIFTY   \n",
       " \n",
       "                                  FullName  \n",
       " 53108   BANKNIFTY 07 Apr 2022 CE 39800.00  \n",
       " 53110   BANKNIFTY 07 Apr 2022 CE 39900.00  \n",
       " 107759  BANKNIFTY 07 Apr 2022 CE 39400.00  \n",
       " 107779  BANKNIFTY 07 Apr 2022 CE 39500.00  \n",
       " 108133  BANKNIFTY 07 Apr 2022 CE 39600.00  \n",
       " ...                                   ...  \n",
       " 113185  BANKNIFTY 07 Apr 2022 CE 38900.00  \n",
       " 114296  BANKNIFTY 07 Apr 2022 CE 39000.00  \n",
       " 114329  BANKNIFTY 07 Apr 2022 CE 39100.00  \n",
       " 114332  BANKNIFTY 07 Apr 2022 CE 39200.00  \n",
       " 114334  BANKNIFTY 07 Apr 2022 CE 39300.00  \n",
       " \n",
       " [73 rows x 11 columns],\n",
       "        Exch ExchType  Scripcode                               Name Series  \\\n",
       " 53109     N        D      54087  BANKNIFTY 07 Apr 2022 PE 39800.00     XX   \n",
       " 53111     N        D      54089  BANKNIFTY 07 Apr 2022 PE 39900.00     XX   \n",
       " 107778    N        D      35475  BANKNIFTY 07 Apr 2022 PE 39400.00     XX   \n",
       " 108132    N        D      35858  BANKNIFTY 07 Apr 2022 PE 39500.00     XX   \n",
       " 108134    N        D      35860  BANKNIFTY 07 Apr 2022 PE 39600.00     XX   \n",
       " ...     ...      ...        ...                                ...    ...   \n",
       " 113186    N        D      42218  BANKNIFTY 07 Apr 2022 PE 38900.00     XX   \n",
       " 114302    N        D      43762  BANKNIFTY 07 Apr 2022 PE 39000.00     XX   \n",
       " 114331    N        D      43791  BANKNIFTY 07 Apr 2022 PE 39100.00     XX   \n",
       " 114333    N        D      43793  BANKNIFTY 07 Apr 2022 PE 39200.00     XX   \n",
       " 114335    N        D      43795  BANKNIFTY 07 Apr 2022 PE 39300.00     XX   \n",
       " \n",
       "                      Expiry CpType  StrikeRate WireCat       ISIN  \\\n",
       " 53109   2022-04-07 14:30:00     PE     39800.0          BANKNIFTY   \n",
       " 53111   2022-04-07 14:30:00     PE     39900.0          BANKNIFTY   \n",
       " 107778  2022-04-07 14:30:00     PE     39400.0          BANKNIFTY   \n",
       " 108132  2022-04-07 14:30:00     PE     39500.0          BANKNIFTY   \n",
       " 108134  2022-04-07 14:30:00     PE     39600.0          BANKNIFTY   \n",
       " ...                     ...    ...         ...     ...        ...   \n",
       " 113186  2022-04-07 14:30:00     PE     38900.0          BANKNIFTY   \n",
       " 114302  2022-04-07 14:30:00     PE     39000.0          BANKNIFTY   \n",
       " 114331  2022-04-07 14:30:00     PE     39100.0          BANKNIFTY   \n",
       " 114333  2022-04-07 14:30:00     PE     39200.0          BANKNIFTY   \n",
       " 114335  2022-04-07 14:30:00     PE     39300.0          BANKNIFTY   \n",
       " \n",
       "                                  FullName  \n",
       " 53109   BANKNIFTY 07 Apr 2022 PE 39800.00  \n",
       " 53111   BANKNIFTY 07 Apr 2022 PE 39900.00  \n",
       " 107778  BANKNIFTY 07 Apr 2022 PE 39400.00  \n",
       " 108132  BANKNIFTY 07 Apr 2022 PE 39500.00  \n",
       " 108134  BANKNIFTY 07 Apr 2022 PE 39600.00  \n",
       " ...                                   ...  \n",
       " 113186  BANKNIFTY 07 Apr 2022 PE 38900.00  \n",
       " 114302  BANKNIFTY 07 Apr 2022 PE 39000.00  \n",
       " 114331  BANKNIFTY 07 Apr 2022 PE 39100.00  \n",
       " 114333  BANKNIFTY 07 Apr 2022 PE 39200.00  \n",
       " 114335  BANKNIFTY 07 Apr 2022 PE 39300.00  \n",
       " \n",
       " [73 rows x 11 columns])"
      ]
     },
     "execution_count": 9,
     "metadata": {},
     "output_type": "execute_result"
    }
   ],
   "source": [
    "call_df, put_df = get_current_expiry_strikes(bank_nifty_symbol, strikePrice*0.9, strikePrice*1.1)\n",
    "call_df,put_df"
   ]
  },
  {
   "cell_type": "code",
   "execution_count": null,
   "id": "80426afe",
   "metadata": {},
   "outputs": [],
   "source": [
    "call_option_chain = map_prices_to_strike_prices(call_df,240)\n",
    "put_option_chain = map_prices_to_strike_prices(put_df,240)"
   ]
  },
  {
   "cell_type": "code",
   "execution_count": null,
   "id": "363f3920",
   "metadata": {},
   "outputs": [],
   "source": [
    "import pickle\n",
    "# option_chains = (call_option_chain,put_option_chain)\n",
    "# with open(\"option_chain.pickle\",\"wb\") as file:\n",
    "#     pickle.dump(option_chains,file)\n",
    "\n",
    "file = open(\"option_chain.pickle\",\"rb\")\n",
    "call_option_chain,put_option_chain = pickle.load(file)"
   ]
  },
  {
   "cell_type": "code",
   "execution_count": 122,
   "id": "35d18b45",
   "metadata": {},
   "outputs": [],
   "source": [
    "desired_call_price = 115\n",
    "desired_put_price = 115"
   ]
  },
  {
   "cell_type": "code",
   "execution_count": 36,
   "id": "24128258",
   "metadata": {},
   "outputs": [
    {
     "data": {
      "text/html": [
       "<div>\n",
       "<style scoped>\n",
       "    .dataframe tbody tr th:only-of-type {\n",
       "        vertical-align: middle;\n",
       "    }\n",
       "\n",
       "    .dataframe tbody tr th {\n",
       "        vertical-align: top;\n",
       "    }\n",
       "\n",
       "    .dataframe thead th {\n",
       "        text-align: right;\n",
       "    }\n",
       "</style>\n",
       "<table border=\"1\" class=\"dataframe\">\n",
       "  <thead>\n",
       "    <tr style=\"text-align: right;\">\n",
       "      <th></th>\n",
       "      <th>Exch</th>\n",
       "      <th>ExchType</th>\n",
       "      <th>Scripcode</th>\n",
       "      <th>Name</th>\n",
       "      <th>Series</th>\n",
       "      <th>Expiry</th>\n",
       "      <th>CpType</th>\n",
       "      <th>StrikeRate</th>\n",
       "      <th>WireCat</th>\n",
       "      <th>ISIN</th>\n",
       "      <th>FullName</th>\n",
       "      <th>LTP</th>\n",
       "    </tr>\n",
       "  </thead>\n",
       "  <tbody>\n",
       "    <tr>\n",
       "      <th>113144</th>\n",
       "      <td>N</td>\n",
       "      <td>D</td>\n",
       "      <td>42176</td>\n",
       "      <td>BANKNIFTY 07 Apr 2022 CE 37700.00</td>\n",
       "      <td>XX</td>\n",
       "      <td>2022-04-07 14:30:00</td>\n",
       "      <td>CE</td>\n",
       "      <td>37700.0</td>\n",
       "      <td></td>\n",
       "      <td>BANKNIFTY</td>\n",
       "      <td>BANKNIFTY 07 Apr 2022 CE 37700.00</td>\n",
       "      <td>104.1</td>\n",
       "    </tr>\n",
       "  </tbody>\n",
       "</table>\n",
       "</div>"
      ],
      "text/plain": [
       "       Exch ExchType  Scripcode                               Name Series  \\\n",
       "113144    N        D      42176  BANKNIFTY 07 Apr 2022 CE 37700.00     XX   \n",
       "\n",
       "                     Expiry CpType  StrikeRate WireCat       ISIN  \\\n",
       "113144  2022-04-07 14:30:00     CE     37700.0          BANKNIFTY   \n",
       "\n",
       "                                 FullName    LTP  \n",
       "113144  BANKNIFTY 07 Apr 2022 CE 37700.00  104.1  "
      ]
     },
     "execution_count": 36,
     "metadata": {},
     "output_type": "execute_result"
    }
   ],
   "source": [
    "call_option_chain[call_option_chain[\"LTP\"]<desired_call_price].tail(1)"
   ]
  },
  {
   "cell_type": "code",
   "execution_count": 37,
   "id": "0d3624dd",
   "metadata": {},
   "outputs": [
    {
     "data": {
      "text/html": [
       "<div>\n",
       "<style scoped>\n",
       "    .dataframe tbody tr th:only-of-type {\n",
       "        vertical-align: middle;\n",
       "    }\n",
       "\n",
       "    .dataframe tbody tr th {\n",
       "        vertical-align: top;\n",
       "    }\n",
       "\n",
       "    .dataframe thead th {\n",
       "        text-align: right;\n",
       "    }\n",
       "</style>\n",
       "<table border=\"1\" class=\"dataframe\">\n",
       "  <thead>\n",
       "    <tr style=\"text-align: right;\">\n",
       "      <th></th>\n",
       "      <th>Exch</th>\n",
       "      <th>ExchType</th>\n",
       "      <th>Scripcode</th>\n",
       "      <th>Name</th>\n",
       "      <th>Series</th>\n",
       "      <th>Expiry</th>\n",
       "      <th>CpType</th>\n",
       "      <th>StrikeRate</th>\n",
       "      <th>WireCat</th>\n",
       "      <th>ISIN</th>\n",
       "      <th>FullName</th>\n",
       "      <th>LTP</th>\n",
       "    </tr>\n",
       "  </thead>\n",
       "  <tbody>\n",
       "    <tr>\n",
       "      <th>111937</th>\n",
       "      <td>N</td>\n",
       "      <td>D</td>\n",
       "      <td>41909</td>\n",
       "      <td>BANKNIFTY 07 Apr 2022 PE 33400.00</td>\n",
       "      <td>XX</td>\n",
       "      <td>2022-04-07 14:30:00</td>\n",
       "      <td>PE</td>\n",
       "      <td>33400.0</td>\n",
       "      <td></td>\n",
       "      <td>BANKNIFTY</td>\n",
       "      <td>BANKNIFTY 07 Apr 2022 PE 33400.00</td>\n",
       "      <td>101.35</td>\n",
       "    </tr>\n",
       "  </tbody>\n",
       "</table>\n",
       "</div>"
      ],
      "text/plain": [
       "       Exch ExchType  Scripcode                               Name Series  \\\n",
       "111937    N        D      41909  BANKNIFTY 07 Apr 2022 PE 33400.00     XX   \n",
       "\n",
       "                     Expiry CpType  StrikeRate WireCat       ISIN  \\\n",
       "111937  2022-04-07 14:30:00     PE     33400.0          BANKNIFTY   \n",
       "\n",
       "                                 FullName     LTP  \n",
       "111937  BANKNIFTY 07 Apr 2022 PE 33400.00  101.35  "
      ]
     },
     "execution_count": 37,
     "metadata": {},
     "output_type": "execute_result"
    }
   ],
   "source": [
    "put_option_chain[put_option_chain[\"LTP\"]<desired_put_price].tail(1)"
   ]
  },
  {
   "cell_type": "code",
   "execution_count": 38,
   "id": "a99dce74",
   "metadata": {},
   "outputs": [
    {
     "data": {
      "text/plain": [
       "(42176, 41909)"
      ]
     },
     "execution_count": 38,
     "metadata": {},
     "output_type": "execute_result"
    }
   ],
   "source": [
    "call_script_code = call_option_chain[call_option_chain[\"LTP\"]<desired_call_price].tail(1)[\"Scripcode\"].iloc[0]\n",
    "put_script_code = put_option_chain[put_option_chain[\"LTP\"]<desired_put_price].tail(1)[\"Scripcode\"].iloc[0]\n",
    "call_script_code,put_script_code"
   ]
  },
  {
   "cell_type": "code",
   "execution_count": 23,
   "id": "2639c011",
   "metadata": {},
   "outputs": [],
   "source": [
    "call_script_code = 42176\n",
    "put_script_code = 41965\n"
   ]
  },
  {
   "cell_type": "code",
   "execution_count": 22,
   "id": "0e3d4b83",
   "metadata": {},
   "outputs": [],
   "source": [
    "start_strangle(\"2022-03-30T10:22:00\",call_script_code,put_script_code)"
   ]
  },
  {
   "cell_type": "code",
   "execution_count": 32,
   "id": "7a448a09",
   "metadata": {},
   "outputs": [],
   "source": [
    "given_date=\"2022-03-30\""
   ]
  },
  {
   "cell_type": "code",
   "execution_count": 35,
   "id": "a714a113",
   "metadata": {},
   "outputs": [
    {
     "name": "stdout",
     "output_type": "stream",
     "text": [
      "Buy PE at  88.1\n",
      "selling PE near to call strike price\n",
      " 07:44:57 | Length mismatch: Expected axis has 0 elements, new values have 6 elements\n",
      " 07:44:57 | Length mismatch: Expected axis has 0 elements, new values have 6 elements\n",
      " 07:44:57 | Length mismatch: Expected axis has 0 elements, new values have 6 elements\n",
      " 07:44:57 | Length mismatch: Expected axis has 0 elements, new values have 6 elements\n",
      " 07:44:57 | Length mismatch: Expected axis has 0 elements, new values have 6 elements\n",
      " 07:44:58 | Length mismatch: Expected axis has 0 elements, new values have 6 elements\n",
      " 07:45:05 | Length mismatch: Expected axis has 0 elements, new values have 6 elements\n",
      " 07:45:06 | Length mismatch: Expected axis has 0 elements, new values have 6 elements\n",
      " 07:45:06 | Length mismatch: Expected axis has 0 elements, new values have 6 elements\n",
      " 07:45:06 | Length mismatch: Expected axis has 0 elements, new values have 6 elements\n",
      " 07:45:06 | Length mismatch: Expected axis has 0 elements, new values have 6 elements\n",
      " 07:45:06 | Length mismatch: Expected axis has 0 elements, new values have 6 elements\n",
      " 07:45:07 | Length mismatch: Expected axis has 0 elements, new values have 6 elements\n",
      " 07:45:07 | Length mismatch: Expected axis has 0 elements, new values have 6 elements\n",
      " 07:45:07 | Length mismatch: Expected axis has 0 elements, new values have 6 elements\n",
      " 07:45:07 | Length mismatch: Expected axis has 0 elements, new values have 6 elements\n",
      " 07:45:07 | Length mismatch: Expected axis has 0 elements, new values have 6 elements\n",
      " 07:45:08 | Length mismatch: Expected axis has 0 elements, new values have 6 elements\n",
      "Sold put sell put_sell, put_symbol, put_script_code  98.6 BANKNIFTY 07 Apr 2022 PE 34500.00 41967\n"
     ]
    }
   ],
   "source": [
    "def day_close_check(call_script_code,put_script_code):\n",
    "    timestamp = given_date+\"T15:25:00\"\n",
    "    call_df = client.historical_data('N','D',call_script_code,'1m',given_date,given_date)\n",
    "    call_point = call_df[call_df[\"Datetime\"]==timestamp][\"Close\"].iloc[0]\n",
    "    put_df = client.historical_data('N','D',put_script_code,'1m',given_date,given_date)\n",
    "    put_point = put_df[put_df[\"Datetime\"]==timestamp][\"Close\"].iloc[0]\n",
    "    if(call_point < put_point*0.75):\n",
    "        print(\"Buy CE at \", call_point)\n",
    "        print(\"Buy CE and sell CE near to put strike price\")\n",
    "        adjust_strangle(\"CE\",put_point*0.8,timestamp)\n",
    "    if(put_point < call_point*0.75):\n",
    "        print(\"Buy PE at \", put_point)\n",
    "        print(\"selling PE near to call strike price\")\n",
    "        adjust_strangle(\"PE\",call_point*0.8,timestamp)\n",
    "    \n",
    "day_close_check(call_script_code,put_script_code)"
   ]
  }
 ],
 "metadata": {
  "kernelspec": {
   "display_name": "Python 3 (ipykernel)",
   "language": "python",
   "name": "python3"
  },
  "language_info": {
   "codemirror_mode": {
    "name": "ipython",
    "version": 3
   },
   "file_extension": ".py",
   "mimetype": "text/x-python",
   "name": "python",
   "nbconvert_exporter": "python",
   "pygments_lexer": "ipython3",
   "version": "3.10.2"
  }
 },
 "nbformat": 4,
 "nbformat_minor": 5
}
