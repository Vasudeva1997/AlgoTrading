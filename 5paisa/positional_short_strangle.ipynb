{
 "cells": [
  {
   "cell_type": "code",
   "execution_count": 1,
   "id": "b1b2aaf5",
   "metadata": {},
   "outputs": [],
   "source": [
    "from py5paisa import FivePaisaClient\n",
    "from py5paisa.order import Order, OrderType, Exchange, Bo_co_order\n",
    "import time\n",
    "import math\n",
    "import pandas as pd\n",
    "import warnings\n",
    "from datetime import datetime"
   ]
  },
  {
   "cell_type": "code",
   "execution_count": 2,
   "id": "21da43c8",
   "metadata": {},
   "outputs": [],
   "source": [
    "warnings.filterwarnings(\"ignore\", category=FutureWarning)"
   ]
  },
  {
   "cell_type": "code",
   "execution_count": 3,
   "id": "6a1be61a",
   "metadata": {},
   "outputs": [
    {
     "name": "stdout",
     "output_type": "stream",
     "text": [
      " 23:52:03 | Logged in!!\n"
     ]
    }
   ],
   "source": [
    "cred = {\n",
    "    \"APP_NAME\": \"5P56409084\",\n",
    "    \"APP_SOURCE\": \"9217\",\n",
    "    \"USER_ID\": \"pybeQPEbjju\",\n",
    "    \"PASSWORD\": \"AESDZQGqyAa\",\n",
    "    \"USER_KEY\": \"542GTEZguBbLERUXRZe26rLvfWU2X2KD\",\n",
    "    \"ENCRYPTION_KEY\": \"l8sRTIsjl1JhUrz8X48XQJzKGI4k0gft\",\n",
    "}\n",
    "client = FivePaisaClient(\n",
    "    email=\"vasuappliedai@gmail.com\", passwd=\"Vasudeva@1\", dob=\"19981218\", cred=cred\n",
    ")\n",
    "client.login()"
   ]
  },
  {
   "cell_type": "code",
   "execution_count": 5,
   "id": "cc40d201",
   "metadata": {},
   "outputs": [],
   "source": [
    "def get_current_expiry_strikes(symbol, start_strike, end_strike):\n",
    "    temp_df = script_df[\"FullName\"].str.contains(\n",
    "        pat=symbol + \" CE\", regex=True)\n",
    "    call_df = script_df[temp_df]\n",
    "    call_df = call_df[call_df[\"StrikeRate\"] > start_strike]\n",
    "    call_df = call_df[call_df[\"StrikeRate\"] < end_strike]\n",
    "    call_df.to_csv(\"bank_nifty_call_expiry.csv\")\n",
    "    temp_df = script_df[\"FullName\"].str.contains(\n",
    "        pat=symbol + \" PE\", regex=True)\n",
    "    put_df = script_df[temp_df]\n",
    "    put_df = put_df[put_df[\"StrikeRate\"] > start_strike]\n",
    "    put_df = put_df[put_df[\"StrikeRate\"] < end_strike]\n",
    "    put_df.to_csv(\"bank_nifty_put_expiry.csv\")\n",
    "    return call_df, put_df\n",
    "\n",
    "def map_prices_to_strike_prices(data_frame):\n",
    "    temp_rows = []\n",
    "    for _, row in data_frame.iterrows():\n",
    "        script_code = row[\"Scripcode\"]\n",
    "        try:\n",
    "            close_point = client.historical_data(\n",
    "                \"N\", \"D\", script_code, \"5m\", given_date, given_date\n",
    "            ).tail(1)\n",
    "            temp_rows.append(close_point[\"Close\"].iloc[0])\n",
    "        except:\n",
    "            continue\n",
    "    data_frame[\"LTP\"] = temp_rows\n",
    "    return data_frame.sort_values(by=[\"LTP\"])\n",
    "\n",
    "def rounded_number(number):\n",
    "    return (round(strikePrice / 1000, 1) * 1000).astype(int)"
   ]
  },
  {
   "cell_type": "code",
   "execution_count": 6,
   "id": "1d4b3fb7",
   "metadata": {},
   "outputs": [
    {
     "data": {
      "text/plain": [
       "35500"
      ]
     },
     "execution_count": 6,
     "metadata": {},
     "output_type": "execute_result"
    }
   ],
   "source": [
    "# This code should be executed on Thursday or when profit is booked\n",
    "nifty_script_code = 999920000\n",
    "banknifty_script_code = 999920005\n",
    "given_date = datetime.today().strftime(\"%Y-%m-%d\")\n",
    "script_df = pd.read_csv(\"scripmaster-csv-format.csv\",low_memory=False)\n",
    "symbol = \"BANKNIFTY 31 Mar 2022\"\n",
    "strikePrice = client.historical_data(\"N\", \"C\", banknifty_script_code, \"1m\", given_date, given_date).tail(1)[\"Open\"].iloc[0]\n",
    "strikePrice = rounded_number(strikePrice)\n",
    "strikePrice"
   ]
  },
  {
   "cell_type": "code",
   "execution_count": null,
   "id": "a1d64b3e",
   "metadata": {},
   "outputs": [],
   "source": [
    "call_df, put_df = get_current_expiry_strikes(symbol, strikePrice*0.94, strikePrice*1.06)\n",
    "call_df,put_df"
   ]
  },
  {
   "cell_type": "code",
   "execution_count": 42,
   "id": "80426afe",
   "metadata": {},
   "outputs": [],
   "source": [
    "call_option_chain = map_prices_to_strike_prices(call_df)\n",
    "put_option_chain = map_prices_to_strike_prices(put_df)"
   ]
  },
  {
   "cell_type": "code",
   "execution_count": 7,
   "id": "363f3920",
   "metadata": {},
   "outputs": [],
   "source": [
    "import pickle\n",
    "# option_chains = (call_option_chain,put_option_chain)\n",
    "# with open(\"option_chain.pickle\",\"wb\") as file:\n",
    "#     pickle.dump(option_chains,file)\n",
    "\n",
    "file = open(\"option_chain.pickle\",\"rb\")\n",
    "call_option_chain,put_option_chain = pickle.load(file)"
   ]
  },
  {
   "cell_type": "code",
   "execution_count": 8,
   "id": "35d18b45",
   "metadata": {},
   "outputs": [],
   "source": [
    "desired_call_price = 115\n",
    "desired_put_price = 115\n"
   ]
  },
  {
   "cell_type": "code",
   "execution_count": 11,
   "id": "24128258",
   "metadata": {},
   "outputs": [
    {
     "data": {
      "text/html": [
       "<div>\n",
       "<style scoped>\n",
       "    .dataframe tbody tr th:only-of-type {\n",
       "        vertical-align: middle;\n",
       "    }\n",
       "\n",
       "    .dataframe tbody tr th {\n",
       "        vertical-align: top;\n",
       "    }\n",
       "\n",
       "    .dataframe thead th {\n",
       "        text-align: right;\n",
       "    }\n",
       "</style>\n",
       "<table border=\"1\" class=\"dataframe\">\n",
       "  <thead>\n",
       "    <tr style=\"text-align: right;\">\n",
       "      <th></th>\n",
       "      <th>Exch</th>\n",
       "      <th>ExchType</th>\n",
       "      <th>Scripcode</th>\n",
       "      <th>Name</th>\n",
       "      <th>Series</th>\n",
       "      <th>Expiry</th>\n",
       "      <th>CpType</th>\n",
       "      <th>StrikeRate</th>\n",
       "      <th>WireCat</th>\n",
       "      <th>ISIN</th>\n",
       "      <th>FullName</th>\n",
       "      <th>LTP</th>\n",
       "    </tr>\n",
       "  </thead>\n",
       "  <tbody>\n",
       "    <tr>\n",
       "      <th>127950</th>\n",
       "      <td>N</td>\n",
       "      <td>D</td>\n",
       "      <td>58310</td>\n",
       "      <td>BANKNIFTY 31 Mar 2022 CE 37300.00</td>\n",
       "      <td>XX</td>\n",
       "      <td>2022-03-31 14:30:00</td>\n",
       "      <td>CE</td>\n",
       "      <td>37300.0</td>\n",
       "      <td></td>\n",
       "      <td>BANKNIFTY</td>\n",
       "      <td>BANKNIFTY 31 Mar 2022 CE 37300.00</td>\n",
       "      <td>109.0</td>\n",
       "    </tr>\n",
       "  </tbody>\n",
       "</table>\n",
       "</div>"
      ],
      "text/plain": [
       "       Exch ExchType  Scripcode                               Name Series  \\\n",
       "127950    N        D      58310  BANKNIFTY 31 Mar 2022 CE 37300.00     XX   \n",
       "\n",
       "                     Expiry CpType  StrikeRate WireCat       ISIN  \\\n",
       "127950  2022-03-31 14:30:00     CE     37300.0          BANKNIFTY   \n",
       "\n",
       "                                 FullName    LTP  \n",
       "127950  BANKNIFTY 31 Mar 2022 CE 37300.00  109.0  "
      ]
     },
     "execution_count": 11,
     "metadata": {},
     "output_type": "execute_result"
    }
   ],
   "source": [
    "call_option_chain[call_option_chain[\"LTP\"]<desired_call_price].tail(1)"
   ]
  },
  {
   "cell_type": "code",
   "execution_count": 12,
   "id": "0d3624dd",
   "metadata": {},
   "outputs": [
    {
     "data": {
      "text/html": [
       "<div>\n",
       "<style scoped>\n",
       "    .dataframe tbody tr th:only-of-type {\n",
       "        vertical-align: middle;\n",
       "    }\n",
       "\n",
       "    .dataframe tbody tr th {\n",
       "        vertical-align: top;\n",
       "    }\n",
       "\n",
       "    .dataframe thead th {\n",
       "        text-align: right;\n",
       "    }\n",
       "</style>\n",
       "<table border=\"1\" class=\"dataframe\">\n",
       "  <thead>\n",
       "    <tr style=\"text-align: right;\">\n",
       "      <th></th>\n",
       "      <th>Exch</th>\n",
       "      <th>ExchType</th>\n",
       "      <th>Scripcode</th>\n",
       "      <th>Name</th>\n",
       "      <th>Series</th>\n",
       "      <th>Expiry</th>\n",
       "      <th>CpType</th>\n",
       "      <th>StrikeRate</th>\n",
       "      <th>WireCat</th>\n",
       "      <th>ISIN</th>\n",
       "      <th>FullName</th>\n",
       "      <th>LTP</th>\n",
       "    </tr>\n",
       "  </thead>\n",
       "  <tbody>\n",
       "    <tr>\n",
       "      <th>127885</th>\n",
       "      <td>N</td>\n",
       "      <td>D</td>\n",
       "      <td>58209</td>\n",
       "      <td>BANKNIFTY 31 Mar 2022 PE 33800.00</td>\n",
       "      <td>XX</td>\n",
       "      <td>2022-03-31 14:30:00</td>\n",
       "      <td>PE</td>\n",
       "      <td>33800.0</td>\n",
       "      <td></td>\n",
       "      <td>BANKNIFTY</td>\n",
       "      <td>BANKNIFTY 31 Mar 2022 PE 33800.00</td>\n",
       "      <td>108.65</td>\n",
       "    </tr>\n",
       "  </tbody>\n",
       "</table>\n",
       "</div>"
      ],
      "text/plain": [
       "       Exch ExchType  Scripcode                               Name Series  \\\n",
       "127885    N        D      58209  BANKNIFTY 31 Mar 2022 PE 33800.00     XX   \n",
       "\n",
       "                     Expiry CpType  StrikeRate WireCat       ISIN  \\\n",
       "127885  2022-03-31 14:30:00     PE     33800.0          BANKNIFTY   \n",
       "\n",
       "                                 FullName     LTP  \n",
       "127885  BANKNIFTY 31 Mar 2022 PE 33800.00  108.65  "
      ]
     },
     "execution_count": 12,
     "metadata": {},
     "output_type": "execute_result"
    }
   ],
   "source": [
    "put_option_chain[put_option_chain[\"LTP\"]<desired_put_price].tail(1)"
   ]
  },
  {
   "cell_type": "code",
   "execution_count": 9,
   "id": "a99dce74",
   "metadata": {},
   "outputs": [
    {
     "data": {
      "text/plain": [
       "(58310, 58209)"
      ]
     },
     "execution_count": 9,
     "metadata": {},
     "output_type": "execute_result"
    }
   ],
   "source": [
    "call_script_code = call_option_chain[call_option_chain[\"LTP\"]<desired_call_price].tail(1)[\"Scripcode\"].iloc[0]\n",
    "put_script_code = put_option_chain[put_option_chain[\"LTP\"]<desired_put_price].tail(1)[\"Scripcode\"].iloc[0]\n",
    "call_script_code,put_script_code"
   ]
  },
  {
   "cell_type": "code",
   "execution_count": 10,
   "id": "0e3d4b83",
   "metadata": {},
   "outputs": [],
   "source": [
    "entry_point_index = 345\n",
    "call_points = client.historical_data('N','D',call_script_code,'1m',given_date,given_date)[\"Close\"].to_list()[entry_point_index:]\n",
    "put_points = client.historical_data('N','D',put_script_code,'1m',given_date,given_date)[\"Close\"].to_list()[entry_point_index:]\n",
    "for i in range(min(len(call_points),len(put_points))):\n",
    "    if(call_points[i]*0.5 > put_points[i]):\n",
    "        print(\"Change stoploss here\")\n",
    "    elif(call_points[i] < put_points[i]*0.5):\n",
    "        print(\"Change stoploss here\")"
   ]
  },
  {
   "cell_type": "code",
   "execution_count": 13,
   "id": "f41dd2f7",
   "metadata": {},
   "outputs": [],
   "source": [
    "def day_close_check(call_script_code,put_script_code):\n",
    "    call_point = client.historical_data('N','D',call_script_code,'1m',given_date,given_date).tail(1)[\"Close\"].iloc[0]\n",
    "    put_point = client.historical_data('N','D',put_script_code,'1m',given_date,given_date).tail(1)[\"Close\"].iloc[0]\n",
    "    if(call_point < put_point*0.75):\n",
    "        print(\"Buy CE and sell CE near to put strike price\")\n",
    "        adjust_strangle(\"CE\",put_point*0.8)\n",
    "    if(put_point < call_point*0.75):\n",
    "        print(\"Buy PE and sell PE near to call strike price\")\n",
    "\n",
    "\n"
   ]
  },
  {
   "cell_type": "code",
   "execution_count": null,
   "id": "cd601e29",
   "metadata": {},
   "outputs": [],
   "source": [
    "def adjust_strangle(option_type,desired_price):\n",
    "    call_df, put_df = get_current_expiry_strikes(symbol, strikePrice*0.94, strikePrice*1.06)\n",
    "    call_option_chain = map_prices_to_strike_prices(call_df)\n",
    "    put_option_chain = map_prices_to_strike_prices(put_df)\n",
    "    if option_type == \"CE\":\n",
    "        call_script_code = call_option_chain[call_option_chain[\"LTP\"]<desired_price].tail(1)[\"Scripcode\"].iloc[0]\n",
    "        call_sell = call_option_chain[call_option_chain[\"LTP\"]<desired_price].tail(1)[\"LTP\"].iloc[0]\n",
    "        call_symbol = call_option_chain[call_option_chain[\"LTP\"]<desired_price].tail(1)[\"Name\"].iloc[0]\n",
    "        print(\"Sold call sell at and Symbol\",call_sell,call_symbol)\n",
    "    if option_type == \"PE\":\n",
    "        put_script_code = put_option_chain[put_option_chain[\"LTP\"]<desired_price].tail(1)[\"Scripcode\"].iloc[0]\n",
    "        put_sell = put_option_chain[put_option_chain[\"LTP\"]<desired_price].tail(1)[\"LTP\"].iloc[0]\n",
    "        put_symbol = put_option_chain[put_option_chain[\"LTP\"]<desired_price].tail(1)[\"Name\"].iloc[0]\n",
    "        print(\"Sold put sell at and Symbol\",put_sell,put_symbol)\n",
    "\n",
    "    \n",
    "    \n",
    "\n",
    "\n",
    "    "
   ]
  },
  {
   "cell_type": "code",
   "execution_count": 14,
   "id": "b9b1980f",
   "metadata": {},
   "outputs": [
    {
     "name": "stdout",
     "output_type": "stream",
     "text": [
      " 00:19:20 | 'body'\n"
     ]
    }
   ],
   "source": [
    "client.get_tradebook()"
   ]
  }
 ],
 "metadata": {
  "kernelspec": {
   "display_name": "Python 3 (ipykernel)",
   "language": "python",
   "name": "python3"
  },
  "language_info": {
   "codemirror_mode": {
    "name": "ipython",
    "version": 3
   },
   "file_extension": ".py",
   "mimetype": "text/x-python",
   "name": "python",
   "nbconvert_exporter": "python",
   "pygments_lexer": "ipython3",
   "version": "3.10.2"
  }
 },
 "nbformat": 4,
 "nbformat_minor": 5
}
