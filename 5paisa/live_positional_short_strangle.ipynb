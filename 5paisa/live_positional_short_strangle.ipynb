{
 "cells": [
  {
   "cell_type": "code",
   "execution_count": 1,
   "metadata": {},
   "outputs": [],
   "source": [
    "from py5paisa import FivePaisaClient\n",
    "from py5paisa.order import Order, OrderType, Exchange\n",
    "import time\n",
    "import pandas as pd\n",
    "import warnings\n",
    "from datetime import datetime\n",
    "\n",
    "warnings.filterwarnings(\"ignore\", category=FutureWarning)"
   ]
  },
  {
   "cell_type": "code",
   "execution_count": 2,
   "metadata": {},
   "outputs": [
    {
     "name": "stdout",
     "output_type": "stream",
     "text": [
      " 10:30:59 | Logged in!!\n"
     ]
    }
   ],
   "source": [
    "def login():\n",
    "    cred = {\n",
    "        \"APP_NAME\": \"5P56409084\",\n",
    "        \"APP_SOURCE\": \"9217\",\n",
    "        \"USER_ID\": \"pybeQPEbjju\",\n",
    "        \"PASSWORD\": \"AESDZQGqyAa\",\n",
    "        \"USER_KEY\": \"542GTEZguBbLERUXRZe26rLvfWU2X2KD\",\n",
    "        \"ENCRYPTION_KEY\": \"l8sRTIsjl1JhUrz8X48XQJzKGI4k0gft\",\n",
    "    }\n",
    "    client = FivePaisaClient(\n",
    "        email=\"vasuappliedai@gmail.com\", passwd=\"Vasudeva@1\", dob=\"19981218\", cred=cred\n",
    "    )\n",
    "    client.login()\n",
    "\n",
    "login()"
   ]
  },
  {
   "cell_type": "code",
   "execution_count": 3,
   "metadata": {},
   "outputs": [],
   "source": [
    "nifty_script_code = 999920000\n",
    "banknifty_script_code = 999920005\n",
    "given_date = datetime.today().strftime(\"%Y-%m-%d\")\n",
    "script_df = pd.read_csv(\"scripmaster-csv-format.csv\",low_memory=False)\n",
    "bank_nifty_symbol = \"BANKNIFTY 12 May 2022\"\n",
    "expiry=\"20220512\""
   ]
  },
  {
   "cell_type": "code",
   "execution_count": 10,
   "metadata": {},
   "outputs": [],
   "source": [
    "def rounded_number(number):\n",
    "    return (round(number / 1000, 1) * 1000).astype(int)\n",
    "\n",
    "def get_current_hours_mins():\n",
    "    return datetime.today().hour,datetime.today().minute"
   ]
  },
  {
   "cell_type": "code",
   "execution_count": 5,
   "metadata": {},
   "outputs": [],
   "source": [
    "def get_current_expiry_strikes(symbol):\n",
    "    strikePrice = client.historical_data(\"N\", \"C\", banknifty_script_code, \"1m\", given_date, given_date)[\"Open\"].iloc[15]\n",
    "    strikePrice = rounded_number(strikePrice)\n",
    "    start_strike = strikePrice*0.9\n",
    "    end_strike = strikePrice*1.1\n",
    "    temp_df = script_df[\"FullName\"].str.contains(pat=symbol + \" CE\", regex=True)\n",
    "    call_df = script_df[temp_df]\n",
    "    call_df = call_df[call_df[\"StrikeRate\"] > start_strike]\n",
    "    call_df = call_df[call_df[\"StrikeRate\"] < end_strike]\n",
    "    call_df.to_csv(\"bank_nifty_call_expiry.csv\")\n",
    "    temp_df = script_df[\"FullName\"].str.contains(\n",
    "        pat=symbol + \" PE\", regex=True)\n",
    "    put_df = script_df[temp_df]\n",
    "    put_df = put_df[put_df[\"StrikeRate\"] > start_strike]\n",
    "    put_df = put_df[put_df[\"StrikeRate\"] < end_strike]\n",
    "    put_df.to_csv(\"bank_nifty_put_expiry.csv\")\n",
    "    return call_df, put_df\n",
    "\n",
    "def map_prices_to_strike_prices(data_frame):\n",
    "    temp_rows = []\n",
    "    for _, row in data_frame.iterrows():\n",
    "        script_code = row[\"Scripcode\"]\n",
    "        try:\n",
    "            close_point = client.historical_data(\"N\", \"D\", script_code, \"1m\",\n",
    "                                                        given_date, given_date).tail(1)\n",
    "            temp_rows.append(close_point[\"Close\"].iloc[0])\n",
    "        except:\n",
    "            temp_rows.append(9999)\n",
    "            continue\n",
    "    data_frame[\"LTP\"] = temp_rows\n",
    "    return data_frame.sort_values(by=[\"LTP\"])\n",
    "\n",
    "def adjust_strangle(option_type,desired_price):\n",
    "    call_df, put_df = get_current_expiry_strikes(bank_nifty_symbol, strikePrice*0.9, strikePrice*1.1)\n",
    "    if option_type == \"CE\":\n",
    "        call_option_chain = map_prices_to_strike_prices(call_df)\n",
    "        desired_call_df = call_option_chain[call_option_chain[\"LTP\"]<desired_price].tail(1)\n",
    "        call_script_code = desired_call_df[\"Scripcode\"].iloc[0]\n",
    "        call_sell = desired_call_df[\"LTP\"].iloc[0]\n",
    "        call_symbol = desired_call_df[\"Name\"].iloc[0]\n",
    "        call_strike = desired_call_df[\"StrikeRate\"].iloc[0]\n",
    "        print(\"Sold call call_sell, call_symbol, call_script_code \",call_sell,call_symbol, call_script_code)\n",
    "        return call_sell,call_symbol,call_script_code,call_strike\n",
    "    if option_type == \"PE\":\n",
    "        put_option_chain = map_prices_to_strike_prices(put_df,entry_point)\n",
    "        desired_put_df = put_option_chain[put_option_chain[\"LTP\"]<desired_price].tail(1)\n",
    "        put_script_code = desired_put_df[\"Scripcode\"].iloc[0]\n",
    "        put_sell = desired_put_df[\"LTP\"].iloc[0]\n",
    "        put_symbol = desired_put_df[\"Name\"].iloc[0]\n",
    "        put_strike = desired_put_df[\"StrikeRate\"].iloc[0]\n",
    "        print(\"Sold put sell put_sell, put_symbol, put_script_code \",put_sell,put_symbol,put_script_code)\n",
    "        return put_sell,put_symbol,put_script_code,put_strike\n",
    "\n",
    "def start_strangle_fn(entry_time,call_script_code,put_script_code):\n",
    "    call_df = client.historical_data('N','D',call_script_code,'1m',given_date,given_date)\n",
    "    call_df[\"Datetime\"] = pd.to_datetime(call_df[\"Datetime\"])\n",
    "    call_df[\"Close CE\"] = call_df[\"Close\"]\n",
    "    call_df = call_df[call_df[\"Datetime\"]>datetime.fromisoformat(entry_time)]\n",
    "    call_df = call_df[[\"Datetime\",\"Close CE\"]]\n",
    "    put_df = client.historical_data('N','D',put_script_code,'1m',given_date,given_date)\n",
    "    put_df[\"Datetime\"] = pd.to_datetime(put_df[\"Datetime\"])\n",
    "    put_df[\"Close PE\"] = put_df[\"Close\"]\n",
    "    put_df = put_df[put_df[\"Datetime\"]>datetime.fromisoformat(entry_time)]\n",
    "    put_df = put_df[[\"Datetime\",\"Close PE\"]]\n",
    "    merged_df = pd.merge(call_df,put_df,on=\"Datetime\")\n",
    "    for index,row in merged_df.iterrows() : \n",
    "        call_point = row[\"Close CE\"]\n",
    "        put_point = row[\"Close PE\"]\n",
    "        if(call_point*0.5 > put_point):\n",
    "            print(\"PE is half of CE at time, call_price and put_price \",row[\"Datetime\"],call_point,put_point)\n",
    "            adjust_strangle(\"PE\",call_point*0.85,row[\"Datetime\"])\n",
    "            return \"PE\",row[\"Datetime\"]\n",
    "        elif(call_point < put_point*0.5):        \n",
    "            print(\"CE is half of PE at index, call_price and put_price \",row[\"Datetime\"],call_point,put_point)\n",
    "            adjust_strangle(\"CE\",put_point*0.85,row[\"Datetime\"])\n",
    "            return \"CE\",row[\"Datetime\"]\n",
    "\n",
    "def init_strangle():\n",
    "    call_df, put_df = get_current_expiry_strikes(bank_nifty_symbol)\n",
    "    call_option_chain = map_prices_to_strike_prices(call_df)\n",
    "    put_option_chain = map_prices_to_strike_prices(put_df)\n",
    "    desired_price = 125\n",
    "    call_point = call_option_chain[call_option_chain[\"LTP\"]<desired_price].tail(1)\n",
    "    put_point = put_option_chain[put_option_chain[\"LTP\"]<desired_price].tail(1)\n",
    "    \n",
    "    call_symbol = call_point[\"FullName\"].iloc[0]\n",
    "    put_symbol = put_point[\"FullName\"].iloc[0]\n",
    "    call_script_code = int(call_point[\"Scripcode\"].iloc[0])\n",
    "    put_script_code = int(put_point[\"Scripcode\"].iloc[0])\n",
    "    call_strike = call_point[\"StrikeRate\"].iloc[0]\n",
    "    put_strike = put_point[\"StrikeRate\"].iloc[0]\n",
    "    call_symbol,put_symbol,call_script_code,put_script_code\n",
    "\n",
    "    req_list = [\n",
    "        {\n",
    "            \"Exch\": \"N\",\n",
    "            \"ExchType\": \"D\",\n",
    "            \"Symbol\": call_symbol,\n",
    "            \"Expiry\": expiry,\n",
    "            \"StrikePrice\": call_strike,\n",
    "            \"OptionType\": \"CE\",\n",
    "        },\n",
    "        {\n",
    "            \"Exch\": \"N\",\n",
    "            \"ExchType\": \"D\",\n",
    "            \"Symbol\": put_symbol,\n",
    "            \"Expiry\": expiry,\n",
    "            \"StrikePrice\": put_strike,\n",
    "            \"OptionType\": \"PE\",\n",
    "        },\n",
    "    ]\n",
    "\n",
    "    prices = get_price_from_request(req_list)\n",
    "    call_price = prices[0]\n",
    "    call_order_id = place_order(order_type=\"S\",script_code=call_script_code,price=call_price)\n",
    "    put_price = prices[1]\n",
    "    put_order_id = place_order(order_type=\"S\",script_code=put_script_code,price=call_price)\n",
    "    \n",
    "    return call_point,put_point"
   ]
  },
  {
   "cell_type": "code",
   "execution_count": 6,
   "metadata": {},
   "outputs": [],
   "source": [
    "def get_order_book():\n",
    "    order_book =client.order_book()\n",
    "    if order_book is None:\n",
    "        for i in range(3):\n",
    "            time.sleep(5)\n",
    "            order_book =client.order_book()\n",
    "            if order_book is not None:\n",
    "                return order_book\n",
    "    return order_book\n",
    "\n",
    "def get_order_id(broker_order_id):\n",
    "    order_book = get_order_book()\n",
    "    for order in order_book:\n",
    "        if(order[\"BrokerOrderId\"] == broker_order_id):\n",
    "            return order[\"ExchOrderID\"]\n",
    "    return None\n",
    "\n",
    "def get_price_from_request(req_list):\n",
    "    data = client.fetch_market_feed(req_list)[\"Data\"]\n",
    "    if data is None:\n",
    "        return []\n",
    "    return list(map( lambda x: x[\"LastRate\"] ,data))\n",
    "    \n",
    "def place_order(order_type,script_code,price):\n",
    "    order = Order(order_type=order_type,exchange='N',exchange_segment='D', scrip_code = script_code, quantity=25, \n",
    "                    price=price,is_intraday=False,remote_order_id=\"tag\")\n",
    "    broker_order_id = client.place_order(order)['BrokerOrderID']\n",
    "    time.sleep(5)\n",
    "    return get_order_id(broker_order_id)"
   ]
  },
  {
   "cell_type": "code",
   "execution_count": null,
   "metadata": {},
   "outputs": [],
   "source": [
    "call_point,put_point = init_strangle()"
   ]
  },
  {
   "cell_type": "code",
   "execution_count": 11,
   "metadata": {},
   "outputs": [
    {
     "data": {
      "text/plain": [
       "(10, 33)"
      ]
     },
     "execution_count": 11,
     "metadata": {},
     "output_type": "execute_result"
    }
   ],
   "source": [
    "get_current_hours_mins()"
   ]
  },
  {
   "cell_type": "code",
   "execution_count": 39,
   "metadata": {},
   "outputs": [
    {
     "name": "stdout",
     "output_type": "stream",
     "text": [
      " 23:31:10 | Success\n"
     ]
    }
   ],
   "source": [
    "def watch_strangle(call_point,put_point):\n",
    "\n",
    "    call_symbol = call_point[\"FullName\"].iloc[0]\n",
    "    put_symbol = put_point[\"FullName\"].iloc[0]\n",
    "    call_script_code = int(call_point[\"Scripcode\"].iloc[0])\n",
    "    put_script_code = int(put_point[\"Scripcode\"].iloc[0])\n",
    "    call_strike = call_point[\"StrikeRate\"].iloc[0]\n",
    "    put_strike = put_point[\"StrikeRate\"].iloc[0]\n",
    "    call_symbol,put_symbol,call_script_code,put_script_code\n",
    "\n",
    "    while hours!=15 and minutes!=20:\n",
    "        req_list = [\n",
    "            {\n",
    "                \"Exch\": \"N\",\n",
    "                \"ExchType\": \"D\",\n",
    "                \"Symbol\": call_symbol,\n",
    "                \"Expiry\": expiry,\n",
    "                \"StrikePrice\": call_strike,\n",
    "                \"OptionType\": \"CE\",\n",
    "            },\n",
    "            {\n",
    "                \"Exch\": \"N\",\n",
    "                \"ExchType\": \"D\",\n",
    "                \"Symbol\": put_symbol,\n",
    "                \"Expiry\": expiry,\n",
    "                \"StrikePrice\": put_strike,\n",
    "                \"OptionType\": \"PE\",\n",
    "            },\n",
    "        ]\n",
    "\n",
    "        prices = get_price_from_request(req_list)\n",
    "        call_price = prices[0]\n",
    "        put_price = prices[1]\n",
    "        if(call_price <= put_price/2):\n",
    "            print(\"Needs Adjustment Here at Call\")\n",
    "            call_sell,call_symbol,call_script_code,call_strike = adjust_strangle(\"CE\",put_price*0.85)\n",
    "        elif(put_price <= call_price/2):\n",
    "            print(\"Needs Adjustment Here at Put\")\n",
    "            put_sell,put_symbol,put_script_code,put_strike = adjust_strangle(\"PE\",call_price*0.85)            \n",
    "        else:\n",
    "            time.sleep(60)\n",
    "        hours, minutes = get_current_hours_mins()\n",
    "\n",
    "watch_strangle(call_point,put_point)"
   ]
  }
 ],
 "metadata": {
  "interpreter": {
   "hash": "ca098deafe9106c986d490fc5d08ba3b487be8226f0c979f06e58f612c732309"
  },
  "kernelspec": {
   "display_name": "Python 3.10.2 64-bit",
   "language": "python",
   "name": "python3"
  },
  "language_info": {
   "codemirror_mode": {
    "name": "ipython",
    "version": 3
   },
   "file_extension": ".py",
   "mimetype": "text/x-python",
   "name": "python",
   "nbconvert_exporter": "python",
   "pygments_lexer": "ipython3",
   "version": "3.10.2"
  },
  "orig_nbformat": 4
 },
 "nbformat": 4,
 "nbformat_minor": 2
}
